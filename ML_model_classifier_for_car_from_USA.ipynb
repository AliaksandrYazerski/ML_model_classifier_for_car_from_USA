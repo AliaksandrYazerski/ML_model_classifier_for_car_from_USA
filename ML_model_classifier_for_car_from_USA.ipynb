{
 "cells": [
  {
   "cell_type": "code",
   "execution_count": 1,
   "id": "a0738891",
   "metadata": {},
   "outputs": [],
   "source": [
    "import pandas as pd\n",
    "import missingno as msno\n",
    "import pickle\n",
    "\n",
    "from sklearn.linear_model import LogisticRegression\n",
    "from sklearn.neural_network import MLPClassifier\n",
    "from sklearn.ensemble import RandomForestClassifier\n",
    "from sklearn.metrics import accuracy_score, confusion_matrix\n",
    "from sklearn.model_selection import train_test_split, cross_validate, cross_val_score \n",
    "from sklearn.preprocessing import OneHotEncoder, StandardScaler"
   ]
  },
  {
   "cell_type": "code",
   "execution_count": 2,
   "id": "dd1b4123",
   "metadata": {},
   "outputs": [
    {
     "name": "stdout",
     "output_type": "stream",
     "text": [
      "(10000, 20)\n"
     ]
    },
    {
     "data": {
      "text/html": [
       "<div>\n",
       "<style scoped>\n",
       "    .dataframe tbody tr th:only-of-type {\n",
       "        vertical-align: middle;\n",
       "    }\n",
       "\n",
       "    .dataframe tbody tr th {\n",
       "        vertical-align: top;\n",
       "    }\n",
       "\n",
       "    .dataframe thead th {\n",
       "        text-align: right;\n",
       "    }\n",
       "</style>\n",
       "<table border=\"1\" class=\"dataframe\">\n",
       "  <thead>\n",
       "    <tr style=\"text-align: right;\">\n",
       "      <th></th>\n",
       "      <th>id</th>\n",
       "      <th>url</th>\n",
       "      <th>region</th>\n",
       "      <th>region_url</th>\n",
       "      <th>price</th>\n",
       "      <th>year</th>\n",
       "      <th>manufacturer</th>\n",
       "      <th>model</th>\n",
       "      <th>fuel</th>\n",
       "      <th>odometer</th>\n",
       "      <th>title_status</th>\n",
       "      <th>transmission</th>\n",
       "      <th>image_url</th>\n",
       "      <th>description</th>\n",
       "      <th>state</th>\n",
       "      <th>lat</th>\n",
       "      <th>long</th>\n",
       "      <th>posting_date</th>\n",
       "      <th>price_category</th>\n",
       "      <th>date</th>\n",
       "    </tr>\n",
       "  </thead>\n",
       "  <tbody>\n",
       "    <tr>\n",
       "      <th>0</th>\n",
       "      <td>7308295377</td>\n",
       "      <td>https://chattanooga.craigslist.org/ctd/d/chatt...</td>\n",
       "      <td>chattanooga</td>\n",
       "      <td>https://chattanooga.craigslist.org</td>\n",
       "      <td>54990</td>\n",
       "      <td>2020.0</td>\n",
       "      <td>ram</td>\n",
       "      <td>2500 crew cab big horn</td>\n",
       "      <td>diesel</td>\n",
       "      <td>27442</td>\n",
       "      <td>clean</td>\n",
       "      <td>other</td>\n",
       "      <td>https://images.craigslist.org/00N0N_1xMPvfxRAI...</td>\n",
       "      <td>Carvana is the safer way to buy a car During t...</td>\n",
       "      <td>tn</td>\n",
       "      <td>35.060000</td>\n",
       "      <td>-85.250000</td>\n",
       "      <td>2021-04-17T12:30:50-0400</td>\n",
       "      <td>high</td>\n",
       "      <td>2021-04-17 16:30:50+00:00</td>\n",
       "    </tr>\n",
       "    <tr>\n",
       "      <th>1</th>\n",
       "      <td>7316380095</td>\n",
       "      <td>https://newjersey.craigslist.org/ctd/d/carlsta...</td>\n",
       "      <td>north jersey</td>\n",
       "      <td>https://newjersey.craigslist.org</td>\n",
       "      <td>16942</td>\n",
       "      <td>2016.0</td>\n",
       "      <td>ford</td>\n",
       "      <td>explorer 4wd 4dr xlt</td>\n",
       "      <td>NaN</td>\n",
       "      <td>60023</td>\n",
       "      <td>clean</td>\n",
       "      <td>automatic</td>\n",
       "      <td>https://images.craigslist.org/00x0x_26jl9F0cnL...</td>\n",
       "      <td>***Call Us for more information at: 201-635-14...</td>\n",
       "      <td>nj</td>\n",
       "      <td>40.821805</td>\n",
       "      <td>-74.061962</td>\n",
       "      <td>2021-05-03T15:40:21-0400</td>\n",
       "      <td>medium</td>\n",
       "      <td>2021-05-03 19:40:21+00:00</td>\n",
       "    </tr>\n",
       "    <tr>\n",
       "      <th>2</th>\n",
       "      <td>7313733749</td>\n",
       "      <td>https://reno.craigslist.org/ctd/d/atlanta-2017...</td>\n",
       "      <td>reno / tahoe</td>\n",
       "      <td>https://reno.craigslist.org</td>\n",
       "      <td>35590</td>\n",
       "      <td>2017.0</td>\n",
       "      <td>volkswagen</td>\n",
       "      <td>golf r hatchback</td>\n",
       "      <td>gas</td>\n",
       "      <td>14048</td>\n",
       "      <td>clean</td>\n",
       "      <td>other</td>\n",
       "      <td>https://images.craigslist.org/00y0y_eeZjWeiSfb...</td>\n",
       "      <td>Carvana is the safer way to buy a car During t...</td>\n",
       "      <td>ca</td>\n",
       "      <td>33.779214</td>\n",
       "      <td>-84.411811</td>\n",
       "      <td>2021-04-28T03:52:20-0700</td>\n",
       "      <td>high</td>\n",
       "      <td>2021-04-28 10:52:20+00:00</td>\n",
       "    </tr>\n",
       "    <tr>\n",
       "      <th>3</th>\n",
       "      <td>7308210929</td>\n",
       "      <td>https://fayetteville.craigslist.org/ctd/d/rale...</td>\n",
       "      <td>fayetteville</td>\n",
       "      <td>https://fayetteville.craigslist.org</td>\n",
       "      <td>14500</td>\n",
       "      <td>2013.0</td>\n",
       "      <td>toyota</td>\n",
       "      <td>rav4</td>\n",
       "      <td>gas</td>\n",
       "      <td>117291</td>\n",
       "      <td>clean</td>\n",
       "      <td>automatic</td>\n",
       "      <td>https://images.craigslist.org/00606_iGe5iXidib...</td>\n",
       "      <td>2013 Toyota RAV4 XLE 4dr SUV     Offered by: R...</td>\n",
       "      <td>nc</td>\n",
       "      <td>35.715954</td>\n",
       "      <td>-78.655304</td>\n",
       "      <td>2021-04-17T10:08:57-0400</td>\n",
       "      <td>medium</td>\n",
       "      <td>2021-04-17 14:08:57+00:00</td>\n",
       "    </tr>\n",
       "    <tr>\n",
       "      <th>4</th>\n",
       "      <td>7316474668</td>\n",
       "      <td>https://newyork.craigslist.org/lgi/cto/d/baldw...</td>\n",
       "      <td>new york city</td>\n",
       "      <td>https://newyork.craigslist.org</td>\n",
       "      <td>21800</td>\n",
       "      <td>2021.0</td>\n",
       "      <td>nissan</td>\n",
       "      <td>altima</td>\n",
       "      <td>gas</td>\n",
       "      <td>8000</td>\n",
       "      <td>clean</td>\n",
       "      <td>automatic</td>\n",
       "      <td>https://images.craigslist.org/00V0V_3pSOiPZ3Sd...</td>\n",
       "      <td>2021 Nissan Altima Sv with Only 8 K Miles Titl...</td>\n",
       "      <td>ny</td>\n",
       "      <td>40.654800</td>\n",
       "      <td>-73.609700</td>\n",
       "      <td>2021-05-03T18:32:06-0400</td>\n",
       "      <td>medium</td>\n",
       "      <td>2021-05-03 22:32:06+00:00</td>\n",
       "    </tr>\n",
       "  </tbody>\n",
       "</table>\n",
       "</div>"
      ],
      "text/plain": [
       "           id                                                url  \\\n",
       "0  7308295377  https://chattanooga.craigslist.org/ctd/d/chatt...   \n",
       "1  7316380095  https://newjersey.craigslist.org/ctd/d/carlsta...   \n",
       "2  7313733749  https://reno.craigslist.org/ctd/d/atlanta-2017...   \n",
       "3  7308210929  https://fayetteville.craigslist.org/ctd/d/rale...   \n",
       "4  7316474668  https://newyork.craigslist.org/lgi/cto/d/baldw...   \n",
       "\n",
       "          region                           region_url  price    year  \\\n",
       "0    chattanooga   https://chattanooga.craigslist.org  54990  2020.0   \n",
       "1   north jersey     https://newjersey.craigslist.org  16942  2016.0   \n",
       "2   reno / tahoe          https://reno.craigslist.org  35590  2017.0   \n",
       "3   fayetteville  https://fayetteville.craigslist.org  14500  2013.0   \n",
       "4  new york city       https://newyork.craigslist.org  21800  2021.0   \n",
       "\n",
       "  manufacturer                   model    fuel  odometer title_status  \\\n",
       "0          ram  2500 crew cab big horn  diesel     27442        clean   \n",
       "1         ford    explorer 4wd 4dr xlt     NaN     60023        clean   \n",
       "2   volkswagen        golf r hatchback     gas     14048        clean   \n",
       "3       toyota                    rav4     gas    117291        clean   \n",
       "4       nissan                  altima     gas      8000        clean   \n",
       "\n",
       "  transmission                                          image_url  \\\n",
       "0        other  https://images.craigslist.org/00N0N_1xMPvfxRAI...   \n",
       "1    automatic  https://images.craigslist.org/00x0x_26jl9F0cnL...   \n",
       "2        other  https://images.craigslist.org/00y0y_eeZjWeiSfb...   \n",
       "3    automatic  https://images.craigslist.org/00606_iGe5iXidib...   \n",
       "4    automatic  https://images.craigslist.org/00V0V_3pSOiPZ3Sd...   \n",
       "\n",
       "                                         description state        lat  \\\n",
       "0  Carvana is the safer way to buy a car During t...    tn  35.060000   \n",
       "1  ***Call Us for more information at: 201-635-14...    nj  40.821805   \n",
       "2  Carvana is the safer way to buy a car During t...    ca  33.779214   \n",
       "3  2013 Toyota RAV4 XLE 4dr SUV     Offered by: R...    nc  35.715954   \n",
       "4  2021 Nissan Altima Sv with Only 8 K Miles Titl...    ny  40.654800   \n",
       "\n",
       "        long              posting_date price_category  \\\n",
       "0 -85.250000  2021-04-17T12:30:50-0400           high   \n",
       "1 -74.061962  2021-05-03T15:40:21-0400         medium   \n",
       "2 -84.411811  2021-04-28T03:52:20-0700           high   \n",
       "3 -78.655304  2021-04-17T10:08:57-0400         medium   \n",
       "4 -73.609700  2021-05-03T18:32:06-0400         medium   \n",
       "\n",
       "                        date  \n",
       "0  2021-04-17 16:30:50+00:00  \n",
       "1  2021-05-03 19:40:21+00:00  \n",
       "2  2021-04-28 10:52:20+00:00  \n",
       "3  2021-04-17 14:08:57+00:00  \n",
       "4  2021-05-03 22:32:06+00:00  "
      ]
     },
     "execution_count": 2,
     "metadata": {},
     "output_type": "execute_result"
    }
   ],
   "source": [
    "df = pd.read_csv('data/vehicles_dataset.csv')\n",
    "print(df.shape)\n",
    "df.head()"
   ]
  },
  {
   "cell_type": "markdown",
   "id": "9acafcb4",
   "metadata": {},
   "source": [
    "**Data description:**\n",
    "\n",
    "- `id`: entry ID;\n",
    "- `url`: sales record URL;\n",
    "- `region`: region;\n",
    "- `region_url`: URL region;\n",
    "- `price`: car price;\n",
    "- `year`: release year;\n",
    "- `manufacturer`: car manufacturer;\n",
    "- `model`: car model;\n",
    "- `fuel`: type of fuel;\n",
    "- `odometer`: count of miles traveled;\n",
    "- `title_status`: status;\n",
    "- `transmission`: type of transmission;\n",
    "- `image_url`: URL car image;\n",
    "- `description`: vehicle description;\n",
    "- `state`: state of the USA;\n",
    "- `lat`: latitude;\n",
    "- `long`: longitude;\n",
    "- `posting_date`: announcement date of the sale;\n",
    "- `price_category`: car price category;\n",
    "- `date`: announcement date of the sale in date format."
   ]
  },
  {
   "cell_type": "markdown",
   "id": "b953a8d2",
   "metadata": {
    "heading_collapsed": true
   },
   "source": [
    "# Data Preparation"
   ]
  },
  {
   "cell_type": "code",
   "execution_count": 3,
   "id": "853c1b80",
   "metadata": {
    "hidden": true
   },
   "outputs": [
    {
     "name": "stdout",
     "output_type": "stream",
     "text": [
      "<class 'pandas.core.frame.DataFrame'>\n",
      "RangeIndex: 10000 entries, 0 to 9999\n",
      "Data columns (total 20 columns):\n",
      " #   Column          Non-Null Count  Dtype  \n",
      "---  ------          --------------  -----  \n",
      " 0   id              10000 non-null  int64  \n",
      " 1   url             10000 non-null  object \n",
      " 2   region          10000 non-null  object \n",
      " 3   region_url      10000 non-null  object \n",
      " 4   price           10000 non-null  int64  \n",
      " 5   year            9964 non-null   float64\n",
      " 6   manufacturer    10000 non-null  object \n",
      " 7   model           9872 non-null   object \n",
      " 8   fuel            9937 non-null   object \n",
      " 9   odometer        10000 non-null  int64  \n",
      " 10  title_status    9834 non-null   object \n",
      " 11  transmission    9955 non-null   object \n",
      " 12  image_url       9998 non-null   object \n",
      " 13  description     9998 non-null   object \n",
      " 14  state           10000 non-null  object \n",
      " 15  lat             9902 non-null   float64\n",
      " 16  long            9902 non-null   float64\n",
      " 17  posting_date    9998 non-null   object \n",
      " 18  price_category  10000 non-null  object \n",
      " 19  date            9998 non-null   object \n",
      "dtypes: float64(3), int64(3), object(14)\n",
      "memory usage: 1.5+ MB\n"
     ]
    }
   ],
   "source": [
    "df.info()"
   ]
  },
  {
   "cell_type": "markdown",
   "id": "037ddb8c",
   "metadata": {
    "heading_collapsed": true,
    "hidden": true
   },
   "source": [
    "## Data cleaning"
   ]
  },
  {
   "cell_type": "markdown",
   "id": "f7713bc3",
   "metadata": {
    "heading_collapsed": true,
    "hidden": true
   },
   "source": [
    "### Check for duplicates"
   ]
  },
  {
   "cell_type": "code",
   "execution_count": 4,
   "id": "4dcedc2a",
   "metadata": {
    "hidden": true
   },
   "outputs": [
    {
     "data": {
      "text/html": [
       "<div>\n",
       "<style scoped>\n",
       "    .dataframe tbody tr th:only-of-type {\n",
       "        vertical-align: middle;\n",
       "    }\n",
       "\n",
       "    .dataframe tbody tr th {\n",
       "        vertical-align: top;\n",
       "    }\n",
       "\n",
       "    .dataframe thead th {\n",
       "        text-align: right;\n",
       "    }\n",
       "</style>\n",
       "<table border=\"1\" class=\"dataframe\">\n",
       "  <thead>\n",
       "    <tr style=\"text-align: right;\">\n",
       "      <th></th>\n",
       "      <th>id</th>\n",
       "      <th>url</th>\n",
       "      <th>region</th>\n",
       "      <th>region_url</th>\n",
       "      <th>price</th>\n",
       "      <th>year</th>\n",
       "      <th>manufacturer</th>\n",
       "      <th>model</th>\n",
       "      <th>fuel</th>\n",
       "      <th>odometer</th>\n",
       "      <th>title_status</th>\n",
       "      <th>transmission</th>\n",
       "      <th>image_url</th>\n",
       "      <th>description</th>\n",
       "      <th>state</th>\n",
       "      <th>lat</th>\n",
       "      <th>long</th>\n",
       "      <th>posting_date</th>\n",
       "      <th>price_category</th>\n",
       "      <th>date</th>\n",
       "    </tr>\n",
       "  </thead>\n",
       "  <tbody>\n",
       "  </tbody>\n",
       "</table>\n",
       "</div>"
      ],
      "text/plain": [
       "Empty DataFrame\n",
       "Columns: [id, url, region, region_url, price, year, manufacturer, model, fuel, odometer, title_status, transmission, image_url, description, state, lat, long, posting_date, price_category, date]\n",
       "Index: []"
      ]
     },
     "execution_count": 4,
     "metadata": {},
     "output_type": "execute_result"
    }
   ],
   "source": [
    "df[df.duplicated()]"
   ]
  },
  {
   "cell_type": "markdown",
   "id": "9fb0dcd8",
   "metadata": {
    "heading_collapsed": true,
    "hidden": true
   },
   "source": [
    "### Check for NaN"
   ]
  },
  {
   "cell_type": "code",
   "execution_count": 5,
   "id": "2966d731",
   "metadata": {
    "hidden": true
   },
   "outputs": [
    {
     "data": {
      "text/plain": [
       "<AxesSubplot:>"
      ]
     },
     "execution_count": 5,
     "metadata": {},
     "output_type": "execute_result"
    },
    {
     "data": {
      "image/png": "[encoded data removed]",
      "text/plain": [
       "<Figure size 1800x720 with 3 Axes>"
      ]
     },
     "metadata": {
      "needs_background": "light"
     },
     "output_type": "display_data"
    }
   ],
   "source": [
    "msno.bar(df)"
   ]
  },
  {
   "cell_type": "code",
   "execution_count": 6,
   "id": "64aea478",
   "metadata": {
    "hidden": true
   },
   "outputs": [
    {
     "name": "stdout",
     "output_type": "stream",
     "text": [
      "Count of fully filled objects from the entire sample: 9507 \n",
      "Percentage of fully filled objects from the entire sample: 95.07\n"
     ]
    }
   ],
   "source": [
    "def print_useful_rows_info(df):\n",
    "    print(\n",
    "        f'Count of fully filled objects from the entire sample: {len(df.dropna())} \\n'\n",
    "        f'Percentage of fully filled objects from the entire sample: {round(len(df.dropna()) / len(df) * 100, 2)}'\n",
    "        )\n",
    "    \n",
    "print_useful_rows_info(df)"
   ]
  },
  {
   "cell_type": "code",
   "execution_count": 7,
   "id": "c84017ba",
   "metadata": {
    "hidden": true
   },
   "outputs": [
    {
     "data": {
      "text/plain": [
       "title_status      1.66\n",
       "model             1.28\n",
       "long              0.98\n",
       "lat               0.98\n",
       "fuel              0.63\n",
       "transmission      0.45\n",
       "year              0.36\n",
       "posting_date      0.02\n",
       "description       0.02\n",
       "image_url         0.02\n",
       "date              0.02\n",
       "url               0.00\n",
       "odometer          0.00\n",
       "manufacturer      0.00\n",
       "state             0.00\n",
       "price             0.00\n",
       "region_url        0.00\n",
       "region            0.00\n",
       "price_category    0.00\n",
       "id                0.00\n",
       "dtype: float64"
      ]
     },
     "execution_count": 7,
     "metadata": {},
     "output_type": "execute_result"
    }
   ],
   "source": [
    "missing_values = (df.isna().sum() / len(df) * 100).sort_values(ascending=False)\n",
    "missing_values"
   ]
  },
  {
   "cell_type": "code",
   "execution_count": 8,
   "id": "2bc1bf09",
   "metadata": {
    "hidden": true
   },
   "outputs": [],
   "source": [
    "df_clean = df.copy()"
   ]
  },
  {
   "cell_type": "markdown",
   "id": "c0f7dc84",
   "metadata": {
    "heading_collapsed": true,
    "hidden": true
   },
   "source": [
    "#### Handling NaN in a  column: \"title_status\""
   ]
  },
  {
   "cell_type": "code",
   "execution_count": 9,
   "id": "542a1b6a",
   "metadata": {
    "hidden": true
   },
   "outputs": [
    {
     "name": "stdout",
     "output_type": "stream",
     "text": [
      "Total values: 10000\n"
     ]
    },
    {
     "data": {
      "text/plain": [
       "clean         9518\n",
       "rebuilt        171\n",
       "NaN            166\n",
       "salvage         92\n",
       "lien            35\n",
       "missing         16\n",
       "parts only       2\n",
       "Name: title_status, dtype: int64"
      ]
     },
     "execution_count": 9,
     "metadata": {},
     "output_type": "execute_result"
    }
   ],
   "source": [
    "print('Total values:', df_clean.title_status.value_counts(dropna=False).sum())\n",
    "df_clean.title_status.value_counts(dropna=False)"
   ]
  },
  {
   "cell_type": "code",
   "execution_count": 10,
   "id": "3f422f8b",
   "metadata": {
    "hidden": true
   },
   "outputs": [
    {
     "data": {
      "text/html": [
       "<div>\n",
       "<style scoped>\n",
       "    .dataframe tbody tr th:only-of-type {\n",
       "        vertical-align: middle;\n",
       "    }\n",
       "\n",
       "    .dataframe tbody tr th {\n",
       "        vertical-align: top;\n",
       "    }\n",
       "\n",
       "    .dataframe thead th {\n",
       "        text-align: right;\n",
       "    }\n",
       "</style>\n",
       "<table border=\"1\" class=\"dataframe\">\n",
       "  <thead>\n",
       "    <tr style=\"text-align: right;\">\n",
       "      <th></th>\n",
       "      <th>id</th>\n",
       "      <th>url</th>\n",
       "      <th>region</th>\n",
       "      <th>region_url</th>\n",
       "      <th>price</th>\n",
       "      <th>year</th>\n",
       "      <th>manufacturer</th>\n",
       "      <th>model</th>\n",
       "      <th>fuel</th>\n",
       "      <th>odometer</th>\n",
       "      <th>title_status</th>\n",
       "      <th>transmission</th>\n",
       "      <th>image_url</th>\n",
       "      <th>description</th>\n",
       "      <th>state</th>\n",
       "      <th>lat</th>\n",
       "      <th>long</th>\n",
       "      <th>posting_date</th>\n",
       "      <th>price_category</th>\n",
       "      <th>date</th>\n",
       "    </tr>\n",
       "  </thead>\n",
       "  <tbody>\n",
       "    <tr>\n",
       "      <th>11</th>\n",
       "      <td>7316540706</td>\n",
       "      <td>https://cincinnati.craigslist.org/ctd/d/fairfi...</td>\n",
       "      <td>cincinnati</td>\n",
       "      <td>https://cincinnati.craigslist.org</td>\n",
       "      <td>4995</td>\n",
       "      <td>2012.0</td>\n",
       "      <td>fiat</td>\n",
       "      <td>500 pop</td>\n",
       "      <td>gas</td>\n",
       "      <td>59242</td>\n",
       "      <td>NaN</td>\n",
       "      <td>manual</td>\n",
       "      <td>https://images.craigslist.org/00Z0Z_jbUmVcYlwR...</td>\n",
       "      <td>2012 Fiat 500 Pop FOR ONLY $102/mo!59,242 mi. ...</td>\n",
       "      <td>oh</td>\n",
       "      <td>39.297045</td>\n",
       "      <td>-84.563243</td>\n",
       "      <td>2021-05-03T21:03:32-0400</td>\n",
       "      <td>low</td>\n",
       "      <td>2021-05-04 01:03:32+00:00</td>\n",
       "    </tr>\n",
       "    <tr>\n",
       "      <th>187</th>\n",
       "      <td>7313570594</td>\n",
       "      <td>https://orangecounty.craigslist.org/ctd/d/coro...</td>\n",
       "      <td>orange county</td>\n",
       "      <td>https://orangecounty.craigslist.org</td>\n",
       "      <td>17900</td>\n",
       "      <td>2013.0</td>\n",
       "      <td>ram</td>\n",
       "      <td>1500 tradesman quad cab</td>\n",
       "      <td>gas</td>\n",
       "      <td>145499</td>\n",
       "      <td>NaN</td>\n",
       "      <td>automatic</td>\n",
       "      <td>https://images.craigslist.org/00H0H_1JFMPCYyW8...</td>\n",
       "      <td>2013 Ram 1500 Tradesman Quad Cab PRICED TO SEL...</td>\n",
       "      <td>ca</td>\n",
       "      <td>33.873436</td>\n",
       "      <td>-117.542806</td>\n",
       "      <td>2021-04-27T15:03:47-0700</td>\n",
       "      <td>medium</td>\n",
       "      <td>2021-04-27 22:03:47+00:00</td>\n",
       "    </tr>\n",
       "    <tr>\n",
       "      <th>245</th>\n",
       "      <td>7315211652</td>\n",
       "      <td>https://ocala.craigslist.org/ctd/d/riverview-2...</td>\n",
       "      <td>ocala</td>\n",
       "      <td>https://ocala.craigslist.org</td>\n",
       "      <td>40990</td>\n",
       "      <td>2019.0</td>\n",
       "      <td>toyota</td>\n",
       "      <td>sienna xle</td>\n",
       "      <td>gas</td>\n",
       "      <td>3700</td>\n",
       "      <td>NaN</td>\n",
       "      <td>automatic</td>\n",
       "      <td>https://images.craigslist.org/01111_grKNF8GrXz...</td>\n",
       "      <td>2019 Toyota Sienna - Wheelchair Accessible Han...</td>\n",
       "      <td>fl</td>\n",
       "      <td>27.849760</td>\n",
       "      <td>-82.364950</td>\n",
       "      <td>2021-05-01T06:35:56-0400</td>\n",
       "      <td>high</td>\n",
       "      <td>2021-05-01 10:35:56+00:00</td>\n",
       "    </tr>\n",
       "    <tr>\n",
       "      <th>286</th>\n",
       "      <td>7306702976</td>\n",
       "      <td>https://toledo.craigslist.org/ctd/d/chelsea-73...</td>\n",
       "      <td>toledo</td>\n",
       "      <td>https://toledo.craigslist.org</td>\n",
       "      <td>4592</td>\n",
       "      <td>2003.0</td>\n",
       "      <td>chevrolet</td>\n",
       "      <td>avalanche 1500</td>\n",
       "      <td>gas</td>\n",
       "      <td>268691</td>\n",
       "      <td>NaN</td>\n",
       "      <td>automatic</td>\n",
       "      <td>https://images.craigslist.org/00808_1IOMJuA4GL...</td>\n",
       "      <td>$73/mo - 2003 Chevrolet Avalanche 1500 BaseCre...</td>\n",
       "      <td>oh</td>\n",
       "      <td>42.300673</td>\n",
       "      <td>-84.024108</td>\n",
       "      <td>2021-04-14T12:03:01-0400</td>\n",
       "      <td>low</td>\n",
       "      <td>2021-04-14 16:03:01+00:00</td>\n",
       "    </tr>\n",
       "    <tr>\n",
       "      <th>312</th>\n",
       "      <td>7307609203</td>\n",
       "      <td>https://roseburg.craigslist.org/ctd/d/eugene-2...</td>\n",
       "      <td>roseburg</td>\n",
       "      <td>https://roseburg.craigslist.org</td>\n",
       "      <td>18450</td>\n",
       "      <td>2017.0</td>\n",
       "      <td>ford</td>\n",
       "      <td>mustang</td>\n",
       "      <td>gas</td>\n",
       "      <td>66049</td>\n",
       "      <td>NaN</td>\n",
       "      <td>automatic</td>\n",
       "      <td>https://images.craigslist.org/00505_4apF36sLbP...</td>\n",
       "      <td>2017 Ford MUSTANG - $18,450 \\tMayberry Motors ...</td>\n",
       "      <td>or</td>\n",
       "      <td>44.058499</td>\n",
       "      <td>-123.106176</td>\n",
       "      <td>2021-04-16T04:06:29-0700</td>\n",
       "      <td>medium</td>\n",
       "      <td>2021-04-16 11:06:29+00:00</td>\n",
       "    </tr>\n",
       "  </tbody>\n",
       "</table>\n",
       "</div>"
      ],
      "text/plain": [
       "             id                                                url  \\\n",
       "11   7316540706  https://cincinnati.craigslist.org/ctd/d/fairfi...   \n",
       "187  7313570594  https://orangecounty.craigslist.org/ctd/d/coro...   \n",
       "245  7315211652  https://ocala.craigslist.org/ctd/d/riverview-2...   \n",
       "286  7306702976  https://toledo.craigslist.org/ctd/d/chelsea-73...   \n",
       "312  7307609203  https://roseburg.craigslist.org/ctd/d/eugene-2...   \n",
       "\n",
       "            region                           region_url  price    year  \\\n",
       "11      cincinnati    https://cincinnati.craigslist.org   4995  2012.0   \n",
       "187  orange county  https://orangecounty.craigslist.org  17900  2013.0   \n",
       "245          ocala         https://ocala.craigslist.org  40990  2019.0   \n",
       "286         toledo        https://toledo.craigslist.org   4592  2003.0   \n",
       "312       roseburg      https://roseburg.craigslist.org  18450  2017.0   \n",
       "\n",
       "    manufacturer                    model fuel  odometer title_status  \\\n",
       "11          fiat                  500 pop  gas     59242          NaN   \n",
       "187          ram  1500 tradesman quad cab  gas    145499          NaN   \n",
       "245       toyota               sienna xle  gas      3700          NaN   \n",
       "286    chevrolet           avalanche 1500  gas    268691          NaN   \n",
       "312         ford                  mustang  gas     66049          NaN   \n",
       "\n",
       "    transmission                                          image_url  \\\n",
       "11        manual  https://images.craigslist.org/00Z0Z_jbUmVcYlwR...   \n",
       "187    automatic  https://images.craigslist.org/00H0H_1JFMPCYyW8...   \n",
       "245    automatic  https://images.craigslist.org/01111_grKNF8GrXz...   \n",
       "286    automatic  https://images.craigslist.org/00808_1IOMJuA4GL...   \n",
       "312    automatic  https://images.craigslist.org/00505_4apF36sLbP...   \n",
       "\n",
       "                                           description state        lat  \\\n",
       "11   2012 Fiat 500 Pop FOR ONLY $102/mo!59,242 mi. ...    oh  39.297045   \n",
       "187  2013 Ram 1500 Tradesman Quad Cab PRICED TO SEL...    ca  33.873436   \n",
       "245  2019 Toyota Sienna - Wheelchair Accessible Han...    fl  27.849760   \n",
       "286  $73/mo - 2003 Chevrolet Avalanche 1500 BaseCre...    oh  42.300673   \n",
       "312  2017 Ford MUSTANG - $18,450 \\tMayberry Motors ...    or  44.058499   \n",
       "\n",
       "           long              posting_date price_category  \\\n",
       "11   -84.563243  2021-05-03T21:03:32-0400            low   \n",
       "187 -117.542806  2021-04-27T15:03:47-0700         medium   \n",
       "245  -82.364950  2021-05-01T06:35:56-0400           high   \n",
       "286  -84.024108  2021-04-14T12:03:01-0400            low   \n",
       "312 -123.106176  2021-04-16T04:06:29-0700         medium   \n",
       "\n",
       "                          date  \n",
       "11   2021-05-04 01:03:32+00:00  \n",
       "187  2021-04-27 22:03:47+00:00  \n",
       "245  2021-05-01 10:35:56+00:00  \n",
       "286  2021-04-14 16:03:01+00:00  \n",
       "312  2021-04-16 11:06:29+00:00  "
      ]
     },
     "execution_count": 10,
     "metadata": {},
     "output_type": "execute_result"
    }
   ],
   "source": [
    "df_clean[df_clean.title_status.isna()].head()"
   ]
  },
  {
   "cell_type": "code",
   "execution_count": 11,
   "id": "2df76194",
   "metadata": {
    "hidden": true
   },
   "outputs": [],
   "source": [
    "df_clean.title_status = df_clean.title_status.fillna(df_clean.title_status.mode()[0])"
   ]
  },
  {
   "cell_type": "code",
   "execution_count": 12,
   "id": "1825882e",
   "metadata": {
    "hidden": true
   },
   "outputs": [
    {
     "name": "stdout",
     "output_type": "stream",
     "text": [
      "Count of missing values in title_status: 0\n"
     ]
    }
   ],
   "source": [
    "print(\"Count of missing values in title_status:\", df_clean.title_status.isna().sum())"
   ]
  },
  {
   "cell_type": "markdown",
   "id": "37eb2782",
   "metadata": {
    "heading_collapsed": true,
    "hidden": true
   },
   "source": [
    "#### Handling NaN in a  column: \"model\" "
   ]
  },
  {
   "cell_type": "code",
   "execution_count": 13,
   "id": "9727f647",
   "metadata": {
    "hidden": true
   },
   "outputs": [
    {
     "name": "stdout",
     "output_type": "stream",
     "text": [
      "Total values: 10000\n"
     ]
    },
    {
     "data": {
      "text/plain": [
       "f-150                        151\n",
       "NaN                          128\n",
       "silverado 1500               110\n",
       "1500                         100\n",
       "camry                         77\n",
       "                            ... \n",
       "grand caravan sport            1\n",
       "Nascar                         1\n",
       "titan le                       1\n",
       "sorrento lx v6                 1\n",
       "a3 2.0t premium plus pzev      1\n",
       "Name: model, Length: 3467, dtype: int64"
      ]
     },
     "execution_count": 13,
     "metadata": {},
     "output_type": "execute_result"
    }
   ],
   "source": [
    "print('Total values:', df_clean.model.value_counts(dropna=False).sum())\n",
    "df_clean.model.value_counts(dropna=False)"
   ]
  },
  {
   "cell_type": "code",
   "execution_count": 14,
   "id": "5e146606",
   "metadata": {
    "hidden": true
   },
   "outputs": [
    {
     "data": {
      "text/plain": [
       "count      9872\n",
       "unique     3466\n",
       "top       f-150\n",
       "freq        151\n",
       "Name: model, dtype: object"
      ]
     },
     "execution_count": 14,
     "metadata": {},
     "output_type": "execute_result"
    }
   ],
   "source": [
    "df_clean.model.describe()"
   ]
  },
  {
   "cell_type": "code",
   "execution_count": 15,
   "id": "31dcc293",
   "metadata": {
    "hidden": true
   },
   "outputs": [
    {
     "data": {
      "text/html": [
       "<div>\n",
       "<style scoped>\n",
       "    .dataframe tbody tr th:only-of-type {\n",
       "        vertical-align: middle;\n",
       "    }\n",
       "\n",
       "    .dataframe tbody tr th {\n",
       "        vertical-align: top;\n",
       "    }\n",
       "\n",
       "    .dataframe thead th {\n",
       "        text-align: right;\n",
       "    }\n",
       "</style>\n",
       "<table border=\"1\" class=\"dataframe\">\n",
       "  <thead>\n",
       "    <tr style=\"text-align: right;\">\n",
       "      <th></th>\n",
       "      <th>id</th>\n",
       "      <th>url</th>\n",
       "      <th>region</th>\n",
       "      <th>region_url</th>\n",
       "      <th>price</th>\n",
       "      <th>year</th>\n",
       "      <th>manufacturer</th>\n",
       "      <th>model</th>\n",
       "      <th>fuel</th>\n",
       "      <th>odometer</th>\n",
       "      <th>title_status</th>\n",
       "      <th>transmission</th>\n",
       "      <th>image_url</th>\n",
       "      <th>description</th>\n",
       "      <th>state</th>\n",
       "      <th>lat</th>\n",
       "      <th>long</th>\n",
       "      <th>posting_date</th>\n",
       "      <th>price_category</th>\n",
       "      <th>date</th>\n",
       "    </tr>\n",
       "  </thead>\n",
       "  <tbody>\n",
       "    <tr>\n",
       "      <th>67</th>\n",
       "      <td>7316913641</td>\n",
       "      <td>https://ventura.craigslist.org/cto/d/camarillo...</td>\n",
       "      <td>ventura county</td>\n",
       "      <td>https://ventura.craigslist.org</td>\n",
       "      <td>3000</td>\n",
       "      <td>2005.0</td>\n",
       "      <td>rover</td>\n",
       "      <td>NaN</td>\n",
       "      <td>gas</td>\n",
       "      <td>165206</td>\n",
       "      <td>clean</td>\n",
       "      <td>automatic</td>\n",
       "      <td>https://images.craigslist.org/00S0S_b3yx6L4N2S...</td>\n",
       "      <td>2005 Range Rover HSE  Changed Oil and now engi...</td>\n",
       "      <td>ca</td>\n",
       "      <td>34.219565</td>\n",
       "      <td>-119.001986</td>\n",
       "      <td>2021-05-04T13:11:15-0700</td>\n",
       "      <td>low</td>\n",
       "      <td>2021-05-04 20:11:15+00:00</td>\n",
       "    </tr>\n",
       "    <tr>\n",
       "      <th>142</th>\n",
       "      <td>7316550853</td>\n",
       "      <td>https://chicago.craigslist.org/chc/cto/d/midlo...</td>\n",
       "      <td>chicago</td>\n",
       "      <td>https://chicago.craigslist.org</td>\n",
       "      <td>3000</td>\n",
       "      <td>2006.0</td>\n",
       "      <td>jeep</td>\n",
       "      <td>NaN</td>\n",
       "      <td>gas</td>\n",
       "      <td>132000</td>\n",
       "      <td>clean</td>\n",
       "      <td>automatic</td>\n",
       "      <td>https://images.craigslist.org/01111_kNv3EKjH4H...</td>\n",
       "      <td>SUPER CLEAN 2006 JEEP LIBEERY RANAGADE  4X4  O...</td>\n",
       "      <td>il</td>\n",
       "      <td>41.618957</td>\n",
       "      <td>-87.726334</td>\n",
       "      <td>2021-05-03T20:33:40-0500</td>\n",
       "      <td>low</td>\n",
       "      <td>2021-05-04 01:33:40+00:00</td>\n",
       "    </tr>\n",
       "    <tr>\n",
       "      <th>151</th>\n",
       "      <td>7303575863</td>\n",
       "      <td>https://worcester.craigslist.org/ctd/d/fitchbu...</td>\n",
       "      <td>worcester / central MA</td>\n",
       "      <td>https://worcester.craigslist.org</td>\n",
       "      <td>7800</td>\n",
       "      <td>2007.0</td>\n",
       "      <td>gmc</td>\n",
       "      <td>NaN</td>\n",
       "      <td>gas</td>\n",
       "      <td>190000</td>\n",
       "      <td>clean</td>\n",
       "      <td>automatic</td>\n",
       "      <td>https://images.craigslist.org/00f0f_iWjiToqea2...</td>\n",
       "      <td>2007 gmc with plow leather loaded nice truck r...</td>\n",
       "      <td>ma</td>\n",
       "      <td>42.579600</td>\n",
       "      <td>-71.803100</td>\n",
       "      <td>2021-04-08T09:10:07-0400</td>\n",
       "      <td>low</td>\n",
       "      <td>2021-04-08 13:10:07+00:00</td>\n",
       "    </tr>\n",
       "    <tr>\n",
       "      <th>200</th>\n",
       "      <td>7315267860</td>\n",
       "      <td>https://gainesville.craigslist.org/ctd/d/kissi...</td>\n",
       "      <td>gainesville</td>\n",
       "      <td>https://gainesville.craigslist.org</td>\n",
       "      <td>19200</td>\n",
       "      <td>2012.0</td>\n",
       "      <td>ram</td>\n",
       "      <td>NaN</td>\n",
       "      <td>gas</td>\n",
       "      <td>121371</td>\n",
       "      <td>clean</td>\n",
       "      <td>automatic</td>\n",
       "      <td>https://images.craigslist.org/00W0W_hHV4D0Po0G...</td>\n",
       "      <td>2012 RAM 1500 Laramie Crew Cab 2WD     Offered...</td>\n",
       "      <td>fl</td>\n",
       "      <td>28.329026</td>\n",
       "      <td>-81.404237</td>\n",
       "      <td>2021-05-01T10:05:17-0400</td>\n",
       "      <td>medium</td>\n",
       "      <td>2021-05-01 14:05:17+00:00</td>\n",
       "    </tr>\n",
       "    <tr>\n",
       "      <th>251</th>\n",
       "      <td>7316024407</td>\n",
       "      <td>https://reading.craigslist.org/ctd/d/paterson-...</td>\n",
       "      <td>reading</td>\n",
       "      <td>https://reading.craigslist.org</td>\n",
       "      <td>18695</td>\n",
       "      <td>2007.0</td>\n",
       "      <td>ram</td>\n",
       "      <td>NaN</td>\n",
       "      <td>diesel</td>\n",
       "      <td>220019</td>\n",
       "      <td>clean</td>\n",
       "      <td>automatic</td>\n",
       "      <td>https://images.craigslist.org/00n0n_jgq4eOvH7I...</td>\n",
       "      <td>2007 Dodge Ram 2500 SLT 4x4 Quad Cab Cummins D...</td>\n",
       "      <td>pa</td>\n",
       "      <td>40.894535</td>\n",
       "      <td>-74.152367</td>\n",
       "      <td>2021-05-02T21:06:09-0400</td>\n",
       "      <td>medium</td>\n",
       "      <td>2021-05-03 01:06:09+00:00</td>\n",
       "    </tr>\n",
       "  </tbody>\n",
       "</table>\n",
       "</div>"
      ],
      "text/plain": [
       "             id                                                url  \\\n",
       "67   7316913641  https://ventura.craigslist.org/cto/d/camarillo...   \n",
       "142  7316550853  https://chicago.craigslist.org/chc/cto/d/midlo...   \n",
       "151  7303575863  https://worcester.craigslist.org/ctd/d/fitchbu...   \n",
       "200  7315267860  https://gainesville.craigslist.org/ctd/d/kissi...   \n",
       "251  7316024407  https://reading.craigslist.org/ctd/d/paterson-...   \n",
       "\n",
       "                     region                          region_url  price  \\\n",
       "67           ventura county      https://ventura.craigslist.org   3000   \n",
       "142                 chicago      https://chicago.craigslist.org   3000   \n",
       "151  worcester / central MA    https://worcester.craigslist.org   7800   \n",
       "200             gainesville  https://gainesville.craigslist.org  19200   \n",
       "251                 reading      https://reading.craigslist.org  18695   \n",
       "\n",
       "       year manufacturer model    fuel  odometer title_status transmission  \\\n",
       "67   2005.0        rover   NaN     gas    165206        clean    automatic   \n",
       "142  2006.0         jeep   NaN     gas    132000        clean    automatic   \n",
       "151  2007.0          gmc   NaN     gas    190000        clean    automatic   \n",
       "200  2012.0          ram   NaN     gas    121371        clean    automatic   \n",
       "251  2007.0          ram   NaN  diesel    220019        clean    automatic   \n",
       "\n",
       "                                             image_url  \\\n",
       "67   https://images.craigslist.org/00S0S_b3yx6L4N2S...   \n",
       "142  https://images.craigslist.org/01111_kNv3EKjH4H...   \n",
       "151  https://images.craigslist.org/00f0f_iWjiToqea2...   \n",
       "200  https://images.craigslist.org/00W0W_hHV4D0Po0G...   \n",
       "251  https://images.craigslist.org/00n0n_jgq4eOvH7I...   \n",
       "\n",
       "                                           description state        lat  \\\n",
       "67   2005 Range Rover HSE  Changed Oil and now engi...    ca  34.219565   \n",
       "142  SUPER CLEAN 2006 JEEP LIBEERY RANAGADE  4X4  O...    il  41.618957   \n",
       "151  2007 gmc with plow leather loaded nice truck r...    ma  42.579600   \n",
       "200  2012 RAM 1500 Laramie Crew Cab 2WD     Offered...    fl  28.329026   \n",
       "251  2007 Dodge Ram 2500 SLT 4x4 Quad Cab Cummins D...    pa  40.894535   \n",
       "\n",
       "           long              posting_date price_category  \\\n",
       "67  -119.001986  2021-05-04T13:11:15-0700            low   \n",
       "142  -87.726334  2021-05-03T20:33:40-0500            low   \n",
       "151  -71.803100  2021-04-08T09:10:07-0400            low   \n",
       "200  -81.404237  2021-05-01T10:05:17-0400         medium   \n",
       "251  -74.152367  2021-05-02T21:06:09-0400         medium   \n",
       "\n",
       "                          date  \n",
       "67   2021-05-04 20:11:15+00:00  \n",
       "142  2021-05-04 01:33:40+00:00  \n",
       "151  2021-04-08 13:10:07+00:00  \n",
       "200  2021-05-01 14:05:17+00:00  \n",
       "251  2021-05-03 01:06:09+00:00  "
      ]
     },
     "execution_count": 15,
     "metadata": {},
     "output_type": "execute_result"
    }
   ],
   "source": [
    "df_clean[df_clean.model.isna()].head()"
   ]
  },
  {
   "cell_type": "code",
   "execution_count": 16,
   "id": "74e5d548",
   "metadata": {
    "hidden": true
   },
   "outputs": [],
   "source": [
    "df_clean.model = df_clean.model.fillna('other')"
   ]
  },
  {
   "cell_type": "code",
   "execution_count": 17,
   "id": "3325d644",
   "metadata": {
    "hidden": true
   },
   "outputs": [
    {
     "name": "stdout",
     "output_type": "stream",
     "text": [
      "Count of missing values in model: 0\n"
     ]
    }
   ],
   "source": [
    "print(\"Count of missing values in model:\", df_clean.model.isna().sum())"
   ]
  },
  {
   "cell_type": "markdown",
   "id": "2ef0edf4",
   "metadata": {
    "heading_collapsed": true,
    "hidden": true
   },
   "source": [
    "#### Handling NaN in columns: \"long\" and \"lat\""
   ]
  },
  {
   "cell_type": "code",
   "execution_count": 18,
   "id": "5bd3ee68",
   "metadata": {
    "hidden": true
   },
   "outputs": [
    {
     "name": "stdout",
     "output_type": "stream",
     "text": [
      "Total values: 10000\n"
     ]
    },
    {
     "data": {
      "text/plain": [
       " NaN          98\n",
       "-84.112200    88\n",
       "-84.411811    79\n",
       "-74.281707    73\n",
       "-84.445400    54\n",
       "              ..\n",
       "-82.527995     1\n",
       "-97.031100     1\n",
       "-85.806306     1\n",
       "-78.625588     1\n",
       "-79.189500     1\n",
       "Name: long, Length: 5083, dtype: int64"
      ]
     },
     "execution_count": 18,
     "metadata": {},
     "output_type": "execute_result"
    }
   ],
   "source": [
    "print('Total values:', df_clean.long.value_counts(dropna=False).sum())\n",
    "df_clean.long.value_counts(dropna=False)"
   ]
  },
  {
   "cell_type": "code",
   "execution_count": 19,
   "id": "d1bb46fd",
   "metadata": {
    "hidden": true
   },
   "outputs": [
    {
     "data": {
      "text/plain": [
       "count    9902.000000\n",
       "mean      -94.165877\n",
       "std        18.128504\n",
       "min      -158.069300\n",
       "25%      -110.322086\n",
       "50%       -88.000050\n",
       "75%       -80.830000\n",
       "max       173.885502\n",
       "Name: long, dtype: float64"
      ]
     },
     "execution_count": 19,
     "metadata": {},
     "output_type": "execute_result"
    }
   ],
   "source": [
    "df_clean.long.describe()"
   ]
  },
  {
   "cell_type": "code",
   "execution_count": 20,
   "id": "b6d7ca6a",
   "metadata": {
    "hidden": true
   },
   "outputs": [
    {
     "data": {
      "text/plain": [
       "count    9902.000000\n",
       "mean       38.594142\n",
       "std         5.844895\n",
       "min       -67.144243\n",
       "25%        34.830368\n",
       "50%        39.298522\n",
       "75%        42.428070\n",
       "max        64.947500\n",
       "Name: lat, dtype: float64"
      ]
     },
     "execution_count": 20,
     "metadata": {},
     "output_type": "execute_result"
    }
   ],
   "source": [
    "df_clean.lat.describe()"
   ]
  },
  {
   "cell_type": "code",
   "execution_count": 21,
   "id": "f1c0b807",
   "metadata": {
    "hidden": true
   },
   "outputs": [
    {
     "data": {
      "text/html": [
       "<div>\n",
       "<style scoped>\n",
       "    .dataframe tbody tr th:only-of-type {\n",
       "        vertical-align: middle;\n",
       "    }\n",
       "\n",
       "    .dataframe tbody tr th {\n",
       "        vertical-align: top;\n",
       "    }\n",
       "\n",
       "    .dataframe thead th {\n",
       "        text-align: right;\n",
       "    }\n",
       "</style>\n",
       "<table border=\"1\" class=\"dataframe\">\n",
       "  <thead>\n",
       "    <tr style=\"text-align: right;\">\n",
       "      <th></th>\n",
       "      <th>id</th>\n",
       "      <th>url</th>\n",
       "      <th>region</th>\n",
       "      <th>region_url</th>\n",
       "      <th>price</th>\n",
       "      <th>year</th>\n",
       "      <th>manufacturer</th>\n",
       "      <th>model</th>\n",
       "      <th>fuel</th>\n",
       "      <th>odometer</th>\n",
       "      <th>title_status</th>\n",
       "      <th>transmission</th>\n",
       "      <th>image_url</th>\n",
       "      <th>description</th>\n",
       "      <th>state</th>\n",
       "      <th>lat</th>\n",
       "      <th>long</th>\n",
       "      <th>posting_date</th>\n",
       "      <th>price_category</th>\n",
       "      <th>date</th>\n",
       "    </tr>\n",
       "  </thead>\n",
       "  <tbody>\n",
       "    <tr>\n",
       "      <th>118</th>\n",
       "      <td>7312692841</td>\n",
       "      <td>https://tricities.craigslist.org/ctd/d/bmw-ser...</td>\n",
       "      <td>tri-cities</td>\n",
       "      <td>https://tricities.craigslist.org</td>\n",
       "      <td>17998</td>\n",
       "      <td>2012.0</td>\n",
       "      <td>bmw</td>\n",
       "      <td>5 series</td>\n",
       "      <td>gas</td>\n",
       "      <td>62665</td>\n",
       "      <td>clean</td>\n",
       "      <td>automatic</td>\n",
       "      <td>https://images.craigslist.org/00909_57Xyuj8AJH...</td>\n",
       "      <td>2012 BMW 5 Series 535i M Sport Heat &amp; Cool Sea...</td>\n",
       "      <td>tn</td>\n",
       "      <td>NaN</td>\n",
       "      <td>NaN</td>\n",
       "      <td>2021-04-26T04:28:35-0400</td>\n",
       "      <td>medium</td>\n",
       "      <td>2021-04-26 08:28:35+00:00</td>\n",
       "    </tr>\n",
       "    <tr>\n",
       "      <th>126</th>\n",
       "      <td>7315526339</td>\n",
       "      <td>https://newjersey.craigslist.org/ctd/d/look-wh...</td>\n",
       "      <td>north jersey</td>\n",
       "      <td>https://newjersey.craigslist.org</td>\n",
       "      <td>22995</td>\n",
       "      <td>2014.0</td>\n",
       "      <td>bmw</td>\n",
       "      <td>7 series</td>\n",
       "      <td>gas</td>\n",
       "      <td>81085</td>\n",
       "      <td>clean</td>\n",
       "      <td>automatic</td>\n",
       "      <td>https://images.craigslist.org/00k0k_38TNTakyUf...</td>\n",
       "      <td>2014 BMW 7 Series 4dr Sdn 750Li xDrive AWD Aut...</td>\n",
       "      <td>nj</td>\n",
       "      <td>NaN</td>\n",
       "      <td>NaN</td>\n",
       "      <td>2021-05-01T17:49:09-0400</td>\n",
       "      <td>high</td>\n",
       "      <td>2021-05-01 21:49:09+00:00</td>\n",
       "    </tr>\n",
       "    <tr>\n",
       "      <th>502</th>\n",
       "      <td>7308641593</td>\n",
       "      <td>https://winstonsalem.craigslist.org/ctd/d/ford...</td>\n",
       "      <td>winston-salem</td>\n",
       "      <td>https://winstonsalem.craigslist.org</td>\n",
       "      <td>20998</td>\n",
       "      <td>2016.0</td>\n",
       "      <td>ford</td>\n",
       "      <td>transit cargo</td>\n",
       "      <td>gas</td>\n",
       "      <td>123825</td>\n",
       "      <td>clean</td>\n",
       "      <td>automatic</td>\n",
       "      <td>https://images.craigslist.org/00101_gwJT4WBNRo...</td>\n",
       "      <td>2016 Ford Transit Cargo Vans Work Van High Roo...</td>\n",
       "      <td>nc</td>\n",
       "      <td>NaN</td>\n",
       "      <td>NaN</td>\n",
       "      <td>2021-04-18T04:43:46-0400</td>\n",
       "      <td>medium</td>\n",
       "      <td>2021-04-18 08:43:46+00:00</td>\n",
       "    </tr>\n",
       "    <tr>\n",
       "      <th>567</th>\n",
       "      <td>7309282242</td>\n",
       "      <td>https://onslow.craigslist.org/ctd/d/mercedes-b...</td>\n",
       "      <td>jacksonville</td>\n",
       "      <td>https://onslow.craigslist.org</td>\n",
       "      <td>10810</td>\n",
       "      <td>2014.0</td>\n",
       "      <td>mercedes-benz</td>\n",
       "      <td>c-class</td>\n",
       "      <td>gas</td>\n",
       "      <td>124476</td>\n",
       "      <td>clean</td>\n",
       "      <td>automatic</td>\n",
       "      <td>https://images.craigslist.org/01414_6jNHxQwrKx...</td>\n",
       "      <td>2014 Mercedes Benz C Class C 250 Sport Coupe C...</td>\n",
       "      <td>nc</td>\n",
       "      <td>NaN</td>\n",
       "      <td>NaN</td>\n",
       "      <td>2021-04-19T12:06:28-0400</td>\n",
       "      <td>medium</td>\n",
       "      <td>2021-04-19 16:06:28+00:00</td>\n",
       "    </tr>\n",
       "    <tr>\n",
       "      <th>692</th>\n",
       "      <td>7314847134</td>\n",
       "      <td>https://atlanta.craigslist.org/atl/ctd/d/2008-...</td>\n",
       "      <td>atlanta</td>\n",
       "      <td>https://atlanta.craigslist.org</td>\n",
       "      <td>17900</td>\n",
       "      <td>2008.0</td>\n",
       "      <td>toyota</td>\n",
       "      <td>tundra</td>\n",
       "      <td>gas</td>\n",
       "      <td>96000</td>\n",
       "      <td>clean</td>\n",
       "      <td>automatic</td>\n",
       "      <td>https://images.craigslist.org/01313_6u7l4KgvV4...</td>\n",
       "      <td>Description:              2008 Toyota Tundra 5...</td>\n",
       "      <td>ga</td>\n",
       "      <td>NaN</td>\n",
       "      <td>NaN</td>\n",
       "      <td>2021-04-30T12:09:49-0400</td>\n",
       "      <td>medium</td>\n",
       "      <td>2021-04-30 16:09:49+00:00</td>\n",
       "    </tr>\n",
       "  </tbody>\n",
       "</table>\n",
       "</div>"
      ],
      "text/plain": [
       "             id                                                url  \\\n",
       "118  7312692841  https://tricities.craigslist.org/ctd/d/bmw-ser...   \n",
       "126  7315526339  https://newjersey.craigslist.org/ctd/d/look-wh...   \n",
       "502  7308641593  https://winstonsalem.craigslist.org/ctd/d/ford...   \n",
       "567  7309282242  https://onslow.craigslist.org/ctd/d/mercedes-b...   \n",
       "692  7314847134  https://atlanta.craigslist.org/atl/ctd/d/2008-...   \n",
       "\n",
       "            region                           region_url  price    year  \\\n",
       "118     tri-cities     https://tricities.craigslist.org  17998  2012.0   \n",
       "126   north jersey     https://newjersey.craigslist.org  22995  2014.0   \n",
       "502  winston-salem  https://winstonsalem.craigslist.org  20998  2016.0   \n",
       "567   jacksonville        https://onslow.craigslist.org  10810  2014.0   \n",
       "692        atlanta       https://atlanta.craigslist.org  17900  2008.0   \n",
       "\n",
       "      manufacturer          model fuel  odometer title_status transmission  \\\n",
       "118            bmw       5 series  gas     62665        clean    automatic   \n",
       "126            bmw       7 series  gas     81085        clean    automatic   \n",
       "502           ford  transit cargo  gas    123825        clean    automatic   \n",
       "567  mercedes-benz        c-class  gas    124476        clean    automatic   \n",
       "692         toyota         tundra  gas     96000        clean    automatic   \n",
       "\n",
       "                                             image_url  \\\n",
       "118  https://images.craigslist.org/00909_57Xyuj8AJH...   \n",
       "126  https://images.craigslist.org/00k0k_38TNTakyUf...   \n",
       "502  https://images.craigslist.org/00101_gwJT4WBNRo...   \n",
       "567  https://images.craigslist.org/01414_6jNHxQwrKx...   \n",
       "692  https://images.craigslist.org/01313_6u7l4KgvV4...   \n",
       "\n",
       "                                           description state  lat  long  \\\n",
       "118  2012 BMW 5 Series 535i M Sport Heat & Cool Sea...    tn  NaN   NaN   \n",
       "126  2014 BMW 7 Series 4dr Sdn 750Li xDrive AWD Aut...    nj  NaN   NaN   \n",
       "502  2016 Ford Transit Cargo Vans Work Van High Roo...    nc  NaN   NaN   \n",
       "567  2014 Mercedes Benz C Class C 250 Sport Coupe C...    nc  NaN   NaN   \n",
       "692  Description:              2008 Toyota Tundra 5...    ga  NaN   NaN   \n",
       "\n",
       "                 posting_date price_category                       date  \n",
       "118  2021-04-26T04:28:35-0400         medium  2021-04-26 08:28:35+00:00  \n",
       "126  2021-05-01T17:49:09-0400           high  2021-05-01 21:49:09+00:00  \n",
       "502  2021-04-18T04:43:46-0400         medium  2021-04-18 08:43:46+00:00  \n",
       "567  2021-04-19T12:06:28-0400         medium  2021-04-19 16:06:28+00:00  \n",
       "692  2021-04-30T12:09:49-0400         medium  2021-04-30 16:09:49+00:00  "
      ]
     },
     "execution_count": 21,
     "metadata": {},
     "output_type": "execute_result"
    }
   ],
   "source": [
    "df_clean[df_clean.long.isna()].head()"
   ]
  },
  {
   "cell_type": "code",
   "execution_count": 22,
   "id": "875aeb8b",
   "metadata": {
    "hidden": true
   },
   "outputs": [
    {
     "data": {
      "text/plain": [
       "True"
      ]
     },
     "execution_count": 22,
     "metadata": {},
     "output_type": "execute_result"
    }
   ],
   "source": [
    "df_clean[df_clean.long.isna()].id.tolist() == df_clean[df_clean.lat.isna()].id.tolist()"
   ]
  },
  {
   "cell_type": "code",
   "execution_count": 23,
   "id": "019e1cd3",
   "metadata": {
    "hidden": true
   },
   "outputs": [],
   "source": [
    "df_clean.long = df_clean.long.fillna(df_clean.long.mean())\n",
    "df_clean.lat = df_clean.lat.fillna(df_clean.lat.mean())"
   ]
  },
  {
   "cell_type": "code",
   "execution_count": 24,
   "id": "82e5be6c",
   "metadata": {
    "hidden": true
   },
   "outputs": [
    {
     "name": "stdout",
     "output_type": "stream",
     "text": [
      "Count of missing values in long: 0\n",
      "Count of missing values in lat: 0\n"
     ]
    }
   ],
   "source": [
    "print(\n",
    "    f'Count of missing values in long: {df_clean.long.isna().sum()}\\n'\n",
    "    f'Count of missing values in lat: {df_clean.lat.isna().sum()}'\n",
    "    )"
   ]
  },
  {
   "cell_type": "markdown",
   "id": "771430d9",
   "metadata": {
    "heading_collapsed": true,
    "hidden": true
   },
   "source": [
    "#### Handling NaN in a column: \"fuel\""
   ]
  },
  {
   "cell_type": "code",
   "execution_count": 25,
   "id": "24fbce29",
   "metadata": {
    "hidden": true
   },
   "outputs": [
    {
     "name": "stdout",
     "output_type": "stream",
     "text": [
      "Total values: 10000\n"
     ]
    },
    {
     "data": {
      "text/plain": [
       "gas         8402\n",
       "other        730\n",
       "diesel       653\n",
       "hybrid       108\n",
       "NaN           63\n",
       "electric      44\n",
       "Name: fuel, dtype: int64"
      ]
     },
     "execution_count": 25,
     "metadata": {},
     "output_type": "execute_result"
    }
   ],
   "source": [
    "print('Total values:', df_clean.fuel.value_counts(dropna=False).sum())\n",
    "df_clean.fuel.value_counts(dropna=False)"
   ]
  },
  {
   "cell_type": "code",
   "execution_count": 26,
   "id": "ada27b87",
   "metadata": {
    "hidden": true
   },
   "outputs": [
    {
     "data": {
      "text/html": [
       "<div>\n",
       "<style scoped>\n",
       "    .dataframe tbody tr th:only-of-type {\n",
       "        vertical-align: middle;\n",
       "    }\n",
       "\n",
       "    .dataframe tbody tr th {\n",
       "        vertical-align: top;\n",
       "    }\n",
       "\n",
       "    .dataframe thead th {\n",
       "        text-align: right;\n",
       "    }\n",
       "</style>\n",
       "<table border=\"1\" class=\"dataframe\">\n",
       "  <thead>\n",
       "    <tr style=\"text-align: right;\">\n",
       "      <th></th>\n",
       "      <th>id</th>\n",
       "      <th>url</th>\n",
       "      <th>region</th>\n",
       "      <th>region_url</th>\n",
       "      <th>price</th>\n",
       "      <th>year</th>\n",
       "      <th>manufacturer</th>\n",
       "      <th>model</th>\n",
       "      <th>fuel</th>\n",
       "      <th>odometer</th>\n",
       "      <th>title_status</th>\n",
       "      <th>transmission</th>\n",
       "      <th>image_url</th>\n",
       "      <th>description</th>\n",
       "      <th>state</th>\n",
       "      <th>lat</th>\n",
       "      <th>long</th>\n",
       "      <th>posting_date</th>\n",
       "      <th>price_category</th>\n",
       "      <th>date</th>\n",
       "    </tr>\n",
       "  </thead>\n",
       "  <tbody>\n",
       "    <tr>\n",
       "      <th>1</th>\n",
       "      <td>7316380095</td>\n",
       "      <td>https://newjersey.craigslist.org/ctd/d/carlsta...</td>\n",
       "      <td>north jersey</td>\n",
       "      <td>https://newjersey.craigslist.org</td>\n",
       "      <td>16942</td>\n",
       "      <td>2016.0</td>\n",
       "      <td>ford</td>\n",
       "      <td>explorer 4wd 4dr xlt</td>\n",
       "      <td>NaN</td>\n",
       "      <td>60023</td>\n",
       "      <td>clean</td>\n",
       "      <td>automatic</td>\n",
       "      <td>https://images.craigslist.org/00x0x_26jl9F0cnL...</td>\n",
       "      <td>***Call Us for more information at: 201-635-14...</td>\n",
       "      <td>nj</td>\n",
       "      <td>40.821805</td>\n",
       "      <td>-74.061962</td>\n",
       "      <td>2021-05-03T15:40:21-0400</td>\n",
       "      <td>medium</td>\n",
       "      <td>2021-05-03 19:40:21+00:00</td>\n",
       "    </tr>\n",
       "    <tr>\n",
       "      <th>32</th>\n",
       "      <td>7309910590</td>\n",
       "      <td>https://eugene.craigslist.org/ctd/d/eugene-200...</td>\n",
       "      <td>eugene</td>\n",
       "      <td>https://eugene.craigslist.org</td>\n",
       "      <td>4977</td>\n",
       "      <td>2001.0</td>\n",
       "      <td>toyota</td>\n",
       "      <td>camry solara 2dr cpe se v6 auto (natl)</td>\n",
       "      <td>NaN</td>\n",
       "      <td>193242</td>\n",
       "      <td>clean</td>\n",
       "      <td>automatic</td>\n",
       "      <td>https://images.craigslist.org/00F0F_ebtJlxCQjv...</td>\n",
       "      <td>***Call Us for more information at: 541-228-94...</td>\n",
       "      <td>or</td>\n",
       "      <td>44.076513</td>\n",
       "      <td>-123.150156</td>\n",
       "      <td>2021-04-20T10:40:15-0700</td>\n",
       "      <td>low</td>\n",
       "      <td>2021-04-20 17:40:15+00:00</td>\n",
       "    </tr>\n",
       "    <tr>\n",
       "      <th>78</th>\n",
       "      <td>7314559074</td>\n",
       "      <td>https://eugene.craigslist.org/ctd/d/eugene-200...</td>\n",
       "      <td>eugene</td>\n",
       "      <td>https://eugene.craigslist.org</td>\n",
       "      <td>27977</td>\n",
       "      <td>2009.0</td>\n",
       "      <td>ford</td>\n",
       "      <td>f-150 4wd supercrew 145\" platinum</td>\n",
       "      <td>NaN</td>\n",
       "      <td>79522</td>\n",
       "      <td>clean</td>\n",
       "      <td>automatic</td>\n",
       "      <td>https://images.craigslist.org/00L0L_khoMmqXaSJ...</td>\n",
       "      <td>***Call Us for more information at: 541-228-94...</td>\n",
       "      <td>or</td>\n",
       "      <td>44.076513</td>\n",
       "      <td>-123.150156</td>\n",
       "      <td>2021-04-29T15:15:30-0700</td>\n",
       "      <td>high</td>\n",
       "      <td>2021-04-29 22:15:30+00:00</td>\n",
       "    </tr>\n",
       "    <tr>\n",
       "      <th>275</th>\n",
       "      <td>7315141987</td>\n",
       "      <td>https://honolulu.craigslist.org/oah/ctd/d/fort...</td>\n",
       "      <td>hawaii</td>\n",
       "      <td>https://honolulu.craigslist.org</td>\n",
       "      <td>29888</td>\n",
       "      <td>2019.0</td>\n",
       "      <td>nissan</td>\n",
       "      <td>frontier crew cab 4x2 sv auto</td>\n",
       "      <td>NaN</td>\n",
       "      <td>10679</td>\n",
       "      <td>clean</td>\n",
       "      <td>automatic</td>\n",
       "      <td>https://images.craigslist.org/00F0F_d9wEXQuSyu...</td>\n",
       "      <td>***Call Us for more information at: 877-262-34...</td>\n",
       "      <td>hi</td>\n",
       "      <td>21.344376</td>\n",
       "      <td>-157.896975</td>\n",
       "      <td>2021-04-30T15:50:19-1000</td>\n",
       "      <td>high</td>\n",
       "      <td>2021-05-01 01:50:19+00:00</td>\n",
       "    </tr>\n",
       "    <tr>\n",
       "      <th>425</th>\n",
       "      <td>7315662117</td>\n",
       "      <td>https://westslope.craigslist.org/ctd/d/denver-...</td>\n",
       "      <td>western slope</td>\n",
       "      <td>https://westslope.craigslist.org</td>\n",
       "      <td>43900</td>\n",
       "      <td>NaN</td>\n",
       "      <td>other</td>\n",
       "      <td>Grand Caravan</td>\n",
       "      <td>NaN</td>\n",
       "      <td>21</td>\n",
       "      <td>clean</td>\n",
       "      <td>automatic</td>\n",
       "      <td>https://images.craigslist.org/00f0f_7AwipNocNH...</td>\n",
       "      <td>2019 *Dodge* *Grand Caravan* SE - $43,900Call ...</td>\n",
       "      <td>co</td>\n",
       "      <td>39.674406</td>\n",
       "      <td>-104.998604</td>\n",
       "      <td>2021-05-02T01:11:33-0600</td>\n",
       "      <td>high</td>\n",
       "      <td>2021-05-02 07:11:33+00:00</td>\n",
       "    </tr>\n",
       "  </tbody>\n",
       "</table>\n",
       "</div>"
      ],
      "text/plain": [
       "             id                                                url  \\\n",
       "1    7316380095  https://newjersey.craigslist.org/ctd/d/carlsta...   \n",
       "32   7309910590  https://eugene.craigslist.org/ctd/d/eugene-200...   \n",
       "78   7314559074  https://eugene.craigslist.org/ctd/d/eugene-200...   \n",
       "275  7315141987  https://honolulu.craigslist.org/oah/ctd/d/fort...   \n",
       "425  7315662117  https://westslope.craigslist.org/ctd/d/denver-...   \n",
       "\n",
       "            region                        region_url  price    year  \\\n",
       "1     north jersey  https://newjersey.craigslist.org  16942  2016.0   \n",
       "32          eugene     https://eugene.craigslist.org   4977  2001.0   \n",
       "78          eugene     https://eugene.craigslist.org  27977  2009.0   \n",
       "275         hawaii   https://honolulu.craigslist.org  29888  2019.0   \n",
       "425  western slope  https://westslope.craigslist.org  43900     NaN   \n",
       "\n",
       "    manufacturer                                   model fuel  odometer  \\\n",
       "1           ford                    explorer 4wd 4dr xlt  NaN     60023   \n",
       "32        toyota  camry solara 2dr cpe se v6 auto (natl)  NaN    193242   \n",
       "78          ford       f-150 4wd supercrew 145\" platinum  NaN     79522   \n",
       "275       nissan           frontier crew cab 4x2 sv auto  NaN     10679   \n",
       "425        other                           Grand Caravan  NaN        21   \n",
       "\n",
       "    title_status transmission  \\\n",
       "1          clean    automatic   \n",
       "32         clean    automatic   \n",
       "78         clean    automatic   \n",
       "275        clean    automatic   \n",
       "425        clean    automatic   \n",
       "\n",
       "                                             image_url  \\\n",
       "1    https://images.craigslist.org/00x0x_26jl9F0cnL...   \n",
       "32   https://images.craigslist.org/00F0F_ebtJlxCQjv...   \n",
       "78   https://images.craigslist.org/00L0L_khoMmqXaSJ...   \n",
       "275  https://images.craigslist.org/00F0F_d9wEXQuSyu...   \n",
       "425  https://images.craigslist.org/00f0f_7AwipNocNH...   \n",
       "\n",
       "                                           description state        lat  \\\n",
       "1    ***Call Us for more information at: 201-635-14...    nj  40.821805   \n",
       "32   ***Call Us for more information at: 541-228-94...    or  44.076513   \n",
       "78   ***Call Us for more information at: 541-228-94...    or  44.076513   \n",
       "275  ***Call Us for more information at: 877-262-34...    hi  21.344376   \n",
       "425  2019 *Dodge* *Grand Caravan* SE - $43,900Call ...    co  39.674406   \n",
       "\n",
       "           long              posting_date price_category  \\\n",
       "1    -74.061962  2021-05-03T15:40:21-0400         medium   \n",
       "32  -123.150156  2021-04-20T10:40:15-0700            low   \n",
       "78  -123.150156  2021-04-29T15:15:30-0700           high   \n",
       "275 -157.896975  2021-04-30T15:50:19-1000           high   \n",
       "425 -104.998604  2021-05-02T01:11:33-0600           high   \n",
       "\n",
       "                          date  \n",
       "1    2021-05-03 19:40:21+00:00  \n",
       "32   2021-04-20 17:40:15+00:00  \n",
       "78   2021-04-29 22:15:30+00:00  \n",
       "275  2021-05-01 01:50:19+00:00  \n",
       "425  2021-05-02 07:11:33+00:00  "
      ]
     },
     "execution_count": 26,
     "metadata": {},
     "output_type": "execute_result"
    }
   ],
   "source": [
    "df_clean[df_clean.fuel.isna()].head()"
   ]
  },
  {
   "cell_type": "code",
   "execution_count": 27,
   "id": "d1e89e5b",
   "metadata": {
    "hidden": true
   },
   "outputs": [],
   "source": [
    "df_clean.fuel = df_clean.fuel.fillna('other')"
   ]
  },
  {
   "cell_type": "code",
   "execution_count": 28,
   "id": "afff33ca",
   "metadata": {
    "hidden": true
   },
   "outputs": [
    {
     "name": "stdout",
     "output_type": "stream",
     "text": [
      "Count of missing values in fuel: 0\n"
     ]
    }
   ],
   "source": [
    "print(\"Count of missing values in fuel:\", df_clean.fuel.isna().sum())"
   ]
  },
  {
   "cell_type": "markdown",
   "id": "70ebfe7f",
   "metadata": {
    "heading_collapsed": true,
    "hidden": true
   },
   "source": [
    "#### Handling NaN in a column: \"transmission\""
   ]
  },
  {
   "cell_type": "code",
   "execution_count": 29,
   "id": "c286bd29",
   "metadata": {
    "hidden": true
   },
   "outputs": [
    {
     "name": "stdout",
     "output_type": "stream",
     "text": [
      "Total values: 10000\n"
     ]
    },
    {
     "data": {
      "text/plain": [
       "automatic    7700\n",
       "other        1624\n",
       "manual        631\n",
       "NaN            45\n",
       "Name: transmission, dtype: int64"
      ]
     },
     "execution_count": 29,
     "metadata": {},
     "output_type": "execute_result"
    }
   ],
   "source": [
    "print('Total values:', df_clean.transmission.value_counts(dropna=False).sum())\n",
    "df_clean.transmission.value_counts(dropna=False)"
   ]
  },
  {
   "cell_type": "code",
   "execution_count": 30,
   "id": "82ee2972",
   "metadata": {
    "hidden": true
   },
   "outputs": [
    {
     "data": {
      "text/html": [
       "<div>\n",
       "<style scoped>\n",
       "    .dataframe tbody tr th:only-of-type {\n",
       "        vertical-align: middle;\n",
       "    }\n",
       "\n",
       "    .dataframe tbody tr th {\n",
       "        vertical-align: top;\n",
       "    }\n",
       "\n",
       "    .dataframe thead th {\n",
       "        text-align: right;\n",
       "    }\n",
       "</style>\n",
       "<table border=\"1\" class=\"dataframe\">\n",
       "  <thead>\n",
       "    <tr style=\"text-align: right;\">\n",
       "      <th></th>\n",
       "      <th>id</th>\n",
       "      <th>url</th>\n",
       "      <th>region</th>\n",
       "      <th>region_url</th>\n",
       "      <th>price</th>\n",
       "      <th>year</th>\n",
       "      <th>manufacturer</th>\n",
       "      <th>model</th>\n",
       "      <th>fuel</th>\n",
       "      <th>odometer</th>\n",
       "      <th>title_status</th>\n",
       "      <th>transmission</th>\n",
       "      <th>image_url</th>\n",
       "      <th>description</th>\n",
       "      <th>state</th>\n",
       "      <th>lat</th>\n",
       "      <th>long</th>\n",
       "      <th>posting_date</th>\n",
       "      <th>price_category</th>\n",
       "      <th>date</th>\n",
       "    </tr>\n",
       "  </thead>\n",
       "  <tbody>\n",
       "    <tr>\n",
       "      <th>111</th>\n",
       "      <td>7305109580</td>\n",
       "      <td>https://grandrapids.craigslist.org/ctd/d/comst...</td>\n",
       "      <td>grand rapids</td>\n",
       "      <td>https://grandrapids.craigslist.org</td>\n",
       "      <td>12750</td>\n",
       "      <td>2013.0</td>\n",
       "      <td>lexus</td>\n",
       "      <td>es</td>\n",
       "      <td>gas</td>\n",
       "      <td>109382</td>\n",
       "      <td>clean</td>\n",
       "      <td>NaN</td>\n",
       "      <td>https://images.craigslist.org/00n0n_kACT1l7OCN...</td>\n",
       "      <td>2013 Lexus ES 350 4dr Sdn     Offered by: Auto...</td>\n",
       "      <td>mi</td>\n",
       "      <td>43.059210</td>\n",
       "      <td>-85.688970</td>\n",
       "      <td>2021-04-11T09:41:58-0400</td>\n",
       "      <td>medium</td>\n",
       "      <td>2021-04-11 13:41:58+00:00</td>\n",
       "    </tr>\n",
       "    <tr>\n",
       "      <th>112</th>\n",
       "      <td>7314951119</td>\n",
       "      <td>https://southjersey.craigslist.org/ctd/d/chest...</td>\n",
       "      <td>south jersey</td>\n",
       "      <td>https://southjersey.craigslist.org</td>\n",
       "      <td>18199</td>\n",
       "      <td>2012.0</td>\n",
       "      <td>jeep</td>\n",
       "      <td>wrangler</td>\n",
       "      <td>other</td>\n",
       "      <td>130174</td>\n",
       "      <td>clean</td>\n",
       "      <td>NaN</td>\n",
       "      <td>https://images.craigslist.org/00I0I_gRmuXmqil1...</td>\n",
       "      <td>2012 Jeep Wrangler Unlimited Sport 4WD     Off...</td>\n",
       "      <td>nj</td>\n",
       "      <td>40.135190</td>\n",
       "      <td>-74.703570</td>\n",
       "      <td>2021-04-30T14:58:56-0400</td>\n",
       "      <td>medium</td>\n",
       "      <td>2021-04-30 18:58:56+00:00</td>\n",
       "    </tr>\n",
       "    <tr>\n",
       "      <th>817</th>\n",
       "      <td>7308021604</td>\n",
       "      <td>https://southjersey.craigslist.org/ctd/d/maple...</td>\n",
       "      <td>south jersey</td>\n",
       "      <td>https://southjersey.craigslist.org</td>\n",
       "      <td>11999</td>\n",
       "      <td>2015.0</td>\n",
       "      <td>honda</td>\n",
       "      <td>civic</td>\n",
       "      <td>gas</td>\n",
       "      <td>79797</td>\n",
       "      <td>clean</td>\n",
       "      <td>NaN</td>\n",
       "      <td>https://images.craigslist.org/00b0b_aCqgRZ7sAx...</td>\n",
       "      <td>2015 Honda Civic EX     Offered by: VIP Auto O...</td>\n",
       "      <td>nj</td>\n",
       "      <td>39.938023</td>\n",
       "      <td>-74.971461</td>\n",
       "      <td>2021-04-16T19:46:55-0400</td>\n",
       "      <td>medium</td>\n",
       "      <td>2021-04-16 23:46:55+00:00</td>\n",
       "    </tr>\n",
       "    <tr>\n",
       "      <th>931</th>\n",
       "      <td>7314781483</td>\n",
       "      <td>https://nh.craigslist.org/ctd/d/plaistow-2018-...</td>\n",
       "      <td>new hampshire</td>\n",
       "      <td>https://nh.craigslist.org</td>\n",
       "      <td>64990</td>\n",
       "      <td>2018.0</td>\n",
       "      <td>ram</td>\n",
       "      <td>3500</td>\n",
       "      <td>other</td>\n",
       "      <td>8853</td>\n",
       "      <td>clean</td>\n",
       "      <td>NaN</td>\n",
       "      <td>https://images.craigslist.org/00000_iHpXs2BVmN...</td>\n",
       "      <td>2018 RAM Ram Chassis 3500 Short Wheelbase (Dua...</td>\n",
       "      <td>nh</td>\n",
       "      <td>42.834977</td>\n",
       "      <td>-71.107791</td>\n",
       "      <td>2021-04-30T10:15:30-0400</td>\n",
       "      <td>high</td>\n",
       "      <td>2021-04-30 14:15:30+00:00</td>\n",
       "    </tr>\n",
       "    <tr>\n",
       "      <th>970</th>\n",
       "      <td>7315044723</td>\n",
       "      <td>https://poconos.craigslist.org/ctd/d/chesterfi...</td>\n",
       "      <td>poconos</td>\n",
       "      <td>https://poconos.craigslist.org</td>\n",
       "      <td>22699</td>\n",
       "      <td>2014.0</td>\n",
       "      <td>jeep</td>\n",
       "      <td>wrangler</td>\n",
       "      <td>gas</td>\n",
       "      <td>110493</td>\n",
       "      <td>clean</td>\n",
       "      <td>NaN</td>\n",
       "      <td>https://images.craigslist.org/00M0M_aFDXWIfug9...</td>\n",
       "      <td>2014 Jeep Wrangler Unlimited Sport 4WD     Off...</td>\n",
       "      <td>pa</td>\n",
       "      <td>40.135190</td>\n",
       "      <td>-74.703570</td>\n",
       "      <td>2021-04-30T17:46:04-0400</td>\n",
       "      <td>high</td>\n",
       "      <td>2021-04-30 21:46:04+00:00</td>\n",
       "    </tr>\n",
       "  </tbody>\n",
       "</table>\n",
       "</div>"
      ],
      "text/plain": [
       "             id                                                url  \\\n",
       "111  7305109580  https://grandrapids.craigslist.org/ctd/d/comst...   \n",
       "112  7314951119  https://southjersey.craigslist.org/ctd/d/chest...   \n",
       "817  7308021604  https://southjersey.craigslist.org/ctd/d/maple...   \n",
       "931  7314781483  https://nh.craigslist.org/ctd/d/plaistow-2018-...   \n",
       "970  7315044723  https://poconos.craigslist.org/ctd/d/chesterfi...   \n",
       "\n",
       "            region                          region_url  price    year  \\\n",
       "111   grand rapids  https://grandrapids.craigslist.org  12750  2013.0   \n",
       "112   south jersey  https://southjersey.craigslist.org  18199  2012.0   \n",
       "817   south jersey  https://southjersey.craigslist.org  11999  2015.0   \n",
       "931  new hampshire           https://nh.craigslist.org  64990  2018.0   \n",
       "970        poconos      https://poconos.craigslist.org  22699  2014.0   \n",
       "\n",
       "    manufacturer     model   fuel  odometer title_status transmission  \\\n",
       "111        lexus        es    gas    109382        clean          NaN   \n",
       "112         jeep  wrangler  other    130174        clean          NaN   \n",
       "817        honda     civic    gas     79797        clean          NaN   \n",
       "931          ram      3500  other      8853        clean          NaN   \n",
       "970         jeep  wrangler    gas    110493        clean          NaN   \n",
       "\n",
       "                                             image_url  \\\n",
       "111  https://images.craigslist.org/00n0n_kACT1l7OCN...   \n",
       "112  https://images.craigslist.org/00I0I_gRmuXmqil1...   \n",
       "817  https://images.craigslist.org/00b0b_aCqgRZ7sAx...   \n",
       "931  https://images.craigslist.org/00000_iHpXs2BVmN...   \n",
       "970  https://images.craigslist.org/00M0M_aFDXWIfug9...   \n",
       "\n",
       "                                           description state        lat  \\\n",
       "111  2013 Lexus ES 350 4dr Sdn     Offered by: Auto...    mi  43.059210   \n",
       "112  2012 Jeep Wrangler Unlimited Sport 4WD     Off...    nj  40.135190   \n",
       "817  2015 Honda Civic EX     Offered by: VIP Auto O...    nj  39.938023   \n",
       "931  2018 RAM Ram Chassis 3500 Short Wheelbase (Dua...    nh  42.834977   \n",
       "970  2014 Jeep Wrangler Unlimited Sport 4WD     Off...    pa  40.135190   \n",
       "\n",
       "          long              posting_date price_category  \\\n",
       "111 -85.688970  2021-04-11T09:41:58-0400         medium   \n",
       "112 -74.703570  2021-04-30T14:58:56-0400         medium   \n",
       "817 -74.971461  2021-04-16T19:46:55-0400         medium   \n",
       "931 -71.107791  2021-04-30T10:15:30-0400           high   \n",
       "970 -74.703570  2021-04-30T17:46:04-0400           high   \n",
       "\n",
       "                          date  \n",
       "111  2021-04-11 13:41:58+00:00  \n",
       "112  2021-04-30 18:58:56+00:00  \n",
       "817  2021-04-16 23:46:55+00:00  \n",
       "931  2021-04-30 14:15:30+00:00  \n",
       "970  2021-04-30 21:46:04+00:00  "
      ]
     },
     "execution_count": 30,
     "metadata": {},
     "output_type": "execute_result"
    }
   ],
   "source": [
    "df_clean[df_clean.transmission.isna()].head()"
   ]
  },
  {
   "cell_type": "code",
   "execution_count": 31,
   "id": "60568ceb",
   "metadata": {
    "hidden": true
   },
   "outputs": [],
   "source": [
    "df_clean.transmission = df_clean.transmission.fillna('other')"
   ]
  },
  {
   "cell_type": "code",
   "execution_count": 32,
   "id": "03d9f92f",
   "metadata": {
    "hidden": true
   },
   "outputs": [
    {
     "name": "stdout",
     "output_type": "stream",
     "text": [
      "Count of missing values in transmission: 0\n"
     ]
    }
   ],
   "source": [
    "print(\"Count of missing values in transmission:\", df_clean.transmission.isna().sum())"
   ]
  },
  {
   "cell_type": "markdown",
   "id": "d2c0c11d",
   "metadata": {
    "heading_collapsed": true,
    "hidden": true
   },
   "source": [
    "#### Handling NaN in columns: \"year\", \"posting_date\", \"description\", \"image_url\"  and \"date\""
   ]
  },
  {
   "cell_type": "code",
   "execution_count": 33,
   "id": "8e77f834",
   "metadata": {
    "hidden": true
   },
   "outputs": [
    {
     "name": "stdout",
     "output_type": "stream",
     "text": [
      "Total values: 10000\n"
     ]
    },
    {
     "data": {
      "text/plain": [
       "2018.0    810\n",
       "2017.0    809\n",
       "2016.0    745\n",
       "2013.0    699\n",
       "2015.0    668\n",
       "         ... \n",
       "1927.0      1\n",
       "1958.0      1\n",
       "1941.0      1\n",
       "1935.0      1\n",
       "1954.0      1\n",
       "Name: year, Length: 90, dtype: int64"
      ]
     },
     "execution_count": 33,
     "metadata": {},
     "output_type": "execute_result"
    }
   ],
   "source": [
    "print('Total values:', df_clean.year.value_counts(dropna=False).sum())\n",
    "df_clean.year.value_counts(dropna=False)"
   ]
  },
  {
   "cell_type": "code",
   "execution_count": 34,
   "id": "9e13e985",
   "metadata": {
    "hidden": true
   },
   "outputs": [
    {
     "data": {
      "text/plain": [
       "36"
      ]
     },
     "execution_count": 34,
     "metadata": {},
     "output_type": "execute_result"
    }
   ],
   "source": [
    "df_clean.year.isna().sum()"
   ]
  },
  {
   "cell_type": "code",
   "execution_count": 35,
   "id": "af915ca8",
   "metadata": {
    "hidden": true
   },
   "outputs": [
    {
     "data": {
      "text/html": [
       "<div>\n",
       "<style scoped>\n",
       "    .dataframe tbody tr th:only-of-type {\n",
       "        vertical-align: middle;\n",
       "    }\n",
       "\n",
       "    .dataframe tbody tr th {\n",
       "        vertical-align: top;\n",
       "    }\n",
       "\n",
       "    .dataframe thead th {\n",
       "        text-align: right;\n",
       "    }\n",
       "</style>\n",
       "<table border=\"1\" class=\"dataframe\">\n",
       "  <thead>\n",
       "    <tr style=\"text-align: right;\">\n",
       "      <th></th>\n",
       "      <th>id</th>\n",
       "      <th>url</th>\n",
       "      <th>region</th>\n",
       "      <th>region_url</th>\n",
       "      <th>price</th>\n",
       "      <th>year</th>\n",
       "      <th>manufacturer</th>\n",
       "      <th>model</th>\n",
       "      <th>fuel</th>\n",
       "      <th>odometer</th>\n",
       "      <th>title_status</th>\n",
       "      <th>transmission</th>\n",
       "      <th>image_url</th>\n",
       "      <th>description</th>\n",
       "      <th>state</th>\n",
       "      <th>lat</th>\n",
       "      <th>long</th>\n",
       "      <th>posting_date</th>\n",
       "      <th>price_category</th>\n",
       "      <th>date</th>\n",
       "    </tr>\n",
       "  </thead>\n",
       "  <tbody>\n",
       "    <tr>\n",
       "      <th>344</th>\n",
       "      <td>7304102133</td>\n",
       "      <td>https://wenatchee.craigslist.org/ctd/d/wenatch...</td>\n",
       "      <td>wenatchee</td>\n",
       "      <td>https://wenatchee.craigslist.org</td>\n",
       "      <td>35880</td>\n",
       "      <td>NaN</td>\n",
       "      <td>other</td>\n",
       "      <td>500</td>\n",
       "      <td>gas</td>\n",
       "      <td>13508</td>\n",
       "      <td>clean</td>\n",
       "      <td>automatic</td>\n",
       "      <td>https://images.craigslist.org/00J0J_6IMoEUzIIM...</td>\n",
       "      <td>2019 *Ram* *1500* Big Horn/Lone Star 4x2 Quad ...</td>\n",
       "      <td>wa</td>\n",
       "      <td>47.434493</td>\n",
       "      <td>-120.320759</td>\n",
       "      <td>2021-04-09T06:31:03-0700</td>\n",
       "      <td>high</td>\n",
       "      <td>2021-04-09 13:31:03+00:00</td>\n",
       "    </tr>\n",
       "    <tr>\n",
       "      <th>420</th>\n",
       "      <td>7316337069</td>\n",
       "      <td>https://lasvegas.craigslist.org/ctd/d/scottsda...</td>\n",
       "      <td>las vegas</td>\n",
       "      <td>https://lasvegas.craigslist.org</td>\n",
       "      <td>84995</td>\n",
       "      <td>NaN</td>\n",
       "      <td>other</td>\n",
       "      <td>Super Duty F-350 SRW</td>\n",
       "      <td>diesel</td>\n",
       "      <td>1268</td>\n",
       "      <td>clean</td>\n",
       "      <td>automatic</td>\n",
       "      <td>https://images.craigslist.org/00x0x_iQCC0Ef28S...</td>\n",
       "      <td>2020 *Ford* *Super Duty F-350 SRW* 1K MILES. B...</td>\n",
       "      <td>nv</td>\n",
       "      <td>33.458277</td>\n",
       "      <td>-111.925970</td>\n",
       "      <td>2021-05-03T11:31:39-0700</td>\n",
       "      <td>high</td>\n",
       "      <td>2021-05-03 18:31:39+00:00</td>\n",
       "    </tr>\n",
       "    <tr>\n",
       "      <th>425</th>\n",
       "      <td>7315662117</td>\n",
       "      <td>https://westslope.craigslist.org/ctd/d/denver-...</td>\n",
       "      <td>western slope</td>\n",
       "      <td>https://westslope.craigslist.org</td>\n",
       "      <td>43900</td>\n",
       "      <td>NaN</td>\n",
       "      <td>other</td>\n",
       "      <td>Grand Caravan</td>\n",
       "      <td>other</td>\n",
       "      <td>21</td>\n",
       "      <td>clean</td>\n",
       "      <td>automatic</td>\n",
       "      <td>https://images.craigslist.org/00f0f_7AwipNocNH...</td>\n",
       "      <td>2019 *Dodge* *Grand Caravan* SE - $43,900Call ...</td>\n",
       "      <td>co</td>\n",
       "      <td>39.674406</td>\n",
       "      <td>-104.998604</td>\n",
       "      <td>2021-05-02T01:11:33-0600</td>\n",
       "      <td>high</td>\n",
       "      <td>2021-05-02 07:11:33+00:00</td>\n",
       "    </tr>\n",
       "    <tr>\n",
       "      <th>702</th>\n",
       "      <td>7316199009</td>\n",
       "      <td>https://nashville.craigslist.org/ctd/d/nashvil...</td>\n",
       "      <td>nashville</td>\n",
       "      <td>https://nashville.craigslist.org</td>\n",
       "      <td>28498</td>\n",
       "      <td>NaN</td>\n",
       "      <td>other</td>\n",
       "      <td>olet Silverado 1500</td>\n",
       "      <td>other</td>\n",
       "      <td>59246</td>\n",
       "      <td>clean</td>\n",
       "      <td>automatic</td>\n",
       "      <td>https://images.craigslist.org/00T0T_dZ7nOXskCS...</td>\n",
       "      <td>2019 *Chevrolet* *Silverado 1500* 2019 CHEVROL...</td>\n",
       "      <td>tn</td>\n",
       "      <td>36.138022</td>\n",
       "      <td>-86.732261</td>\n",
       "      <td>2021-05-03T10:00:40-0500</td>\n",
       "      <td>high</td>\n",
       "      <td>2021-05-03 15:00:40+00:00</td>\n",
       "    </tr>\n",
       "    <tr>\n",
       "      <th>893</th>\n",
       "      <td>7316840794</td>\n",
       "      <td>https://denver.craigslist.org/ctd/d/american-f...</td>\n",
       "      <td>denver</td>\n",
       "      <td>https://denver.craigslist.org</td>\n",
       "      <td>60900</td>\n",
       "      <td>NaN</td>\n",
       "      <td>other</td>\n",
       "      <td>F-150</td>\n",
       "      <td>gas</td>\n",
       "      <td>6110</td>\n",
       "      <td>clean</td>\n",
       "      <td>automatic</td>\n",
       "      <td>https://images.craigslist.org/01616_bpzSdSRTbx...</td>\n",
       "      <td>2020 *Ford* *F-150* PLATINUM FX4 Truck - $60,9...</td>\n",
       "      <td>co</td>\n",
       "      <td>40.362248</td>\n",
       "      <td>-111.785947</td>\n",
       "      <td>2021-05-04T12:11:22-0600</td>\n",
       "      <td>high</td>\n",
       "      <td>2021-05-04 18:11:22+00:00</td>\n",
       "    </tr>\n",
       "  </tbody>\n",
       "</table>\n",
       "</div>"
      ],
      "text/plain": [
       "             id                                                url  \\\n",
       "344  7304102133  https://wenatchee.craigslist.org/ctd/d/wenatch...   \n",
       "420  7316337069  https://lasvegas.craigslist.org/ctd/d/scottsda...   \n",
       "425  7315662117  https://westslope.craigslist.org/ctd/d/denver-...   \n",
       "702  7316199009  https://nashville.craigslist.org/ctd/d/nashvil...   \n",
       "893  7316840794  https://denver.craigslist.org/ctd/d/american-f...   \n",
       "\n",
       "            region                        region_url  price  year  \\\n",
       "344      wenatchee  https://wenatchee.craigslist.org  35880   NaN   \n",
       "420      las vegas   https://lasvegas.craigslist.org  84995   NaN   \n",
       "425  western slope  https://westslope.craigslist.org  43900   NaN   \n",
       "702      nashville  https://nashville.craigslist.org  28498   NaN   \n",
       "893         denver     https://denver.craigslist.org  60900   NaN   \n",
       "\n",
       "    manufacturer                 model    fuel  odometer title_status  \\\n",
       "344        other                   500     gas     13508        clean   \n",
       "420        other  Super Duty F-350 SRW  diesel      1268        clean   \n",
       "425        other         Grand Caravan   other        21        clean   \n",
       "702        other   olet Silverado 1500   other     59246        clean   \n",
       "893        other                 F-150     gas      6110        clean   \n",
       "\n",
       "    transmission                                          image_url  \\\n",
       "344    automatic  https://images.craigslist.org/00J0J_6IMoEUzIIM...   \n",
       "420    automatic  https://images.craigslist.org/00x0x_iQCC0Ef28S...   \n",
       "425    automatic  https://images.craigslist.org/00f0f_7AwipNocNH...   \n",
       "702    automatic  https://images.craigslist.org/00T0T_dZ7nOXskCS...   \n",
       "893    automatic  https://images.craigslist.org/01616_bpzSdSRTbx...   \n",
       "\n",
       "                                           description state        lat  \\\n",
       "344  2019 *Ram* *1500* Big Horn/Lone Star 4x2 Quad ...    wa  47.434493   \n",
       "420  2020 *Ford* *Super Duty F-350 SRW* 1K MILES. B...    nv  33.458277   \n",
       "425  2019 *Dodge* *Grand Caravan* SE - $43,900Call ...    co  39.674406   \n",
       "702  2019 *Chevrolet* *Silverado 1500* 2019 CHEVROL...    tn  36.138022   \n",
       "893  2020 *Ford* *F-150* PLATINUM FX4 Truck - $60,9...    co  40.362248   \n",
       "\n",
       "           long              posting_date price_category  \\\n",
       "344 -120.320759  2021-04-09T06:31:03-0700           high   \n",
       "420 -111.925970  2021-05-03T11:31:39-0700           high   \n",
       "425 -104.998604  2021-05-02T01:11:33-0600           high   \n",
       "702  -86.732261  2021-05-03T10:00:40-0500           high   \n",
       "893 -111.785947  2021-05-04T12:11:22-0600           high   \n",
       "\n",
       "                          date  \n",
       "344  2021-04-09 13:31:03+00:00  \n",
       "420  2021-05-03 18:31:39+00:00  \n",
       "425  2021-05-02 07:11:33+00:00  \n",
       "702  2021-05-03 15:00:40+00:00  \n",
       "893  2021-05-04 18:11:22+00:00  "
      ]
     },
     "execution_count": 35,
     "metadata": {},
     "output_type": "execute_result"
    }
   ],
   "source": [
    "df_clean[df_clean.year.isna()].head()"
   ]
  },
  {
   "cell_type": "code",
   "execution_count": 36,
   "id": "fbd6589a",
   "metadata": {
    "hidden": true
   },
   "outputs": [
    {
     "data": {
      "text/plain": [
       "344     2019\n",
       "420     2020\n",
       "425     2019\n",
       "702     2019\n",
       "893     2020\n",
       "906     2020\n",
       "1005    2019\n",
       "1217    2019\n",
       "1319    2018\n",
       "1845    2020\n",
       "2292    2019\n",
       "2504    2019\n",
       "2629    Chev\n",
       "2819    2019\n",
       "2959    2018\n",
       "3294    2018\n",
       "3509    2020\n",
       "3521    2020\n",
       "3671    2019\n",
       "4220    2020\n",
       "6120    2018\n",
       "6196    2020\n",
       "6323    2020\n",
       "6728     NaN\n",
       "7200    2018\n",
       "7652    2021\n",
       "7815    2019\n",
       "7819    2019\n",
       "8527    2020\n",
       "8805    2019\n",
       "9330    2019\n",
       "9388     NaN\n",
       "9549    2020\n",
       "9723    2019\n",
       "9849    2019\n",
       "9953    2020\n",
       "Name: description, dtype: object"
      ]
     },
     "execution_count": 36,
     "metadata": {},
     "output_type": "execute_result"
    }
   ],
   "source": [
    "df_clean[df_clean.year.isna()].description.str[0:4]"
   ]
  },
  {
   "cell_type": "code",
   "execution_count": 37,
   "id": "7a009005",
   "metadata": {
    "hidden": true
   },
   "outputs": [
    {
     "data": {
      "text/plain": [
       "344          2019\n",
       "420          2020\n",
       "425          2019\n",
       "702          2019\n",
       "893          fork\n",
       "906          2020\n",
       "1005         2019\n",
       "1217         2019\n",
       "1319         2018\n",
       "1845       smyrna\n",
       "2292       castle\n",
       "2504         2019\n",
       "2629    chevrolet\n",
       "2819       bluffs\n",
       "2959         2018\n",
       "3294         2018\n",
       "3509         2020\n",
       "3521         2020\n",
       "3671         2019\n",
       "4220         2020\n",
       "6120         2018\n",
       "6196         2020\n",
       "6323       castle\n",
       "6728         2012\n",
       "7200         2018\n",
       "7652         2021\n",
       "7815         2019\n",
       "7819         2019\n",
       "8527         2020\n",
       "8805         2019\n",
       "9330         2019\n",
       "9388         2011\n",
       "9549         2020\n",
       "9723         2019\n",
       "9849         2019\n",
       "9953         2020\n",
       "Name: url, dtype: object"
      ]
     },
     "execution_count": 37,
     "metadata": {},
     "output_type": "execute_result"
    }
   ],
   "source": [
    "df_clean[df_clean.year.isna()].url.str.split('-').str[1]"
   ]
  },
  {
   "cell_type": "code",
   "execution_count": 38,
   "id": "2b60ef7c",
   "metadata": {
    "hidden": true
   },
   "outputs": [
    {
     "data": {
      "text/html": [
       "<div>\n",
       "<style scoped>\n",
       "    .dataframe tbody tr th:only-of-type {\n",
       "        vertical-align: middle;\n",
       "    }\n",
       "\n",
       "    .dataframe tbody tr th {\n",
       "        vertical-align: top;\n",
       "    }\n",
       "\n",
       "    .dataframe thead th {\n",
       "        text-align: right;\n",
       "    }\n",
       "</style>\n",
       "<table border=\"1\" class=\"dataframe\">\n",
       "  <thead>\n",
       "    <tr style=\"text-align: right;\">\n",
       "      <th></th>\n",
       "      <th>id</th>\n",
       "      <th>url</th>\n",
       "      <th>region</th>\n",
       "      <th>region_url</th>\n",
       "      <th>price</th>\n",
       "      <th>year</th>\n",
       "      <th>manufacturer</th>\n",
       "      <th>model</th>\n",
       "      <th>fuel</th>\n",
       "      <th>odometer</th>\n",
       "      <th>title_status</th>\n",
       "      <th>transmission</th>\n",
       "      <th>image_url</th>\n",
       "      <th>description</th>\n",
       "      <th>state</th>\n",
       "      <th>lat</th>\n",
       "      <th>long</th>\n",
       "      <th>posting_date</th>\n",
       "      <th>price_category</th>\n",
       "      <th>date</th>\n",
       "    </tr>\n",
       "  </thead>\n",
       "  <tbody>\n",
       "    <tr>\n",
       "      <th>2629</th>\n",
       "      <td>7314588156</td>\n",
       "      <td>https://inlandempire.craigslist.org/ctd/d/hesp...</td>\n",
       "      <td>inland empire</td>\n",
       "      <td>https://inlandempire.craigslist.org</td>\n",
       "      <td>2599</td>\n",
       "      <td>NaN</td>\n",
       "      <td>other</td>\n",
       "      <td>olet Impala</td>\n",
       "      <td>other</td>\n",
       "      <td>1</td>\n",
       "      <td>clean</td>\n",
       "      <td>other</td>\n",
       "      <td>https://images.craigslist.org/00P0P_dKsEWbujM0...</td>\n",
       "      <td>Chevrolet Impala  * AUCTION PRICES TO THE PUBL...</td>\n",
       "      <td>ca</td>\n",
       "      <td>34.451930</td>\n",
       "      <td>-117.287060</td>\n",
       "      <td>2021-04-29T16:19:54-0700</td>\n",
       "      <td>low</td>\n",
       "      <td>2021-04-29 23:19:54+00:00</td>\n",
       "    </tr>\n",
       "    <tr>\n",
       "      <th>6728</th>\n",
       "      <td>7315259025</td>\n",
       "      <td>https://nh.craigslist.org/cto/d/manchester-201...</td>\n",
       "      <td>new hampshire</td>\n",
       "      <td>https://nh.craigslist.org</td>\n",
       "      <td>3750</td>\n",
       "      <td>NaN</td>\n",
       "      <td>other</td>\n",
       "      <td>other</td>\n",
       "      <td>other</td>\n",
       "      <td>95674</td>\n",
       "      <td>clean</td>\n",
       "      <td>other</td>\n",
       "      <td>NaN</td>\n",
       "      <td>NaN</td>\n",
       "      <td>nh</td>\n",
       "      <td>38.594142</td>\n",
       "      <td>-94.165877</td>\n",
       "      <td>NaN</td>\n",
       "      <td>low</td>\n",
       "      <td>NaN</td>\n",
       "    </tr>\n",
       "    <tr>\n",
       "      <th>9388</th>\n",
       "      <td>7208549803</td>\n",
       "      <td>https://bellingham.craigslist.org/ctd/d/bellin...</td>\n",
       "      <td>bellingham</td>\n",
       "      <td>https://bellingham.craigslist.org</td>\n",
       "      <td>11999</td>\n",
       "      <td>NaN</td>\n",
       "      <td>other</td>\n",
       "      <td>other</td>\n",
       "      <td>other</td>\n",
       "      <td>95674</td>\n",
       "      <td>clean</td>\n",
       "      <td>other</td>\n",
       "      <td>NaN</td>\n",
       "      <td>NaN</td>\n",
       "      <td>wa</td>\n",
       "      <td>38.594142</td>\n",
       "      <td>-94.165877</td>\n",
       "      <td>NaN</td>\n",
       "      <td>medium</td>\n",
       "      <td>NaN</td>\n",
       "    </tr>\n",
       "  </tbody>\n",
       "</table>\n",
       "</div>"
      ],
      "text/plain": [
       "              id                                                url  \\\n",
       "2629  7314588156  https://inlandempire.craigslist.org/ctd/d/hesp...   \n",
       "6728  7315259025  https://nh.craigslist.org/cto/d/manchester-201...   \n",
       "9388  7208549803  https://bellingham.craigslist.org/ctd/d/bellin...   \n",
       "\n",
       "             region                           region_url  price  year  \\\n",
       "2629  inland empire  https://inlandempire.craigslist.org   2599   NaN   \n",
       "6728  new hampshire            https://nh.craigslist.org   3750   NaN   \n",
       "9388     bellingham    https://bellingham.craigslist.org  11999   NaN   \n",
       "\n",
       "     manufacturer        model   fuel  odometer title_status transmission  \\\n",
       "2629        other  olet Impala  other         1        clean        other   \n",
       "6728        other        other  other     95674        clean        other   \n",
       "9388        other        other  other     95674        clean        other   \n",
       "\n",
       "                                              image_url  \\\n",
       "2629  https://images.craigslist.org/00P0P_dKsEWbujM0...   \n",
       "6728                                                NaN   \n",
       "9388                                                NaN   \n",
       "\n",
       "                                            description state        lat  \\\n",
       "2629  Chevrolet Impala  * AUCTION PRICES TO THE PUBL...    ca  34.451930   \n",
       "6728                                                NaN    nh  38.594142   \n",
       "9388                                                NaN    wa  38.594142   \n",
       "\n",
       "            long              posting_date price_category  \\\n",
       "2629 -117.287060  2021-04-29T16:19:54-0700            low   \n",
       "6728  -94.165877                       NaN            low   \n",
       "9388  -94.165877                       NaN         medium   \n",
       "\n",
       "                           date  \n",
       "2629  2021-04-29 23:19:54+00:00  \n",
       "6728                        NaN  \n",
       "9388                        NaN  "
      ]
     },
     "execution_count": 38,
     "metadata": {},
     "output_type": "execute_result"
    }
   ],
   "source": [
    "df_clean.loc[[2629, 6728, 9388], :]"
   ]
  },
  {
   "cell_type": "code",
   "execution_count": 39,
   "id": "76304001",
   "metadata": {
    "hidden": true
   },
   "outputs": [
    {
     "data": {
      "text/plain": [
       "(9997, 20)"
      ]
     },
     "execution_count": 39,
     "metadata": {},
     "output_type": "execute_result"
    }
   ],
   "source": [
    "# In row 2629 information about the year of issue is missing, and in rows 6728 and 9388 have a lot of blank information,\n",
    "# therefore:\n",
    "df_clean = df_clean.drop(labels=[2629, 6728, 9388], axis=0)\n",
    "df_clean.shape"
   ]
  },
  {
   "cell_type": "code",
   "execution_count": 40,
   "id": "7b5a1fc0",
   "metadata": {
    "hidden": true
   },
   "outputs": [],
   "source": [
    "df_clean.year = df_clean.year.fillna(df.description.str[0:4])"
   ]
  },
  {
   "cell_type": "code",
   "execution_count": 41,
   "id": "a7f8a2e1",
   "metadata": {
    "hidden": true
   },
   "outputs": [
    {
     "name": "stdout",
     "output_type": "stream",
     "text": [
      "Count of missing values in year: 0\n",
      "Count of missing values in posting_date: 0\n",
      "Count of missing values in description: 0\n",
      "Count of missing values in image_url: 0\n",
      "Count of missing values in date: 0\n"
     ]
    }
   ],
   "source": [
    "print(\n",
    "    f'Count of missing values in year: {df_clean.year.isna().sum()}\\n'\n",
    "    f'Count of missing values in posting_date: {df_clean.posting_date.isna().sum()}\\n'\n",
    "    f'Count of missing values in description: {df_clean.description.isna().sum()}\\n'\n",
    "    f'Count of missing values in image_url: {df_clean.image_url.isna().sum()}\\n'\n",
    "    f'Count of missing values in date: {df_clean.date.isna().sum()}'\n",
    "    )"
   ]
  },
  {
   "cell_type": "code",
   "execution_count": 42,
   "id": "f2aba05c",
   "metadata": {
    "hidden": true
   },
   "outputs": [
    {
     "name": "stdout",
     "output_type": "stream",
     "text": [
      "Count of fully filled objects from the entire sample: 9997 \n",
      "Percentage of fully filled objects from the entire sample: 100.0\n"
     ]
    }
   ],
   "source": [
    "print_useful_rows_info(df_clean)"
   ]
  },
  {
   "cell_type": "markdown",
   "id": "bde5ecfb",
   "metadata": {
    "heading_collapsed": true,
    "hidden": true
   },
   "source": [
    "### Saving to a file"
   ]
  },
  {
   "cell_type": "code",
   "execution_count": 44,
   "id": "783c743d",
   "metadata": {
    "hidden": true
   },
   "outputs": [],
   "source": [
    "df_clean.to_csv('data/df_clean.csv', index=False)"
   ]
  },
  {
   "cell_type": "markdown",
   "id": "02501bc4",
   "metadata": {
    "heading_collapsed": true,
    "hidden": true
   },
   "source": [
    "## Data transformation"
   ]
  },
  {
   "cell_type": "code",
   "execution_count": 45,
   "id": "f69faa44",
   "metadata": {
    "hidden": true
   },
   "outputs": [
    {
     "data": {
      "text/plain": [
       "id                  int64\n",
       "url                object\n",
       "region             object\n",
       "region_url         object\n",
       "price               int64\n",
       "year               object\n",
       "manufacturer       object\n",
       "model              object\n",
       "fuel               object\n",
       "odometer            int64\n",
       "title_status       object\n",
       "transmission       object\n",
       "image_url          object\n",
       "description        object\n",
       "state              object\n",
       "lat               float64\n",
       "long              float64\n",
       "posting_date       object\n",
       "price_category     object\n",
       "date               object\n",
       "dtype: object"
      ]
     },
     "execution_count": 45,
     "metadata": {},
     "output_type": "execute_result"
    }
   ],
   "source": [
    "df_clean.dtypes"
   ]
  },
  {
   "cell_type": "code",
   "execution_count": 46,
   "id": "ca2bea34",
   "metadata": {
    "hidden": true
   },
   "outputs": [],
   "source": [
    "df_types = df_clean.copy()"
   ]
  },
  {
   "cell_type": "markdown",
   "id": "6e8333a5",
   "metadata": {
    "heading_collapsed": true,
    "hidden": true
   },
   "source": [
    "### Transformation of quantitative data"
   ]
  },
  {
   "cell_type": "code",
   "execution_count": 47,
   "id": "93e6ce16",
   "metadata": {
    "hidden": true
   },
   "outputs": [
    {
     "data": {
      "text/plain": [
       "dtype('int32')"
      ]
     },
     "execution_count": 47,
     "metadata": {},
     "output_type": "execute_result"
    }
   ],
   "source": [
    "df_types.year = df_types.year.astype(int)\n",
    "df_types.year.dtype"
   ]
  },
  {
   "cell_type": "markdown",
   "id": "7ab71f1a",
   "metadata": {
    "heading_collapsed": true,
    "hidden": true
   },
   "source": [
    "### Transformation of qualitative data "
   ]
  },
  {
   "cell_type": "code",
   "execution_count": 48,
   "id": "3961c1f5",
   "metadata": {
    "hidden": true
   },
   "outputs": [
    {
     "data": {
      "text/plain": [
       "0      2021-04-17 16:30:50+00:00\n",
       "1      2021-05-03 19:40:21+00:00\n",
       "2      2021-04-28 10:52:20+00:00\n",
       "3      2021-04-17 14:08:57+00:00\n",
       "4      2021-05-03 22:32:06+00:00\n",
       "                  ...           \n",
       "9995   2021-04-10 20:33:57+00:00\n",
       "9996   2021-05-03 13:36:30+00:00\n",
       "9997   2021-04-22 19:14:01+00:00\n",
       "9998   2021-04-14 14:14:42+00:00\n",
       "9999   2021-04-24 17:50:49+00:00\n",
       "Name: date, Length: 9997, dtype: datetime64[ns, UTC]"
      ]
     },
     "execution_count": 48,
     "metadata": {},
     "output_type": "execute_result"
    }
   ],
   "source": [
    "df_types.date = pd.to_datetime(df_types.date)\n",
    "df_types.date"
   ]
  },
  {
   "cell_type": "code",
   "execution_count": 49,
   "id": "2bf5ab4b",
   "metadata": {
    "hidden": true
   },
   "outputs": [
    {
     "data": {
      "text/plain": [
       "CategoricalDtype(categories=['diesel', 'electric', 'gas', 'hybrid', 'other'], ordered=False)"
      ]
     },
     "execution_count": 49,
     "metadata": {},
     "output_type": "execute_result"
    }
   ],
   "source": [
    "df_types.fuel = df_types.fuel.astype('category')\n",
    "df_types.fuel.dtype"
   ]
  },
  {
   "cell_type": "code",
   "execution_count": 50,
   "id": "a7f1202a",
   "metadata": {
    "hidden": true
   },
   "outputs": [
    {
     "data": {
      "text/plain": [
       "CategoricalDtype(categories=['clean', 'lien', 'missing', 'parts only', 'rebuilt',\n",
       "                  'salvage'],\n",
       ", ordered=False)"
      ]
     },
     "execution_count": 50,
     "metadata": {},
     "output_type": "execute_result"
    }
   ],
   "source": [
    "df_types.title_status = df_types.title_status.astype('category')\n",
    "df_types.title_status.dtype"
   ]
  },
  {
   "cell_type": "code",
   "execution_count": 51,
   "id": "da2feb50",
   "metadata": {
    "hidden": true
   },
   "outputs": [
    {
     "data": {
      "text/plain": [
       "CategoricalDtype(categories=['automatic', 'manual', 'other'], ordered=False)"
      ]
     },
     "execution_count": 51,
     "metadata": {},
     "output_type": "execute_result"
    }
   ],
   "source": [
    "df_types.transmission = df_types.transmission.astype('category')\n",
    "df_types.transmission.dtype"
   ]
  },
  {
   "cell_type": "code",
   "execution_count": 52,
   "id": "622a38db",
   "metadata": {
    "hidden": true
   },
   "outputs": [
    {
     "data": {
      "text/plain": [
       "CategoricalDtype(categories=['high', 'low', 'medium'], ordered=False)"
      ]
     },
     "execution_count": 52,
     "metadata": {},
     "output_type": "execute_result"
    }
   ],
   "source": [
    "df_types.price_category = df_types.price_category.astype('category')\n",
    "df_types.price_category.dtype"
   ]
  },
  {
   "cell_type": "markdown",
   "id": "1fffd1e2",
   "metadata": {
    "heading_collapsed": true,
    "hidden": true
   },
   "source": [
    "### Saving to a file"
   ]
  },
  {
   "cell_type": "code",
   "execution_count": 53,
   "id": "58349f77",
   "metadata": {
    "hidden": true
   },
   "outputs": [],
   "source": [
    "df_types.to_csv('data/df_types.csv', index=False)"
   ]
  },
  {
   "cell_type": "markdown",
   "id": "cabdb5f5",
   "metadata": {
    "heading_collapsed": true,
    "hidden": true
   },
   "source": [
    "## Check for anomalies and outliers"
   ]
  },
  {
   "cell_type": "code",
   "execution_count": 54,
   "id": "53752d86",
   "metadata": {
    "hidden": true
   },
   "outputs": [
    {
     "data": {
      "text/html": [
       "<div>\n",
       "<style scoped>\n",
       "    .dataframe tbody tr th:only-of-type {\n",
       "        vertical-align: middle;\n",
       "    }\n",
       "\n",
       "    .dataframe tbody tr th {\n",
       "        vertical-align: top;\n",
       "    }\n",
       "\n",
       "    .dataframe thead th {\n",
       "        text-align: right;\n",
       "    }\n",
       "</style>\n",
       "<table border=\"1\" class=\"dataframe\">\n",
       "  <thead>\n",
       "    <tr style=\"text-align: right;\">\n",
       "      <th></th>\n",
       "      <th>id</th>\n",
       "      <th>price</th>\n",
       "      <th>year</th>\n",
       "      <th>odometer</th>\n",
       "      <th>lat</th>\n",
       "      <th>long</th>\n",
       "    </tr>\n",
       "  </thead>\n",
       "  <tbody>\n",
       "    <tr>\n",
       "      <th>count</th>\n",
       "      <td>9.997000e+03</td>\n",
       "      <td>9.997000e+03</td>\n",
       "      <td>9997.000000</td>\n",
       "      <td>9997.000000</td>\n",
       "      <td>9997.000000</td>\n",
       "      <td>9997.000000</td>\n",
       "    </tr>\n",
       "    <tr>\n",
       "      <th>mean</th>\n",
       "      <td>7.311551e+09</td>\n",
       "      <td>2.068279e+04</td>\n",
       "      <td>2010.955487</td>\n",
       "      <td>93332.999000</td>\n",
       "      <td>38.594556</td>\n",
       "      <td>-94.163565</td>\n",
       "    </tr>\n",
       "    <tr>\n",
       "      <th>std</th>\n",
       "      <td>4.357963e+06</td>\n",
       "      <td>1.246414e+05</td>\n",
       "      <td>9.668015</td>\n",
       "      <td>63183.751534</td>\n",
       "      <td>5.816907</td>\n",
       "      <td>18.040671</td>\n",
       "    </tr>\n",
       "    <tr>\n",
       "      <th>min</th>\n",
       "      <td>7.301586e+09</td>\n",
       "      <td>5.000000e+02</td>\n",
       "      <td>1915.000000</td>\n",
       "      <td>0.000000</td>\n",
       "      <td>-67.144243</td>\n",
       "      <td>-158.069300</td>\n",
       "    </tr>\n",
       "    <tr>\n",
       "      <th>25%</th>\n",
       "      <td>7.308189e+09</td>\n",
       "      <td>7.900000e+03</td>\n",
       "      <td>2008.000000</td>\n",
       "      <td>39149.000000</td>\n",
       "      <td>34.920000</td>\n",
       "      <td>-108.553946</td>\n",
       "    </tr>\n",
       "    <tr>\n",
       "      <th>50%</th>\n",
       "      <td>7.312757e+09</td>\n",
       "      <td>1.576300e+04</td>\n",
       "      <td>2013.000000</td>\n",
       "      <td>89000.000000</td>\n",
       "      <td>39.205558</td>\n",
       "      <td>-88.219600</td>\n",
       "    </tr>\n",
       "    <tr>\n",
       "      <th>75%</th>\n",
       "      <td>7.315275e+09</td>\n",
       "      <td>2.799000e+04</td>\n",
       "      <td>2017.000000</td>\n",
       "      <td>136875.000000</td>\n",
       "      <td>42.382900</td>\n",
       "      <td>-80.998136</td>\n",
       "    </tr>\n",
       "    <tr>\n",
       "      <th>max</th>\n",
       "      <td>7.317090e+09</td>\n",
       "      <td>1.234568e+07</td>\n",
       "      <td>2022.000000</td>\n",
       "      <td>283466.000000</td>\n",
       "      <td>64.947500</td>\n",
       "      <td>173.885502</td>\n",
       "    </tr>\n",
       "  </tbody>\n",
       "</table>\n",
       "</div>"
      ],
      "text/plain": [
       "                 id         price         year       odometer          lat  \\\n",
       "count  9.997000e+03  9.997000e+03  9997.000000    9997.000000  9997.000000   \n",
       "mean   7.311551e+09  2.068279e+04  2010.955487   93332.999000    38.594556   \n",
       "std    4.357963e+06  1.246414e+05     9.668015   63183.751534     5.816907   \n",
       "min    7.301586e+09  5.000000e+02  1915.000000       0.000000   -67.144243   \n",
       "25%    7.308189e+09  7.900000e+03  2008.000000   39149.000000    34.920000   \n",
       "50%    7.312757e+09  1.576300e+04  2013.000000   89000.000000    39.205558   \n",
       "75%    7.315275e+09  2.799000e+04  2017.000000  136875.000000    42.382900   \n",
       "max    7.317090e+09  1.234568e+07  2022.000000  283466.000000    64.947500   \n",
       "\n",
       "              long  \n",
       "count  9997.000000  \n",
       "mean    -94.163565  \n",
       "std      18.040671  \n",
       "min    -158.069300  \n",
       "25%    -108.553946  \n",
       "50%     -88.219600  \n",
       "75%     -80.998136  \n",
       "max     173.885502  "
      ]
     },
     "execution_count": 54,
     "metadata": {},
     "output_type": "execute_result"
    }
   ],
   "source": [
    "df_types.describe()"
   ]
  },
  {
   "cell_type": "code",
   "execution_count": 55,
   "id": "5c9f812d",
   "metadata": {
    "hidden": true
   },
   "outputs": [],
   "source": [
    "df_out = df_types.copy()"
   ]
  },
  {
   "cell_type": "code",
   "execution_count": 56,
   "id": "b808e757",
   "metadata": {
    "hidden": true
   },
   "outputs": [],
   "source": [
    "def get_out_boundaries(column):\n",
    "    q25 = df_out[column].quantile(0.25)\n",
    "    q75 = df_out[column].quantile(0.75)\n",
    "    boundaries = (q25 - 1.5*(q75 - q25), q75 + 1.5*(q75 - q25))\n",
    "    is_outlier = (df_out[column] < boundaries[0]) | (df_out[column] > boundaries[1])\n",
    "    return boundaries, is_outlier"
   ]
  },
  {
   "cell_type": "markdown",
   "id": "bd3c3f3f",
   "metadata": {
    "heading_collapsed": true,
    "hidden": true
   },
   "source": [
    "### Check for anomalies and outliers in a column: \"price\""
   ]
  },
  {
   "cell_type": "code",
   "execution_count": 57,
   "id": "d9d90e8b",
   "metadata": {
    "hidden": true
   },
   "outputs": [
    {
     "data": {
      "text/plain": [
       "count        9997.000\n",
       "mean        20682.785\n",
       "std        124641.443\n",
       "min           500.000\n",
       "25%          7900.000\n",
       "50%         15763.000\n",
       "75%         27990.000\n",
       "max      12345678.000\n",
       "Name: price, dtype: object"
      ]
     },
     "execution_count": 57,
     "metadata": {},
     "output_type": "execute_result"
    }
   ],
   "source": [
    "df_out.price.describe().apply(lambda x: f\"{x:0.3f}\")"
   ]
  },
  {
   "cell_type": "code",
   "execution_count": 58,
   "id": "1eb0bcb2",
   "metadata": {
    "hidden": true
   },
   "outputs": [
    {
     "data": {
      "text/plain": [
       "(-22235.0, 58125.0)"
      ]
     },
     "execution_count": 58,
     "metadata": {},
     "output_type": "execute_result"
    }
   ],
   "source": [
    "boundaries_price, is_outlier_price = get_out_boundaries('price')\n",
    "boundaries_price"
   ]
  },
  {
   "cell_type": "code",
   "execution_count": 59,
   "id": "0c68df51",
   "metadata": {
    "hidden": true
   },
   "outputs": [
    {
     "data": {
      "text/html": [
       "<div>\n",
       "<style scoped>\n",
       "    .dataframe tbody tr th:only-of-type {\n",
       "        vertical-align: middle;\n",
       "    }\n",
       "\n",
       "    .dataframe tbody tr th {\n",
       "        vertical-align: top;\n",
       "    }\n",
       "\n",
       "    .dataframe thead th {\n",
       "        text-align: right;\n",
       "    }\n",
       "</style>\n",
       "<table border=\"1\" class=\"dataframe\">\n",
       "  <thead>\n",
       "    <tr style=\"text-align: right;\">\n",
       "      <th></th>\n",
       "      <th>id</th>\n",
       "      <th>url</th>\n",
       "      <th>region</th>\n",
       "      <th>region_url</th>\n",
       "      <th>price</th>\n",
       "      <th>year</th>\n",
       "      <th>manufacturer</th>\n",
       "      <th>model</th>\n",
       "      <th>fuel</th>\n",
       "      <th>odometer</th>\n",
       "      <th>title_status</th>\n",
       "      <th>transmission</th>\n",
       "      <th>image_url</th>\n",
       "      <th>description</th>\n",
       "      <th>state</th>\n",
       "      <th>lat</th>\n",
       "      <th>long</th>\n",
       "      <th>posting_date</th>\n",
       "      <th>price_category</th>\n",
       "      <th>date</th>\n",
       "    </tr>\n",
       "  </thead>\n",
       "  <tbody>\n",
       "    <tr>\n",
       "      <th>21</th>\n",
       "      <td>7312327909</td>\n",
       "      <td>https://madison.craigslist.org/cto/d/madison-1...</td>\n",
       "      <td>madison</td>\n",
       "      <td>https://madison.craigslist.org</td>\n",
       "      <td>89995</td>\n",
       "      <td>1970</td>\n",
       "      <td>other</td>\n",
       "      <td>oldsmobile 442</td>\n",
       "      <td>gas</td>\n",
       "      <td>111111</td>\n",
       "      <td>clean</td>\n",
       "      <td>automatic</td>\n",
       "      <td>https://images.craigslist.org/00S0S_agk7Nol4CO...</td>\n",
       "      <td>1970 Oldsmobile 442 Convertible 442 Indy Pace ...</td>\n",
       "      <td>wi</td>\n",
       "      <td>43.098400</td>\n",
       "      <td>-89.273400</td>\n",
       "      <td>2021-04-25T10:10:43-0500</td>\n",
       "      <td>high</td>\n",
       "      <td>2021-04-25 15:10:43+00:00</td>\n",
       "    </tr>\n",
       "    <tr>\n",
       "      <th>33</th>\n",
       "      <td>7304521734</td>\n",
       "      <td>https://kpr.craigslist.org/ctd/d/pasco-2019-fo...</td>\n",
       "      <td>kennewick-pasco-richland</td>\n",
       "      <td>https://kpr.craigslist.org</td>\n",
       "      <td>79999</td>\n",
       "      <td>2019</td>\n",
       "      <td>ford</td>\n",
       "      <td>f450 deisel power stroke</td>\n",
       "      <td>diesel</td>\n",
       "      <td>41759</td>\n",
       "      <td>clean</td>\n",
       "      <td>automatic</td>\n",
       "      <td>https://images.craigslist.org/00D0D_ctOGGthFxQ...</td>\n",
       "      <td>2019 Ford F450 Lariat FX4 Dually 4x4 **Clean C...</td>\n",
       "      <td>wa</td>\n",
       "      <td>46.234838</td>\n",
       "      <td>-119.128015</td>\n",
       "      <td>2021-04-09T19:46:04-0700</td>\n",
       "      <td>high</td>\n",
       "      <td>2021-04-10 02:46:04+00:00</td>\n",
       "    </tr>\n",
       "    <tr>\n",
       "      <th>57</th>\n",
       "      <td>7314413105</td>\n",
       "      <td>https://inlandempire.craigslist.org/ctd/d/cost...</td>\n",
       "      <td>inland empire</td>\n",
       "      <td>https://inlandempire.craigslist.org</td>\n",
       "      <td>69888</td>\n",
       "      <td>1948</td>\n",
       "      <td>ford</td>\n",
       "      <td>coe</td>\n",
       "      <td>gas</td>\n",
       "      <td>1</td>\n",
       "      <td>clean</td>\n",
       "      <td>automatic</td>\n",
       "      <td>https://images.craigslist.org/00M0M_8jgBCZZuG6...</td>\n",
       "      <td>Awesome Resto-Mod COE Ford Car Hauler. Equippe...</td>\n",
       "      <td>ca</td>\n",
       "      <td>33.680100</td>\n",
       "      <td>-117.908500</td>\n",
       "      <td>2021-04-29T10:49:29-0700</td>\n",
       "      <td>high</td>\n",
       "      <td>2021-04-29 17:49:29+00:00</td>\n",
       "    </tr>\n",
       "    <tr>\n",
       "      <th>96</th>\n",
       "      <td>7311450619</td>\n",
       "      <td>https://wenatchee.craigslist.org/ctd/d/kittita...</td>\n",
       "      <td>wenatchee</td>\n",
       "      <td>https://wenatchee.craigslist.org</td>\n",
       "      <td>58995</td>\n",
       "      <td>2020</td>\n",
       "      <td>jeep</td>\n",
       "      <td>wrangler</td>\n",
       "      <td>gas</td>\n",
       "      <td>17799</td>\n",
       "      <td>clean</td>\n",
       "      <td>automatic</td>\n",
       "      <td>https://images.craigslist.org/00a0a_chVstv8e4Z...</td>\n",
       "      <td>ＷＩＮＤＹ ＣＨＥＶＲＯＬＥＴ  ⭐ No Payments For 90 Days*  ⭐...</td>\n",
       "      <td>wa</td>\n",
       "      <td>46.999600</td>\n",
       "      <td>-120.516300</td>\n",
       "      <td>2021-04-23T10:43:27-0700</td>\n",
       "      <td>high</td>\n",
       "      <td>2021-04-23 17:43:27+00:00</td>\n",
       "    </tr>\n",
       "    <tr>\n",
       "      <th>144</th>\n",
       "      <td>7305640478</td>\n",
       "      <td>https://siouxfalls.craigslist.org/ctd/d/gilber...</td>\n",
       "      <td>sioux falls / SE SD</td>\n",
       "      <td>https://siouxfalls.craigslist.org</td>\n",
       "      <td>59900</td>\n",
       "      <td>2014</td>\n",
       "      <td>ford</td>\n",
       "      <td>f550 xl</td>\n",
       "      <td>diesel</td>\n",
       "      <td>156000</td>\n",
       "      <td>clean</td>\n",
       "      <td>automatic</td>\n",
       "      <td>https://images.craigslist.org/00x0x_httQ0BwNkq...</td>\n",
       "      <td>**FOR SALE**  2014 Ford F550 Super Duty 45' Al...</td>\n",
       "      <td>sd</td>\n",
       "      <td>42.117274</td>\n",
       "      <td>-88.436783</td>\n",
       "      <td>2021-04-12T10:34:12-0500</td>\n",
       "      <td>high</td>\n",
       "      <td>2021-04-12 15:34:12+00:00</td>\n",
       "    </tr>\n",
       "    <tr>\n",
       "      <th>...</th>\n",
       "      <td>...</td>\n",
       "      <td>...</td>\n",
       "      <td>...</td>\n",
       "      <td>...</td>\n",
       "      <td>...</td>\n",
       "      <td>...</td>\n",
       "      <td>...</td>\n",
       "      <td>...</td>\n",
       "      <td>...</td>\n",
       "      <td>...</td>\n",
       "      <td>...</td>\n",
       "      <td>...</td>\n",
       "      <td>...</td>\n",
       "      <td>...</td>\n",
       "      <td>...</td>\n",
       "      <td>...</td>\n",
       "      <td>...</td>\n",
       "      <td>...</td>\n",
       "      <td>...</td>\n",
       "      <td>...</td>\n",
       "    </tr>\n",
       "    <tr>\n",
       "      <th>9926</th>\n",
       "      <td>7316447901</td>\n",
       "      <td>https://tulsa.craigslist.org/cto/d/tulsa-2017-...</td>\n",
       "      <td>tulsa</td>\n",
       "      <td>https://tulsa.craigslist.org</td>\n",
       "      <td>65000</td>\n",
       "      <td>2017</td>\n",
       "      <td>rover</td>\n",
       "      <td>other</td>\n",
       "      <td>gas</td>\n",
       "      <td>47000</td>\n",
       "      <td>clean</td>\n",
       "      <td>automatic</td>\n",
       "      <td>https://images.craigslist.org/00s0s_iGpmplDL99...</td>\n",
       "      <td>2017 Range Rover HSE, supercharged V8, silver ...</td>\n",
       "      <td>ok</td>\n",
       "      <td>36.126200</td>\n",
       "      <td>-95.940800</td>\n",
       "      <td>2021-05-03T16:37:36-0500</td>\n",
       "      <td>high</td>\n",
       "      <td>2021-05-03 21:37:36+00:00</td>\n",
       "    </tr>\n",
       "    <tr>\n",
       "      <th>9955</th>\n",
       "      <td>7315493686</td>\n",
       "      <td>https://palmsprings.craigslist.org/ctd/d/fonta...</td>\n",
       "      <td>palm springs</td>\n",
       "      <td>https://palmsprings.craigslist.org</td>\n",
       "      <td>68995</td>\n",
       "      <td>2016</td>\n",
       "      <td>ram</td>\n",
       "      <td>2500</td>\n",
       "      <td>diesel</td>\n",
       "      <td>61130</td>\n",
       "      <td>clean</td>\n",
       "      <td>automatic</td>\n",
       "      <td>https://images.craigslist.org/00p0p_5PdfAkd0AM...</td>\n",
       "      <td>2016 Ram 2500 Laramie     Offered by: R&amp;B Auto...</td>\n",
       "      <td>ca</td>\n",
       "      <td>34.107220</td>\n",
       "      <td>-117.455310</td>\n",
       "      <td>2021-05-01T13:40:57-0700</td>\n",
       "      <td>high</td>\n",
       "      <td>2021-05-01 20:40:57+00:00</td>\n",
       "    </tr>\n",
       "    <tr>\n",
       "      <th>9971</th>\n",
       "      <td>7314385254</td>\n",
       "      <td>https://spokane.craigslist.org/ctd/d/puyallup-...</td>\n",
       "      <td>spokane / coeur d'alene</td>\n",
       "      <td>https://spokane.craigslist.org</td>\n",
       "      <td>86977</td>\n",
       "      <td>2017</td>\n",
       "      <td>ford</td>\n",
       "      <td>f450 super duty crew cab</td>\n",
       "      <td>diesel</td>\n",
       "      <td>16806</td>\n",
       "      <td>clean</td>\n",
       "      <td>automatic</td>\n",
       "      <td>https://images.craigslist.org/00H0H_5P0NdUIgHi...</td>\n",
       "      <td>2017 *** Ford F450 Super Duty Crew Cab Platinu...</td>\n",
       "      <td>id</td>\n",
       "      <td>47.197304</td>\n",
       "      <td>-122.291776</td>\n",
       "      <td>2021-04-29T10:03:19-0700</td>\n",
       "      <td>high</td>\n",
       "      <td>2021-04-29 17:03:19+00:00</td>\n",
       "    </tr>\n",
       "    <tr>\n",
       "      <th>9978</th>\n",
       "      <td>7307184389</td>\n",
       "      <td>https://holland.craigslist.org/ctd/d/otsego-20...</td>\n",
       "      <td>holland</td>\n",
       "      <td>https://holland.craigslist.org</td>\n",
       "      <td>61022</td>\n",
       "      <td>2020</td>\n",
       "      <td>gmc</td>\n",
       "      <td>sierra 1500</td>\n",
       "      <td>gas</td>\n",
       "      <td>5894</td>\n",
       "      <td>clean</td>\n",
       "      <td>automatic</td>\n",
       "      <td>https://images.craigslist.org/00i0i_64FIhCkyTb...</td>\n",
       "      <td>2020 GMC Sierra 1500 AT4 -- $61,022    ☎ Call ...</td>\n",
       "      <td>mi</td>\n",
       "      <td>42.448987</td>\n",
       "      <td>-85.661948</td>\n",
       "      <td>2021-04-15T11:05:47-0400</td>\n",
       "      <td>high</td>\n",
       "      <td>2021-04-15 15:05:47+00:00</td>\n",
       "    </tr>\n",
       "    <tr>\n",
       "      <th>9988</th>\n",
       "      <td>7313922964</td>\n",
       "      <td>https://redding.craigslist.org/cto/d/redding-2...</td>\n",
       "      <td>redding</td>\n",
       "      <td>https://redding.craigslist.org</td>\n",
       "      <td>65900</td>\n",
       "      <td>2018</td>\n",
       "      <td>lincoln</td>\n",
       "      <td>navigator reserve</td>\n",
       "      <td>gas</td>\n",
       "      <td>28200</td>\n",
       "      <td>clean</td>\n",
       "      <td>automatic</td>\n",
       "      <td>https://images.craigslist.org/00v0v_9Kj5yr4e5L...</td>\n",
       "      <td>2018 navigator reserve in great condition If y...</td>\n",
       "      <td>ca</td>\n",
       "      <td>40.560500</td>\n",
       "      <td>-122.411600</td>\n",
       "      <td>2021-04-28T10:42:04-0700</td>\n",
       "      <td>high</td>\n",
       "      <td>2021-04-28 17:42:04+00:00</td>\n",
       "    </tr>\n",
       "  </tbody>\n",
       "</table>\n",
       "<p>215 rows × 20 columns</p>\n",
       "</div>"
      ],
      "text/plain": [
       "              id                                                url  \\\n",
       "21    7312327909  https://madison.craigslist.org/cto/d/madison-1...   \n",
       "33    7304521734  https://kpr.craigslist.org/ctd/d/pasco-2019-fo...   \n",
       "57    7314413105  https://inlandempire.craigslist.org/ctd/d/cost...   \n",
       "96    7311450619  https://wenatchee.craigslist.org/ctd/d/kittita...   \n",
       "144   7305640478  https://siouxfalls.craigslist.org/ctd/d/gilber...   \n",
       "...          ...                                                ...   \n",
       "9926  7316447901  https://tulsa.craigslist.org/cto/d/tulsa-2017-...   \n",
       "9955  7315493686  https://palmsprings.craigslist.org/ctd/d/fonta...   \n",
       "9971  7314385254  https://spokane.craigslist.org/ctd/d/puyallup-...   \n",
       "9978  7307184389  https://holland.craigslist.org/ctd/d/otsego-20...   \n",
       "9988  7313922964  https://redding.craigslist.org/cto/d/redding-2...   \n",
       "\n",
       "                        region                           region_url  price  \\\n",
       "21                     madison       https://madison.craigslist.org  89995   \n",
       "33    kennewick-pasco-richland           https://kpr.craigslist.org  79999   \n",
       "57               inland empire  https://inlandempire.craigslist.org  69888   \n",
       "96                   wenatchee     https://wenatchee.craigslist.org  58995   \n",
       "144        sioux falls / SE SD    https://siouxfalls.craigslist.org  59900   \n",
       "...                        ...                                  ...    ...   \n",
       "9926                     tulsa         https://tulsa.craigslist.org  65000   \n",
       "9955              palm springs   https://palmsprings.craigslist.org  68995   \n",
       "9971   spokane / coeur d'alene       https://spokane.craigslist.org  86977   \n",
       "9978                   holland       https://holland.craigslist.org  61022   \n",
       "9988                   redding       https://redding.craigslist.org  65900   \n",
       "\n",
       "      year manufacturer                     model    fuel  odometer  \\\n",
       "21    1970        other            oldsmobile 442     gas    111111   \n",
       "33    2019         ford  f450 deisel power stroke  diesel     41759   \n",
       "57    1948         ford                       coe     gas         1   \n",
       "96    2020         jeep                  wrangler     gas     17799   \n",
       "144   2014         ford                   f550 xl  diesel    156000   \n",
       "...    ...          ...                       ...     ...       ...   \n",
       "9926  2017        rover                     other     gas     47000   \n",
       "9955  2016          ram                      2500  diesel     61130   \n",
       "9971  2017         ford  f450 super duty crew cab  diesel     16806   \n",
       "9978  2020          gmc               sierra 1500     gas      5894   \n",
       "9988  2018      lincoln         navigator reserve     gas     28200   \n",
       "\n",
       "     title_status transmission  \\\n",
       "21          clean    automatic   \n",
       "33          clean    automatic   \n",
       "57          clean    automatic   \n",
       "96          clean    automatic   \n",
       "144         clean    automatic   \n",
       "...           ...          ...   \n",
       "9926        clean    automatic   \n",
       "9955        clean    automatic   \n",
       "9971        clean    automatic   \n",
       "9978        clean    automatic   \n",
       "9988        clean    automatic   \n",
       "\n",
       "                                              image_url  \\\n",
       "21    https://images.craigslist.org/00S0S_agk7Nol4CO...   \n",
       "33    https://images.craigslist.org/00D0D_ctOGGthFxQ...   \n",
       "57    https://images.craigslist.org/00M0M_8jgBCZZuG6...   \n",
       "96    https://images.craigslist.org/00a0a_chVstv8e4Z...   \n",
       "144   https://images.craigslist.org/00x0x_httQ0BwNkq...   \n",
       "...                                                 ...   \n",
       "9926  https://images.craigslist.org/00s0s_iGpmplDL99...   \n",
       "9955  https://images.craigslist.org/00p0p_5PdfAkd0AM...   \n",
       "9971  https://images.craigslist.org/00H0H_5P0NdUIgHi...   \n",
       "9978  https://images.craigslist.org/00i0i_64FIhCkyTb...   \n",
       "9988  https://images.craigslist.org/00v0v_9Kj5yr4e5L...   \n",
       "\n",
       "                                            description state        lat  \\\n",
       "21    1970 Oldsmobile 442 Convertible 442 Indy Pace ...    wi  43.098400   \n",
       "33    2019 Ford F450 Lariat FX4 Dually 4x4 **Clean C...    wa  46.234838   \n",
       "57    Awesome Resto-Mod COE Ford Car Hauler. Equippe...    ca  33.680100   \n",
       "96    ＷＩＮＤＹ ＣＨＥＶＲＯＬＥＴ  ⭐ No Payments For 90 Days*  ⭐...    wa  46.999600   \n",
       "144   **FOR SALE**  2014 Ford F550 Super Duty 45' Al...    sd  42.117274   \n",
       "...                                                 ...   ...        ...   \n",
       "9926  2017 Range Rover HSE, supercharged V8, silver ...    ok  36.126200   \n",
       "9955  2016 Ram 2500 Laramie     Offered by: R&B Auto...    ca  34.107220   \n",
       "9971  2017 *** Ford F450 Super Duty Crew Cab Platinu...    id  47.197304   \n",
       "9978  2020 GMC Sierra 1500 AT4 -- $61,022    ☎ Call ...    mi  42.448987   \n",
       "9988  2018 navigator reserve in great condition If y...    ca  40.560500   \n",
       "\n",
       "            long              posting_date price_category  \\\n",
       "21    -89.273400  2021-04-25T10:10:43-0500           high   \n",
       "33   -119.128015  2021-04-09T19:46:04-0700           high   \n",
       "57   -117.908500  2021-04-29T10:49:29-0700           high   \n",
       "96   -120.516300  2021-04-23T10:43:27-0700           high   \n",
       "144   -88.436783  2021-04-12T10:34:12-0500           high   \n",
       "...          ...                       ...            ...   \n",
       "9926  -95.940800  2021-05-03T16:37:36-0500           high   \n",
       "9955 -117.455310  2021-05-01T13:40:57-0700           high   \n",
       "9971 -122.291776  2021-04-29T10:03:19-0700           high   \n",
       "9978  -85.661948  2021-04-15T11:05:47-0400           high   \n",
       "9988 -122.411600  2021-04-28T10:42:04-0700           high   \n",
       "\n",
       "                          date  \n",
       "21   2021-04-25 15:10:43+00:00  \n",
       "33   2021-04-10 02:46:04+00:00  \n",
       "57   2021-04-29 17:49:29+00:00  \n",
       "96   2021-04-23 17:43:27+00:00  \n",
       "144  2021-04-12 15:34:12+00:00  \n",
       "...                        ...  \n",
       "9926 2021-05-03 21:37:36+00:00  \n",
       "9955 2021-05-01 20:40:57+00:00  \n",
       "9971 2021-04-29 17:03:19+00:00  \n",
       "9978 2021-04-15 15:05:47+00:00  \n",
       "9988 2021-04-28 17:42:04+00:00  \n",
       "\n",
       "[215 rows x 20 columns]"
      ]
     },
     "execution_count": 59,
     "metadata": {},
     "output_type": "execute_result"
    }
   ],
   "source": [
    "df_out[is_outlier_price]"
   ]
  },
  {
   "cell_type": "code",
   "execution_count": 60,
   "id": "5f9c67a8",
   "metadata": {
    "hidden": true
   },
   "outputs": [],
   "source": [
    "df_out.loc[is_outlier_price, 'price'] = boundaries_price[1]"
   ]
  },
  {
   "cell_type": "code",
   "execution_count": 61,
   "id": "04168cad",
   "metadata": {
    "hidden": true
   },
   "outputs": [
    {
     "data": {
      "text/plain": [
       "count     9997.000\n",
       "mean     18971.872\n",
       "std      13695.895\n",
       "min        500.000\n",
       "25%       7900.000\n",
       "50%      15763.000\n",
       "75%      27990.000\n",
       "max      58125.000\n",
       "Name: price, dtype: object"
      ]
     },
     "execution_count": 61,
     "metadata": {},
     "output_type": "execute_result"
    }
   ],
   "source": [
    "df_out.price.describe().apply(lambda x: f\"{x:0.3f}\")"
   ]
  },
  {
   "cell_type": "markdown",
   "id": "a1476e36",
   "metadata": {
    "heading_collapsed": true,
    "hidden": true
   },
   "source": [
    "### Check for anomalies and outliers in a column: \"year\""
   ]
  },
  {
   "cell_type": "code",
   "execution_count": 62,
   "id": "2984e362",
   "metadata": {
    "hidden": true
   },
   "outputs": [
    {
     "data": {
      "text/plain": [
       "count    9997.000000\n",
       "mean     2010.955487\n",
       "std         9.668015\n",
       "min      1915.000000\n",
       "25%      2008.000000\n",
       "50%      2013.000000\n",
       "75%      2017.000000\n",
       "max      2022.000000\n",
       "Name: year, dtype: float64"
      ]
     },
     "execution_count": 62,
     "metadata": {},
     "output_type": "execute_result"
    }
   ],
   "source": [
    "df_out.year.describe()"
   ]
  },
  {
   "cell_type": "code",
   "execution_count": 63,
   "id": "515b35ab",
   "metadata": {
    "hidden": true
   },
   "outputs": [
    {
     "data": {
      "text/plain": [
       "(1994.5, 2030.5)"
      ]
     },
     "execution_count": 63,
     "metadata": {},
     "output_type": "execute_result"
    }
   ],
   "source": [
    "boundaries_year, is_outlier_year = get_out_boundaries('year')\n",
    "boundaries_year"
   ]
  },
  {
   "cell_type": "code",
   "execution_count": 64,
   "id": "b365fdad",
   "metadata": {
    "hidden": true
   },
   "outputs": [
    {
     "data": {
      "text/html": [
       "<div>\n",
       "<style scoped>\n",
       "    .dataframe tbody tr th:only-of-type {\n",
       "        vertical-align: middle;\n",
       "    }\n",
       "\n",
       "    .dataframe tbody tr th {\n",
       "        vertical-align: top;\n",
       "    }\n",
       "\n",
       "    .dataframe thead th {\n",
       "        text-align: right;\n",
       "    }\n",
       "</style>\n",
       "<table border=\"1\" class=\"dataframe\">\n",
       "  <thead>\n",
       "    <tr style=\"text-align: right;\">\n",
       "      <th></th>\n",
       "      <th>id</th>\n",
       "      <th>url</th>\n",
       "      <th>region</th>\n",
       "      <th>region_url</th>\n",
       "      <th>price</th>\n",
       "      <th>year</th>\n",
       "      <th>manufacturer</th>\n",
       "      <th>model</th>\n",
       "      <th>fuel</th>\n",
       "      <th>odometer</th>\n",
       "      <th>title_status</th>\n",
       "      <th>transmission</th>\n",
       "      <th>image_url</th>\n",
       "      <th>description</th>\n",
       "      <th>state</th>\n",
       "      <th>lat</th>\n",
       "      <th>long</th>\n",
       "      <th>posting_date</th>\n",
       "      <th>price_category</th>\n",
       "      <th>date</th>\n",
       "    </tr>\n",
       "  </thead>\n",
       "  <tbody>\n",
       "    <tr>\n",
       "      <th>13</th>\n",
       "      <td>7317089086</td>\n",
       "      <td>https://seattle.craigslist.org/see/ctd/d/portl...</td>\n",
       "      <td>seattle-tacoma</td>\n",
       "      <td>https://seattle.craigslist.org</td>\n",
       "      <td>14995</td>\n",
       "      <td>1994</td>\n",
       "      <td>ford</td>\n",
       "      <td>e-series van universal by glaval designer luxu...</td>\n",
       "      <td>gas</td>\n",
       "      <td>156925</td>\n",
       "      <td>clean</td>\n",
       "      <td>automatic</td>\n",
       "      <td>https://images.craigslist.org/00r0r_13JUlXZOMl...</td>\n",
       "      <td>Priced to Sell: $14,9951994 Ford E-Series Van ...</td>\n",
       "      <td>wa</td>\n",
       "      <td>45.391373</td>\n",
       "      <td>-122.613533</td>\n",
       "      <td>2021-05-04T20:22:11-0700</td>\n",
       "      <td>medium</td>\n",
       "      <td>2021-05-05 03:22:11+00:00</td>\n",
       "    </tr>\n",
       "    <tr>\n",
       "      <th>21</th>\n",
       "      <td>7312327909</td>\n",
       "      <td>https://madison.craigslist.org/cto/d/madison-1...</td>\n",
       "      <td>madison</td>\n",
       "      <td>https://madison.craigslist.org</td>\n",
       "      <td>58125</td>\n",
       "      <td>1970</td>\n",
       "      <td>other</td>\n",
       "      <td>oldsmobile 442</td>\n",
       "      <td>gas</td>\n",
       "      <td>111111</td>\n",
       "      <td>clean</td>\n",
       "      <td>automatic</td>\n",
       "      <td>https://images.craigslist.org/00S0S_agk7Nol4CO...</td>\n",
       "      <td>1970 Oldsmobile 442 Convertible 442 Indy Pace ...</td>\n",
       "      <td>wi</td>\n",
       "      <td>43.098400</td>\n",
       "      <td>-89.273400</td>\n",
       "      <td>2021-04-25T10:10:43-0500</td>\n",
       "      <td>high</td>\n",
       "      <td>2021-04-25 15:10:43+00:00</td>\n",
       "    </tr>\n",
       "    <tr>\n",
       "      <th>57</th>\n",
       "      <td>7314413105</td>\n",
       "      <td>https://inlandempire.craigslist.org/ctd/d/cost...</td>\n",
       "      <td>inland empire</td>\n",
       "      <td>https://inlandempire.craigslist.org</td>\n",
       "      <td>58125</td>\n",
       "      <td>1948</td>\n",
       "      <td>ford</td>\n",
       "      <td>coe</td>\n",
       "      <td>gas</td>\n",
       "      <td>1</td>\n",
       "      <td>clean</td>\n",
       "      <td>automatic</td>\n",
       "      <td>https://images.craigslist.org/00M0M_8jgBCZZuG6...</td>\n",
       "      <td>Awesome Resto-Mod COE Ford Car Hauler. Equippe...</td>\n",
       "      <td>ca</td>\n",
       "      <td>33.680100</td>\n",
       "      <td>-117.908500</td>\n",
       "      <td>2021-04-29T10:49:29-0700</td>\n",
       "      <td>high</td>\n",
       "      <td>2021-04-29 17:49:29+00:00</td>\n",
       "    </tr>\n",
       "    <tr>\n",
       "      <th>66</th>\n",
       "      <td>7310077530</td>\n",
       "      <td>https://hudsonvalley.craigslist.org/cto/d/bloo...</td>\n",
       "      <td>hudson valley</td>\n",
       "      <td>https://hudsonvalley.craigslist.org</td>\n",
       "      <td>5500</td>\n",
       "      <td>1990</td>\n",
       "      <td>other</td>\n",
       "      <td>Diahatsu</td>\n",
       "      <td>gas</td>\n",
       "      <td>30000</td>\n",
       "      <td>clean</td>\n",
       "      <td>manual</td>\n",
       "      <td>https://images.craigslist.org/00T0T_a4VRbx40ea...</td>\n",
       "      <td>1991 Daihatsu hijet 5 speed extended cab....im...</td>\n",
       "      <td>ny</td>\n",
       "      <td>41.564400</td>\n",
       "      <td>-74.430400</td>\n",
       "      <td>2021-04-20T18:30:18-0400</td>\n",
       "      <td>low</td>\n",
       "      <td>2021-04-20 22:30:18+00:00</td>\n",
       "    </tr>\n",
       "    <tr>\n",
       "      <th>106</th>\n",
       "      <td>7314527175</td>\n",
       "      <td>https://rapidcity.craigslist.org/ctd/d/sherman...</td>\n",
       "      <td>rapid city / west SD</td>\n",
       "      <td>https://rapidcity.craigslist.org</td>\n",
       "      <td>43500</td>\n",
       "      <td>1968</td>\n",
       "      <td>chevrolet</td>\n",
       "      <td>camaro</td>\n",
       "      <td>gas</td>\n",
       "      <td>43320</td>\n",
       "      <td>clean</td>\n",
       "      <td>manual</td>\n",
       "      <td>https://images.craigslist.org/00h0h_2N66LMJBAI...</td>\n",
       "      <td>1968 Chevrolet Camaro Convertible. VIN:124678N...</td>\n",
       "      <td>sd</td>\n",
       "      <td>33.637200</td>\n",
       "      <td>-96.618400</td>\n",
       "      <td>2021-04-29T15:11:01-0600</td>\n",
       "      <td>high</td>\n",
       "      <td>2021-04-29 21:11:01+00:00</td>\n",
       "    </tr>\n",
       "    <tr>\n",
       "      <th>...</th>\n",
       "      <td>...</td>\n",
       "      <td>...</td>\n",
       "      <td>...</td>\n",
       "      <td>...</td>\n",
       "      <td>...</td>\n",
       "      <td>...</td>\n",
       "      <td>...</td>\n",
       "      <td>...</td>\n",
       "      <td>...</td>\n",
       "      <td>...</td>\n",
       "      <td>...</td>\n",
       "      <td>...</td>\n",
       "      <td>...</td>\n",
       "      <td>...</td>\n",
       "      <td>...</td>\n",
       "      <td>...</td>\n",
       "      <td>...</td>\n",
       "      <td>...</td>\n",
       "      <td>...</td>\n",
       "      <td>...</td>\n",
       "    </tr>\n",
       "    <tr>\n",
       "      <th>9886</th>\n",
       "      <td>7313487583</td>\n",
       "      <td>https://springfield.craigslist.org/cto/d/mount...</td>\n",
       "      <td>springfield</td>\n",
       "      <td>https://springfield.craigslist.org</td>\n",
       "      <td>3500</td>\n",
       "      <td>1974</td>\n",
       "      <td>jeep</td>\n",
       "      <td>cj5</td>\n",
       "      <td>gas</td>\n",
       "      <td>10000</td>\n",
       "      <td>clean</td>\n",
       "      <td>manual</td>\n",
       "      <td>https://images.craigslist.org/00G0G_cdxzaTaVqa...</td>\n",
       "      <td>1974 Jeep cj5  304 v8  4speed manual trans  Da...</td>\n",
       "      <td>mo</td>\n",
       "      <td>36.331200</td>\n",
       "      <td>-92.375300</td>\n",
       "      <td>2021-04-27T14:30:28-0500</td>\n",
       "      <td>low</td>\n",
       "      <td>2021-04-27 19:30:28+00:00</td>\n",
       "    </tr>\n",
       "    <tr>\n",
       "      <th>9921</th>\n",
       "      <td>7311566144</td>\n",
       "      <td>https://chico.craigslist.org/cto/d/chico-1994-...</td>\n",
       "      <td>chico</td>\n",
       "      <td>https://chico.craigslist.org</td>\n",
       "      <td>16000</td>\n",
       "      <td>1994</td>\n",
       "      <td>ford</td>\n",
       "      <td>f250</td>\n",
       "      <td>gas</td>\n",
       "      <td>32500</td>\n",
       "      <td>clean</td>\n",
       "      <td>automatic</td>\n",
       "      <td>https://images.craigslist.org/01010_343KkgTaHo...</td>\n",
       "      <td>Up for sale is this 32,000 original mile Ford ...</td>\n",
       "      <td>ca</td>\n",
       "      <td>39.745800</td>\n",
       "      <td>-121.844400</td>\n",
       "      <td>2021-04-23T13:51:20-0700</td>\n",
       "      <td>medium</td>\n",
       "      <td>2021-04-23 20:51:20+00:00</td>\n",
       "    </tr>\n",
       "    <tr>\n",
       "      <th>9944</th>\n",
       "      <td>7313676859</td>\n",
       "      <td>https://reno.craigslist.org/ctd/d/sherman-1984...</td>\n",
       "      <td>reno / tahoe</td>\n",
       "      <td>https://reno.craigslist.org</td>\n",
       "      <td>26500</td>\n",
       "      <td>1984</td>\n",
       "      <td>chevrolet</td>\n",
       "      <td>silverado</td>\n",
       "      <td>gas</td>\n",
       "      <td>38751</td>\n",
       "      <td>clean</td>\n",
       "      <td>automatic</td>\n",
       "      <td>https://images.craigslist.org/00r0r_czXfi4UeJF...</td>\n",
       "      <td>1984 Chevrolet C10 Silverado, short wheelbase ...</td>\n",
       "      <td>ca</td>\n",
       "      <td>33.637200</td>\n",
       "      <td>-96.618400</td>\n",
       "      <td>2021-04-27T19:44:27-0700</td>\n",
       "      <td>high</td>\n",
       "      <td>2021-04-28 02:44:27+00:00</td>\n",
       "    </tr>\n",
       "    <tr>\n",
       "      <th>9972</th>\n",
       "      <td>7316458200</td>\n",
       "      <td>https://portland.craigslist.org/mlt/cto/d/port...</td>\n",
       "      <td>portland</td>\n",
       "      <td>https://portland.craigslist.org</td>\n",
       "      <td>18500</td>\n",
       "      <td>1972</td>\n",
       "      <td>chevrolet</td>\n",
       "      <td>other</td>\n",
       "      <td>gas</td>\n",
       "      <td>75000</td>\n",
       "      <td>clean</td>\n",
       "      <td>automatic</td>\n",
       "      <td>https://images.craigslist.org/00x0x_7FqS8iHJst...</td>\n",
       "      <td>1972 classic Chevrolet pick up custom  deluxe ...</td>\n",
       "      <td>or</td>\n",
       "      <td>45.494960</td>\n",
       "      <td>-122.666988</td>\n",
       "      <td>2021-05-03T14:58:34-0700</td>\n",
       "      <td>medium</td>\n",
       "      <td>2021-05-03 21:58:34+00:00</td>\n",
       "    </tr>\n",
       "    <tr>\n",
       "      <th>9990</th>\n",
       "      <td>7316175335</td>\n",
       "      <td>https://orangecounty.craigslist.org/cto/d/hunt...</td>\n",
       "      <td>orange county</td>\n",
       "      <td>https://orangecounty.craigslist.org</td>\n",
       "      <td>1575</td>\n",
       "      <td>1988</td>\n",
       "      <td>other</td>\n",
       "      <td>1988 Nisan</td>\n",
       "      <td>gas</td>\n",
       "      <td>120000</td>\n",
       "      <td>clean</td>\n",
       "      <td>manual</td>\n",
       "      <td>https://images.craigslist.org/00B0B_5t6BpiGoz9...</td>\n",
       "      <td>Really good running 88 Nissan. Has Sun roof. B...</td>\n",
       "      <td>ca</td>\n",
       "      <td>33.654019</td>\n",
       "      <td>-117.980606</td>\n",
       "      <td>2021-05-03T07:19:18-0700</td>\n",
       "      <td>low</td>\n",
       "      <td>2021-05-03 14:19:18+00:00</td>\n",
       "    </tr>\n",
       "  </tbody>\n",
       "</table>\n",
       "<p>394 rows × 20 columns</p>\n",
       "</div>"
      ],
      "text/plain": [
       "              id                                                url  \\\n",
       "13    7317089086  https://seattle.craigslist.org/see/ctd/d/portl...   \n",
       "21    7312327909  https://madison.craigslist.org/cto/d/madison-1...   \n",
       "57    7314413105  https://inlandempire.craigslist.org/ctd/d/cost...   \n",
       "66    7310077530  https://hudsonvalley.craigslist.org/cto/d/bloo...   \n",
       "106   7314527175  https://rapidcity.craigslist.org/ctd/d/sherman...   \n",
       "...          ...                                                ...   \n",
       "9886  7313487583  https://springfield.craigslist.org/cto/d/mount...   \n",
       "9921  7311566144  https://chico.craigslist.org/cto/d/chico-1994-...   \n",
       "9944  7313676859  https://reno.craigslist.org/ctd/d/sherman-1984...   \n",
       "9972  7316458200  https://portland.craigslist.org/mlt/cto/d/port...   \n",
       "9990  7316175335  https://orangecounty.craigslist.org/cto/d/hunt...   \n",
       "\n",
       "                    region                           region_url  price  year  \\\n",
       "13          seattle-tacoma       https://seattle.craigslist.org  14995  1994   \n",
       "21                 madison       https://madison.craigslist.org  58125  1970   \n",
       "57           inland empire  https://inlandempire.craigslist.org  58125  1948   \n",
       "66           hudson valley  https://hudsonvalley.craigslist.org   5500  1990   \n",
       "106   rapid city / west SD     https://rapidcity.craigslist.org  43500  1968   \n",
       "...                    ...                                  ...    ...   ...   \n",
       "9886           springfield   https://springfield.craigslist.org   3500  1974   \n",
       "9921                 chico         https://chico.craigslist.org  16000  1994   \n",
       "9944          reno / tahoe          https://reno.craigslist.org  26500  1984   \n",
       "9972              portland      https://portland.craigslist.org  18500  1972   \n",
       "9990         orange county  https://orangecounty.craigslist.org   1575  1988   \n",
       "\n",
       "     manufacturer                                              model fuel  \\\n",
       "13           ford  e-series van universal by glaval designer luxu...  gas   \n",
       "21          other                                     oldsmobile 442  gas   \n",
       "57           ford                                                coe  gas   \n",
       "66          other                                           Diahatsu  gas   \n",
       "106     chevrolet                                             camaro  gas   \n",
       "...           ...                                                ...  ...   \n",
       "9886         jeep                                                cj5  gas   \n",
       "9921         ford                                               f250  gas   \n",
       "9944    chevrolet                                          silverado  gas   \n",
       "9972    chevrolet                                              other  gas   \n",
       "9990        other                                         1988 Nisan  gas   \n",
       "\n",
       "      odometer title_status transmission  \\\n",
       "13      156925        clean    automatic   \n",
       "21      111111        clean    automatic   \n",
       "57           1        clean    automatic   \n",
       "66       30000        clean       manual   \n",
       "106      43320        clean       manual   \n",
       "...        ...          ...          ...   \n",
       "9886     10000        clean       manual   \n",
       "9921     32500        clean    automatic   \n",
       "9944     38751        clean    automatic   \n",
       "9972     75000        clean    automatic   \n",
       "9990    120000        clean       manual   \n",
       "\n",
       "                                              image_url  \\\n",
       "13    https://images.craigslist.org/00r0r_13JUlXZOMl...   \n",
       "21    https://images.craigslist.org/00S0S_agk7Nol4CO...   \n",
       "57    https://images.craigslist.org/00M0M_8jgBCZZuG6...   \n",
       "66    https://images.craigslist.org/00T0T_a4VRbx40ea...   \n",
       "106   https://images.craigslist.org/00h0h_2N66LMJBAI...   \n",
       "...                                                 ...   \n",
       "9886  https://images.craigslist.org/00G0G_cdxzaTaVqa...   \n",
       "9921  https://images.craigslist.org/01010_343KkgTaHo...   \n",
       "9944  https://images.craigslist.org/00r0r_czXfi4UeJF...   \n",
       "9972  https://images.craigslist.org/00x0x_7FqS8iHJst...   \n",
       "9990  https://images.craigslist.org/00B0B_5t6BpiGoz9...   \n",
       "\n",
       "                                            description state        lat  \\\n",
       "13    Priced to Sell: $14,9951994 Ford E-Series Van ...    wa  45.391373   \n",
       "21    1970 Oldsmobile 442 Convertible 442 Indy Pace ...    wi  43.098400   \n",
       "57    Awesome Resto-Mod COE Ford Car Hauler. Equippe...    ca  33.680100   \n",
       "66    1991 Daihatsu hijet 5 speed extended cab....im...    ny  41.564400   \n",
       "106   1968 Chevrolet Camaro Convertible. VIN:124678N...    sd  33.637200   \n",
       "...                                                 ...   ...        ...   \n",
       "9886  1974 Jeep cj5  304 v8  4speed manual trans  Da...    mo  36.331200   \n",
       "9921  Up for sale is this 32,000 original mile Ford ...    ca  39.745800   \n",
       "9944  1984 Chevrolet C10 Silverado, short wheelbase ...    ca  33.637200   \n",
       "9972  1972 classic Chevrolet pick up custom  deluxe ...    or  45.494960   \n",
       "9990  Really good running 88 Nissan. Has Sun roof. B...    ca  33.654019   \n",
       "\n",
       "            long              posting_date price_category  \\\n",
       "13   -122.613533  2021-05-04T20:22:11-0700         medium   \n",
       "21    -89.273400  2021-04-25T10:10:43-0500           high   \n",
       "57   -117.908500  2021-04-29T10:49:29-0700           high   \n",
       "66    -74.430400  2021-04-20T18:30:18-0400            low   \n",
       "106   -96.618400  2021-04-29T15:11:01-0600           high   \n",
       "...          ...                       ...            ...   \n",
       "9886  -92.375300  2021-04-27T14:30:28-0500            low   \n",
       "9921 -121.844400  2021-04-23T13:51:20-0700         medium   \n",
       "9944  -96.618400  2021-04-27T19:44:27-0700           high   \n",
       "9972 -122.666988  2021-05-03T14:58:34-0700         medium   \n",
       "9990 -117.980606  2021-05-03T07:19:18-0700            low   \n",
       "\n",
       "                          date  \n",
       "13   2021-05-05 03:22:11+00:00  \n",
       "21   2021-04-25 15:10:43+00:00  \n",
       "57   2021-04-29 17:49:29+00:00  \n",
       "66   2021-04-20 22:30:18+00:00  \n",
       "106  2021-04-29 21:11:01+00:00  \n",
       "...                        ...  \n",
       "9886 2021-04-27 19:30:28+00:00  \n",
       "9921 2021-04-23 20:51:20+00:00  \n",
       "9944 2021-04-28 02:44:27+00:00  \n",
       "9972 2021-05-03 21:58:34+00:00  \n",
       "9990 2021-05-03 14:19:18+00:00  \n",
       "\n",
       "[394 rows x 20 columns]"
      ]
     },
     "execution_count": 64,
     "metadata": {},
     "output_type": "execute_result"
    }
   ],
   "source": [
    "df_out[is_outlier_year]"
   ]
  },
  {
   "cell_type": "code",
   "execution_count": 65,
   "id": "e0d7ba5b",
   "metadata": {
    "hidden": true
   },
   "outputs": [],
   "source": [
    "df_out.loc[is_outlier_year, 'year'] = int(boundaries_year[0]) + 1"
   ]
  },
  {
   "cell_type": "code",
   "execution_count": 66,
   "id": "8b97306d",
   "metadata": {
    "hidden": true
   },
   "outputs": [
    {
     "data": {
      "text/plain": [
       "count    9997.000000\n",
       "mean     2011.733920\n",
       "std         6.416065\n",
       "min      1995.000000\n",
       "25%      2008.000000\n",
       "50%      2013.000000\n",
       "75%      2017.000000\n",
       "max      2022.000000\n",
       "Name: year, dtype: float64"
      ]
     },
     "execution_count": 66,
     "metadata": {},
     "output_type": "execute_result"
    }
   ],
   "source": [
    "df_out.year.describe()"
   ]
  },
  {
   "cell_type": "markdown",
   "id": "971195c6",
   "metadata": {
    "heading_collapsed": true,
    "hidden": true
   },
   "source": [
    "### Check for anomalies and outliers in a column: \"odometer\""
   ]
  },
  {
   "cell_type": "code",
   "execution_count": 67,
   "id": "2b7f721c",
   "metadata": {
    "hidden": true
   },
   "outputs": [
    {
     "data": {
      "text/plain": [
       "count      9997.000\n",
       "mean      93332.999\n",
       "std       63183.752\n",
       "min           0.000\n",
       "25%       39149.000\n",
       "50%       89000.000\n",
       "75%      136875.000\n",
       "max      283466.000\n",
       "Name: odometer, dtype: object"
      ]
     },
     "execution_count": 67,
     "metadata": {},
     "output_type": "execute_result"
    }
   ],
   "source": [
    "df_out.odometer.describe().apply(lambda x: f\"{x:0.3f}\")"
   ]
  },
  {
   "cell_type": "code",
   "execution_count": 68,
   "id": "a17462fb",
   "metadata": {
    "hidden": true
   },
   "outputs": [
    {
     "data": {
      "text/plain": [
       "(-107440.0, 283464.0)"
      ]
     },
     "execution_count": 68,
     "metadata": {},
     "output_type": "execute_result"
    }
   ],
   "source": [
    "boundaries_odometer, is_outlier_odometer = get_out_boundaries('odometer')\n",
    "boundaries_odometer"
   ]
  },
  {
   "cell_type": "code",
   "execution_count": 69,
   "id": "100fcfe0",
   "metadata": {
    "hidden": true
   },
   "outputs": [
    {
     "data": {
      "text/html": [
       "<div>\n",
       "<style scoped>\n",
       "    .dataframe tbody tr th:only-of-type {\n",
       "        vertical-align: middle;\n",
       "    }\n",
       "\n",
       "    .dataframe tbody tr th {\n",
       "        vertical-align: top;\n",
       "    }\n",
       "\n",
       "    .dataframe thead th {\n",
       "        text-align: right;\n",
       "    }\n",
       "</style>\n",
       "<table border=\"1\" class=\"dataframe\">\n",
       "  <thead>\n",
       "    <tr style=\"text-align: right;\">\n",
       "      <th></th>\n",
       "      <th>id</th>\n",
       "      <th>url</th>\n",
       "      <th>region</th>\n",
       "      <th>region_url</th>\n",
       "      <th>price</th>\n",
       "      <th>year</th>\n",
       "      <th>manufacturer</th>\n",
       "      <th>model</th>\n",
       "      <th>fuel</th>\n",
       "      <th>odometer</th>\n",
       "      <th>title_status</th>\n",
       "      <th>transmission</th>\n",
       "      <th>image_url</th>\n",
       "      <th>description</th>\n",
       "      <th>state</th>\n",
       "      <th>lat</th>\n",
       "      <th>long</th>\n",
       "      <th>posting_date</th>\n",
       "      <th>price_category</th>\n",
       "      <th>date</th>\n",
       "    </tr>\n",
       "  </thead>\n",
       "  <tbody>\n",
       "    <tr>\n",
       "      <th>27</th>\n",
       "      <td>7311516735</td>\n",
       "      <td>https://easttexas.craigslist.org/cto/d/lufkin-...</td>\n",
       "      <td>tyler / east TX</td>\n",
       "      <td>https://easttexas.craigslist.org</td>\n",
       "      <td>17000</td>\n",
       "      <td>2003</td>\n",
       "      <td>dodge</td>\n",
       "      <td>3500</td>\n",
       "      <td>diesel</td>\n",
       "      <td>283466</td>\n",
       "      <td>clean</td>\n",
       "      <td>automatic</td>\n",
       "      <td>https://images.craigslist.org/00Q0Q_8WsRzpw9LV...</td>\n",
       "      <td>2003 Dodge 3500 4x4 diesel dually. It has 307k...</td>\n",
       "      <td>tx</td>\n",
       "      <td>31.270000</td>\n",
       "      <td>-94.646900</td>\n",
       "      <td>2021-04-23T14:27:25-0500</td>\n",
       "      <td>medium</td>\n",
       "      <td>2021-04-23 19:27:25+00:00</td>\n",
       "    </tr>\n",
       "    <tr>\n",
       "      <th>114</th>\n",
       "      <td>7310943842</td>\n",
       "      <td>https://showlow.craigslist.org/ctd/d/pinetop-2...</td>\n",
       "      <td>show low</td>\n",
       "      <td>https://showlow.craigslist.org</td>\n",
       "      <td>2795</td>\n",
       "      <td>2004</td>\n",
       "      <td>mazda</td>\n",
       "      <td>tribute</td>\n",
       "      <td>gas</td>\n",
       "      <td>283466</td>\n",
       "      <td>clean</td>\n",
       "      <td>automatic</td>\n",
       "      <td>https://images.craigslist.org/00y0y_9hjvC3qkk3...</td>\n",
       "      <td>ACCUSHINE AUTO SALES 1827 E. WHITE MTN. BLVD. ...</td>\n",
       "      <td>az</td>\n",
       "      <td>34.117500</td>\n",
       "      <td>-109.919700</td>\n",
       "      <td>2021-04-22T10:52:07-0700</td>\n",
       "      <td>low</td>\n",
       "      <td>2021-04-22 17:52:07+00:00</td>\n",
       "    </tr>\n",
       "    <tr>\n",
       "      <th>385</th>\n",
       "      <td>7306101528</td>\n",
       "      <td>https://desmoines.craigslist.org/ctd/d/windom-...</td>\n",
       "      <td>des moines</td>\n",
       "      <td>https://desmoines.craigslist.org</td>\n",
       "      <td>58125</td>\n",
       "      <td>2013</td>\n",
       "      <td>other</td>\n",
       "      <td>CATERPILLAR CT660S</td>\n",
       "      <td>diesel</td>\n",
       "      <td>283466</td>\n",
       "      <td>clean</td>\n",
       "      <td>automatic</td>\n",
       "      <td>https://images.craigslist.org/00I0I_UkoGuDPqYZ...</td>\n",
       "      <td>LA MOTORSPORTS DIESELTRUCKSMN.COM  2013 CATERP...</td>\n",
       "      <td>ia</td>\n",
       "      <td>43.863689</td>\n",
       "      <td>-95.113792</td>\n",
       "      <td>2021-04-13T08:34:24-0500</td>\n",
       "      <td>high</td>\n",
       "      <td>2021-04-13 13:34:24+00:00</td>\n",
       "    </tr>\n",
       "    <tr>\n",
       "      <th>444</th>\n",
       "      <td>7304168190</td>\n",
       "      <td>https://elpaso.craigslist.org/ctd/d/las-cruces...</td>\n",
       "      <td>el paso</td>\n",
       "      <td>https://elpaso.craigslist.org</td>\n",
       "      <td>16999</td>\n",
       "      <td>2016</td>\n",
       "      <td>jeep</td>\n",
       "      <td>renegade</td>\n",
       "      <td>gas</td>\n",
       "      <td>283466</td>\n",
       "      <td>clean</td>\n",
       "      <td>automatic</td>\n",
       "      <td>https://images.craigslist.org/00Q0Q_ajHii9qB6e...</td>\n",
       "      <td>‘16 Jeep Renegade Limited, auto, air, power wi...</td>\n",
       "      <td>tx</td>\n",
       "      <td>32.288990</td>\n",
       "      <td>-106.781616</td>\n",
       "      <td>2021-04-09T09:26:05-0600</td>\n",
       "      <td>medium</td>\n",
       "      <td>2021-04-09 15:26:05+00:00</td>\n",
       "    </tr>\n",
       "    <tr>\n",
       "      <th>552</th>\n",
       "      <td>7314722320</td>\n",
       "      <td>https://nh.craigslist.org/ctd/d/medford-2015-h...</td>\n",
       "      <td>new hampshire</td>\n",
       "      <td>https://nh.craigslist.org</td>\n",
       "      <td>26500</td>\n",
       "      <td>2015</td>\n",
       "      <td>other</td>\n",
       "      <td>HINO 268A</td>\n",
       "      <td>diesel</td>\n",
       "      <td>283466</td>\n",
       "      <td>clean</td>\n",
       "      <td>automatic</td>\n",
       "      <td>https://images.craigslist.org/01111_aEpkHS4iop...</td>\n",
       "      <td>2015 HINO 268A 24' REFRIG NCDL 260 HP, ALLISIO...</td>\n",
       "      <td>nh</td>\n",
       "      <td>42.417300</td>\n",
       "      <td>-71.108700</td>\n",
       "      <td>2021-04-30T07:30:45-0400</td>\n",
       "      <td>high</td>\n",
       "      <td>2021-04-30 11:30:45+00:00</td>\n",
       "    </tr>\n",
       "    <tr>\n",
       "      <th>...</th>\n",
       "      <td>...</td>\n",
       "      <td>...</td>\n",
       "      <td>...</td>\n",
       "      <td>...</td>\n",
       "      <td>...</td>\n",
       "      <td>...</td>\n",
       "      <td>...</td>\n",
       "      <td>...</td>\n",
       "      <td>...</td>\n",
       "      <td>...</td>\n",
       "      <td>...</td>\n",
       "      <td>...</td>\n",
       "      <td>...</td>\n",
       "      <td>...</td>\n",
       "      <td>...</td>\n",
       "      <td>...</td>\n",
       "      <td>...</td>\n",
       "      <td>...</td>\n",
       "      <td>...</td>\n",
       "      <td>...</td>\n",
       "    </tr>\n",
       "    <tr>\n",
       "      <th>9157</th>\n",
       "      <td>7314148003</td>\n",
       "      <td>https://kansascity.craigslist.org/cto/d/lees-s...</td>\n",
       "      <td>kansas city, MO</td>\n",
       "      <td>https://kansascity.craigslist.org</td>\n",
       "      <td>2999</td>\n",
       "      <td>2010</td>\n",
       "      <td>chevrolet</td>\n",
       "      <td>hhr ls</td>\n",
       "      <td>gas</td>\n",
       "      <td>283466</td>\n",
       "      <td>clean</td>\n",
       "      <td>automatic</td>\n",
       "      <td>https://images.craigslist.org/00n0n_h4YYCjZeD9...</td>\n",
       "      <td>2010 CHEVY HHR LS --- POWER LOCKS/WINDOWS/MIRR...</td>\n",
       "      <td>ks</td>\n",
       "      <td>38.851800</td>\n",
       "      <td>-94.394400</td>\n",
       "      <td>2021-04-28T20:15:49-0500</td>\n",
       "      <td>low</td>\n",
       "      <td>2021-04-29 01:15:49+00:00</td>\n",
       "    </tr>\n",
       "    <tr>\n",
       "      <th>9275</th>\n",
       "      <td>7313696556</td>\n",
       "      <td>https://mcallen.craigslist.org/cto/d/mcallen-2...</td>\n",
       "      <td>mcallen / edinburg</td>\n",
       "      <td>https://mcallen.craigslist.org</td>\n",
       "      <td>4500</td>\n",
       "      <td>2003</td>\n",
       "      <td>chevrolet</td>\n",
       "      <td>avalanche</td>\n",
       "      <td>gas</td>\n",
       "      <td>283466</td>\n",
       "      <td>clean</td>\n",
       "      <td>automatic</td>\n",
       "      <td>https://images.craigslist.org/00m0m_ey8pcui9d1...</td>\n",
       "      <td>Vendo mi Chevrolet Avalanche 2003 que está en ...</td>\n",
       "      <td>tx</td>\n",
       "      <td>26.215400</td>\n",
       "      <td>-98.235900</td>\n",
       "      <td>2021-04-27T23:10:38-0500</td>\n",
       "      <td>low</td>\n",
       "      <td>2021-04-28 04:10:38+00:00</td>\n",
       "    </tr>\n",
       "    <tr>\n",
       "      <th>9389</th>\n",
       "      <td>7306697432</td>\n",
       "      <td>https://knoxville.craigslist.org/cto/d/knoxvil...</td>\n",
       "      <td>knoxville</td>\n",
       "      <td>https://knoxville.craigslist.org</td>\n",
       "      <td>3550</td>\n",
       "      <td>2012</td>\n",
       "      <td>nissan</td>\n",
       "      <td>nv2500</td>\n",
       "      <td>gas</td>\n",
       "      <td>283466</td>\n",
       "      <td>clean</td>\n",
       "      <td>automatic</td>\n",
       "      <td>https://images.craigslist.org/00404_guoJBc6u6o...</td>\n",
       "      <td>Good running and driving van</td>\n",
       "      <td>tn</td>\n",
       "      <td>35.991800</td>\n",
       "      <td>-83.849600</td>\n",
       "      <td>2021-04-14T11:54:41-0400</td>\n",
       "      <td>low</td>\n",
       "      <td>2021-04-14 15:54:41+00:00</td>\n",
       "    </tr>\n",
       "    <tr>\n",
       "      <th>9500</th>\n",
       "      <td>7311709925</td>\n",
       "      <td>https://greatfalls.craigslist.org/cto/d/havre-...</td>\n",
       "      <td>great falls</td>\n",
       "      <td>https://greatfalls.craigslist.org</td>\n",
       "      <td>7000</td>\n",
       "      <td>2005</td>\n",
       "      <td>chevrolet</td>\n",
       "      <td>silverado</td>\n",
       "      <td>gas</td>\n",
       "      <td>283466</td>\n",
       "      <td>clean</td>\n",
       "      <td>automatic</td>\n",
       "      <td>https://images.craigslist.org/00808_hX52l6571o...</td>\n",
       "      <td>2005 Chevy 1500 LS, has 290k miles on it but h...</td>\n",
       "      <td>mt</td>\n",
       "      <td>48.542862</td>\n",
       "      <td>-109.695310</td>\n",
       "      <td>2021-04-23T20:41:47-0600</td>\n",
       "      <td>low</td>\n",
       "      <td>2021-04-24 02:41:47+00:00</td>\n",
       "    </tr>\n",
       "    <tr>\n",
       "      <th>9792</th>\n",
       "      <td>7305237859</td>\n",
       "      <td>https://delaware.craigslist.org/cto/d/delaware...</td>\n",
       "      <td>delaware</td>\n",
       "      <td>https://delaware.craigslist.org</td>\n",
       "      <td>58125</td>\n",
       "      <td>2022</td>\n",
       "      <td>other</td>\n",
       "      <td>Any make any model</td>\n",
       "      <td>other</td>\n",
       "      <td>283466</td>\n",
       "      <td>clean</td>\n",
       "      <td>other</td>\n",
       "      <td>https://images.craigslist.org/00S0S_k3A68PVXRC...</td>\n",
       "      <td>We come to you and give you an easy quick tran...</td>\n",
       "      <td>de</td>\n",
       "      <td>39.572500</td>\n",
       "      <td>-75.595700</td>\n",
       "      <td>2021-04-11T13:51:42-0400</td>\n",
       "      <td>high</td>\n",
       "      <td>2021-04-11 17:51:42+00:00</td>\n",
       "    </tr>\n",
       "  </tbody>\n",
       "</table>\n",
       "<p>91 rows × 20 columns</p>\n",
       "</div>"
      ],
      "text/plain": [
       "              id                                                url  \\\n",
       "27    7311516735  https://easttexas.craigslist.org/cto/d/lufkin-...   \n",
       "114   7310943842  https://showlow.craigslist.org/ctd/d/pinetop-2...   \n",
       "385   7306101528  https://desmoines.craigslist.org/ctd/d/windom-...   \n",
       "444   7304168190  https://elpaso.craigslist.org/ctd/d/las-cruces...   \n",
       "552   7314722320  https://nh.craigslist.org/ctd/d/medford-2015-h...   \n",
       "...          ...                                                ...   \n",
       "9157  7314148003  https://kansascity.craigslist.org/cto/d/lees-s...   \n",
       "9275  7313696556  https://mcallen.craigslist.org/cto/d/mcallen-2...   \n",
       "9389  7306697432  https://knoxville.craigslist.org/cto/d/knoxvil...   \n",
       "9500  7311709925  https://greatfalls.craigslist.org/cto/d/havre-...   \n",
       "9792  7305237859  https://delaware.craigslist.org/cto/d/delaware...   \n",
       "\n",
       "                  region                         region_url  price  year  \\\n",
       "27       tyler / east TX   https://easttexas.craigslist.org  17000  2003   \n",
       "114             show low     https://showlow.craigslist.org   2795  2004   \n",
       "385           des moines   https://desmoines.craigslist.org  58125  2013   \n",
       "444              el paso      https://elpaso.craigslist.org  16999  2016   \n",
       "552        new hampshire          https://nh.craigslist.org  26500  2015   \n",
       "...                  ...                                ...    ...   ...   \n",
       "9157     kansas city, MO  https://kansascity.craigslist.org   2999  2010   \n",
       "9275  mcallen / edinburg     https://mcallen.craigslist.org   4500  2003   \n",
       "9389           knoxville   https://knoxville.craigslist.org   3550  2012   \n",
       "9500         great falls  https://greatfalls.craigslist.org   7000  2005   \n",
       "9792            delaware    https://delaware.craigslist.org  58125  2022   \n",
       "\n",
       "     manufacturer               model    fuel  odometer title_status  \\\n",
       "27          dodge                3500  diesel    283466        clean   \n",
       "114         mazda             tribute     gas    283466        clean   \n",
       "385         other  CATERPILLAR CT660S  diesel    283466        clean   \n",
       "444          jeep            renegade     gas    283466        clean   \n",
       "552         other           HINO 268A  diesel    283466        clean   \n",
       "...           ...                 ...     ...       ...          ...   \n",
       "9157    chevrolet              hhr ls     gas    283466        clean   \n",
       "9275    chevrolet           avalanche     gas    283466        clean   \n",
       "9389       nissan              nv2500     gas    283466        clean   \n",
       "9500    chevrolet           silverado     gas    283466        clean   \n",
       "9792        other  Any make any model   other    283466        clean   \n",
       "\n",
       "     transmission                                          image_url  \\\n",
       "27      automatic  https://images.craigslist.org/00Q0Q_8WsRzpw9LV...   \n",
       "114     automatic  https://images.craigslist.org/00y0y_9hjvC3qkk3...   \n",
       "385     automatic  https://images.craigslist.org/00I0I_UkoGuDPqYZ...   \n",
       "444     automatic  https://images.craigslist.org/00Q0Q_ajHii9qB6e...   \n",
       "552     automatic  https://images.craigslist.org/01111_aEpkHS4iop...   \n",
       "...           ...                                                ...   \n",
       "9157    automatic  https://images.craigslist.org/00n0n_h4YYCjZeD9...   \n",
       "9275    automatic  https://images.craigslist.org/00m0m_ey8pcui9d1...   \n",
       "9389    automatic  https://images.craigslist.org/00404_guoJBc6u6o...   \n",
       "9500    automatic  https://images.craigslist.org/00808_hX52l6571o...   \n",
       "9792        other  https://images.craigslist.org/00S0S_k3A68PVXRC...   \n",
       "\n",
       "                                            description state        lat  \\\n",
       "27    2003 Dodge 3500 4x4 diesel dually. It has 307k...    tx  31.270000   \n",
       "114   ACCUSHINE AUTO SALES 1827 E. WHITE MTN. BLVD. ...    az  34.117500   \n",
       "385   LA MOTORSPORTS DIESELTRUCKSMN.COM  2013 CATERP...    ia  43.863689   \n",
       "444   ‘16 Jeep Renegade Limited, auto, air, power wi...    tx  32.288990   \n",
       "552   2015 HINO 268A 24' REFRIG NCDL 260 HP, ALLISIO...    nh  42.417300   \n",
       "...                                                 ...   ...        ...   \n",
       "9157  2010 CHEVY HHR LS --- POWER LOCKS/WINDOWS/MIRR...    ks  38.851800   \n",
       "9275  Vendo mi Chevrolet Avalanche 2003 que está en ...    tx  26.215400   \n",
       "9389                       Good running and driving van    tn  35.991800   \n",
       "9500  2005 Chevy 1500 LS, has 290k miles on it but h...    mt  48.542862   \n",
       "9792  We come to you and give you an easy quick tran...    de  39.572500   \n",
       "\n",
       "            long              posting_date price_category  \\\n",
       "27    -94.646900  2021-04-23T14:27:25-0500         medium   \n",
       "114  -109.919700  2021-04-22T10:52:07-0700            low   \n",
       "385   -95.113792  2021-04-13T08:34:24-0500           high   \n",
       "444  -106.781616  2021-04-09T09:26:05-0600         medium   \n",
       "552   -71.108700  2021-04-30T07:30:45-0400           high   \n",
       "...          ...                       ...            ...   \n",
       "9157  -94.394400  2021-04-28T20:15:49-0500            low   \n",
       "9275  -98.235900  2021-04-27T23:10:38-0500            low   \n",
       "9389  -83.849600  2021-04-14T11:54:41-0400            low   \n",
       "9500 -109.695310  2021-04-23T20:41:47-0600            low   \n",
       "9792  -75.595700  2021-04-11T13:51:42-0400           high   \n",
       "\n",
       "                          date  \n",
       "27   2021-04-23 19:27:25+00:00  \n",
       "114  2021-04-22 17:52:07+00:00  \n",
       "385  2021-04-13 13:34:24+00:00  \n",
       "444  2021-04-09 15:26:05+00:00  \n",
       "552  2021-04-30 11:30:45+00:00  \n",
       "...                        ...  \n",
       "9157 2021-04-29 01:15:49+00:00  \n",
       "9275 2021-04-28 04:10:38+00:00  \n",
       "9389 2021-04-14 15:54:41+00:00  \n",
       "9500 2021-04-24 02:41:47+00:00  \n",
       "9792 2021-04-11 17:51:42+00:00  \n",
       "\n",
       "[91 rows x 20 columns]"
      ]
     },
     "execution_count": 69,
     "metadata": {},
     "output_type": "execute_result"
    }
   ],
   "source": [
    "df_out[is_outlier_odometer]"
   ]
  },
  {
   "cell_type": "code",
   "execution_count": 70,
   "id": "79cb7efc",
   "metadata": {
    "hidden": true
   },
   "outputs": [],
   "source": [
    "df_out.loc[is_outlier_odometer, 'odometer'] = boundaries_odometer[1]"
   ]
  },
  {
   "cell_type": "code",
   "execution_count": 71,
   "id": "22259ee6",
   "metadata": {
    "hidden": true
   },
   "outputs": [
    {
     "data": {
      "text/plain": [
       "count      9997.000\n",
       "mean      93332.981\n",
       "std       63183.697\n",
       "min           0.000\n",
       "25%       39149.000\n",
       "50%       89000.000\n",
       "75%      136875.000\n",
       "max      283464.000\n",
       "Name: odometer, dtype: object"
      ]
     },
     "execution_count": 71,
     "metadata": {},
     "output_type": "execute_result"
    }
   ],
   "source": [
    "df_out.odometer.describe().apply(lambda x: f\"{x:0.3f}\")"
   ]
  },
  {
   "cell_type": "markdown",
   "id": "924ea483",
   "metadata": {
    "heading_collapsed": true,
    "hidden": true
   },
   "source": [
    "### Saving to a file"
   ]
  },
  {
   "cell_type": "code",
   "execution_count": 72,
   "id": "08bbd30e",
   "metadata": {
    "hidden": true
   },
   "outputs": [],
   "source": [
    "df_out.to_csv('data/df_out.csv', index=False)"
   ]
  },
  {
   "cell_type": "markdown",
   "id": "3b1a68ea",
   "metadata": {},
   "source": [
    "# Feature Engineering"
   ]
  },
  {
   "cell_type": "code",
   "execution_count": 74,
   "id": "2066b06d",
   "metadata": {},
   "outputs": [],
   "source": [
    "df_new = df_out.copy()"
   ]
  },
  {
   "cell_type": "markdown",
   "id": "ce2d2b05",
   "metadata": {
    "heading_collapsed": true
   },
   "source": [
    "## Creation of new columns"
   ]
  },
  {
   "cell_type": "code",
   "execution_count": 75,
   "id": "8295c7bb",
   "metadata": {
    "hidden": true
   },
   "outputs": [
    {
     "data": {
      "text/plain": [
       "(9997, 20)"
      ]
     },
     "execution_count": 75,
     "metadata": {},
     "output_type": "execute_result"
    }
   ],
   "source": [
    "df_new.shape"
   ]
  },
  {
   "cell_type": "code",
   "execution_count": 76,
   "id": "31afb602",
   "metadata": {
    "hidden": true
   },
   "outputs": [
    {
     "data": {
      "text/plain": [
       "0           2500\n",
       "1       explorer\n",
       "2           golf\n",
       "3           rav4\n",
       "4         altima\n",
       "          ...   \n",
       "9995        rav4\n",
       "9996    wrangler\n",
       "9997          a3\n",
       "9998     cayenne\n",
       "9999        1500\n",
       "Name: short_model, Length: 9997, dtype: object"
      ]
     },
     "execution_count": 76,
     "metadata": {},
     "output_type": "execute_result"
    }
   ],
   "source": [
    "df_new['short_model'] = df_new.model.apply(lambda x: x.lower().split()[0])\n",
    "df_new.short_model"
   ]
  },
  {
   "cell_type": "code",
   "execution_count": 77,
   "id": "2548cd25",
   "metadata": {
    "hidden": true
   },
   "outputs": [
    {
     "data": {
      "text/plain": [
       "0        chattanooga\n",
       "1        northjersey\n",
       "2               reno\n",
       "3       fayetteville\n",
       "4        newyorkcity\n",
       "            ...     \n",
       "9995      chautauqua\n",
       "9996      binghamton\n",
       "9997           salem\n",
       "9998         madison\n",
       "9999         norfolk\n",
       "Name: region_corrected, Length: 9997, dtype: object"
      ]
     },
     "execution_count": 77,
     "metadata": {},
     "output_type": "execute_result"
    }
   ],
   "source": [
    "df_new['region_corrected'] = df_new.apply(lambda x: x.region.lower().replace('  ', '').replace(' ', '').split('/')[0], axis=1)\n",
    "df_new['region_corrected']"
   ]
  },
  {
   "cell_type": "code",
   "execution_count": 78,
   "id": "c245e920",
   "metadata": {
    "hidden": true
   },
   "outputs": [
    {
     "data": {
      "text/plain": [
       "0       4482\n",
       "1        968\n",
       "2       4286\n",
       "3       3241\n",
       "4        538\n",
       "        ... \n",
       "9995    1710\n",
       "9996     948\n",
       "9997     909\n",
       "9998    3644\n",
       "9999    4483\n",
       "Name: desc_len, Length: 9997, dtype: int64"
      ]
     },
     "execution_count": 78,
     "metadata": {},
     "output_type": "execute_result"
    }
   ],
   "source": [
    "df_new['desc_len'] = df_new.apply(lambda x: len(x.description), axis=1)\n",
    "df_new['desc_len']"
   ]
  },
  {
   "cell_type": "code",
   "execution_count": 79,
   "id": "825b2f4e",
   "metadata": {
    "hidden": true
   },
   "outputs": [
    {
     "data": {
      "text/plain": [
       "0       0\n",
       "1       0\n",
       "2       0\n",
       "3       6\n",
       "4       1\n",
       "       ..\n",
       "9995    0\n",
       "9996    3\n",
       "9997    2\n",
       "9998    2\n",
       "9999    0\n",
       "Name: model_in_desc, Length: 9997, dtype: int64"
      ]
     },
     "execution_count": 79,
     "metadata": {},
     "output_type": "execute_result"
    }
   ],
   "source": [
    "df_new['model_in_desc'] = df_new.apply(lambda x: x.description.lower().count(x.model.lower()), axis=1)\n",
    "df_new['model_in_desc']"
   ]
  },
  {
   "cell_type": "code",
   "execution_count": 80,
   "id": "664fee2e",
   "metadata": {
    "code_folding": [
     0
    ],
    "hidden": true
   },
   "outputs": [
    {
     "data": {
      "text/plain": [
       "0           new\n",
       "1           new\n",
       "2           new\n",
       "3       average\n",
       "4           new\n",
       "         ...   \n",
       "9995        old\n",
       "9996    average\n",
       "9997    average\n",
       "9998        new\n",
       "9999        new\n",
       "Name: age_category, Length: 9997, dtype: object"
      ]
     },
     "execution_count": 80,
     "metadata": {},
     "output_type": "execute_result"
    }
   ],
   "source": [
    "def get_age_category(year):\n",
    "    age_category = ''\n",
    "    if year >= 2014:\n",
    "        age_category = 'new'\n",
    "    elif year < 2006:\n",
    "        age_category = 'old'\n",
    "    else:\n",
    "        age_category = 'average'\n",
    "   \n",
    "    return age_category\n",
    "\n",
    "df_new['age_category'] = df_new.apply(lambda x: get_age_category(x.year), axis=1)\n",
    "df_new['age_category']"
   ]
  },
  {
   "cell_type": "code",
   "execution_count": 81,
   "id": "3b404034",
   "metadata": {
    "hidden": true
   },
   "outputs": [
    {
     "data": {
      "text/plain": [
       "0       22\n",
       "1       20\n",
       "2       16\n",
       "3        4\n",
       "4        6\n",
       "        ..\n",
       "9995     4\n",
       "9996     8\n",
       "9997    25\n",
       "9998     7\n",
       "9999    22\n",
       "Name: model_len, Length: 9997, dtype: int64"
      ]
     },
     "execution_count": 81,
     "metadata": {},
     "output_type": "execute_result"
    }
   ],
   "source": [
    "df_new['model_len'] = df_new.apply(lambda x: len(x.model), axis=1)\n",
    "df_new['model_len']"
   ]
  },
  {
   "cell_type": "code",
   "execution_count": 82,
   "id": "db4ff6b9",
   "metadata": {
    "hidden": true
   },
   "outputs": [
    {
     "data": {
      "text/plain": [
       "0       5\n",
       "1       4\n",
       "2       3\n",
       "3       1\n",
       "4       1\n",
       "       ..\n",
       "9995    1\n",
       "9996    1\n",
       "9997    5\n",
       "9998    1\n",
       "9999    5\n",
       "Name: model_word_count, Length: 9997, dtype: int64"
      ]
     },
     "execution_count": 82,
     "metadata": {},
     "output_type": "execute_result"
    }
   ],
   "source": [
    "df_new['model_word_count'] = df_new.apply(lambda x: len(x.model.split()), axis=1)\n",
    "df_new['model_word_count']"
   ]
  },
  {
   "cell_type": "code",
   "execution_count": 83,
   "id": "ca8d1729",
   "metadata": {
    "hidden": true
   },
   "outputs": [
    {
     "data": {
      "text/plain": [
       "0       4\n",
       "1       5\n",
       "2       4\n",
       "3       4\n",
       "4       5\n",
       "       ..\n",
       "9995    4\n",
       "9996    5\n",
       "9997    4\n",
       "9998    4\n",
       "9999    4\n",
       "Name: month, Length: 9997, dtype: int64"
      ]
     },
     "execution_count": 83,
     "metadata": {},
     "output_type": "execute_result"
    }
   ],
   "source": [
    "df_new['month'] = df_new.date.dt.month\n",
    "df_new.month"
   ]
  },
  {
   "cell_type": "code",
   "execution_count": 84,
   "id": "60d0faf9",
   "metadata": {
    "hidden": true
   },
   "outputs": [
    {
     "data": {
      "text/plain": [
       "0       5\n",
       "1       0\n",
       "2       2\n",
       "3       5\n",
       "4       0\n",
       "       ..\n",
       "9995    5\n",
       "9996    0\n",
       "9997    3\n",
       "9998    2\n",
       "9999    5\n",
       "Name: dayofweek, Length: 9997, dtype: int64"
      ]
     },
     "execution_count": 84,
     "metadata": {},
     "output_type": "execute_result"
    }
   ],
   "source": [
    "df_new['dayofweek'] = df_new.date.dt.dayofweek\n",
    "df_new.dayofweek"
   ]
  },
  {
   "cell_type": "code",
   "execution_count": 85,
   "id": "4ff6df8d",
   "metadata": {
    "hidden": true
   },
   "outputs": [
    {
     "data": {
      "text/plain": [
       "0        1\n",
       "1        5\n",
       "2        4\n",
       "3        8\n",
       "4        0\n",
       "        ..\n",
       "9995    19\n",
       "9996    13\n",
       "9997    10\n",
       "9998     6\n",
       "9999     4\n",
       "Name: diff_years, Length: 9997, dtype: int64"
      ]
     },
     "execution_count": 85,
     "metadata": {},
     "output_type": "execute_result"
    }
   ],
   "source": [
    "df_new['diff_years'] = df_new.apply(lambda x: x.date.year - x.year, axis=1)\n",
    "df_new['diff_years']"
   ]
  },
  {
   "cell_type": "code",
   "execution_count": 86,
   "id": "87d307d8",
   "metadata": {
    "hidden": true
   },
   "outputs": [
    {
     "data": {
      "text/plain": [
       "(9997, 30)"
      ]
     },
     "execution_count": 86,
     "metadata": {},
     "output_type": "execute_result"
    }
   ],
   "source": [
    "df_new.shape"
   ]
  },
  {
   "cell_type": "markdown",
   "id": "3f1641ab",
   "metadata": {
    "heading_collapsed": true
   },
   "source": [
    "## Transformation of categorical data with OneHotEncoder"
   ]
  },
  {
   "cell_type": "code",
   "execution_count": 88,
   "id": "a528cdcf",
   "metadata": {
    "hidden": true
   },
   "outputs": [],
   "source": [
    "list_categ_columns = ['manufacturer', 'fuel', 'title_status', 'transmission', 'state', 'short_model',\n",
    "                      'region_corrected', 'age_category']"
   ]
  },
  {
   "cell_type": "code",
   "execution_count": 89,
   "id": "918e1230",
   "metadata": {
    "hidden": true
   },
   "outputs": [
    {
     "data": {
      "text/html": [
       "<div>\n",
       "<style scoped>\n",
       "    .dataframe tbody tr th:only-of-type {\n",
       "        vertical-align: middle;\n",
       "    }\n",
       "\n",
       "    .dataframe tbody tr th {\n",
       "        vertical-align: top;\n",
       "    }\n",
       "\n",
       "    .dataframe thead th {\n",
       "        text-align: right;\n",
       "    }\n",
       "</style>\n",
       "<table border=\"1\" class=\"dataframe\">\n",
       "  <thead>\n",
       "    <tr style=\"text-align: right;\">\n",
       "      <th></th>\n",
       "      <th>manufacturer</th>\n",
       "      <th>fuel</th>\n",
       "      <th>title_status</th>\n",
       "      <th>transmission</th>\n",
       "      <th>state</th>\n",
       "      <th>short_model</th>\n",
       "      <th>region_corrected</th>\n",
       "      <th>age_category</th>\n",
       "    </tr>\n",
       "  </thead>\n",
       "  <tbody>\n",
       "    <tr>\n",
       "      <th>0</th>\n",
       "      <td>ram</td>\n",
       "      <td>diesel</td>\n",
       "      <td>clean</td>\n",
       "      <td>other</td>\n",
       "      <td>tn</td>\n",
       "      <td>2500</td>\n",
       "      <td>chattanooga</td>\n",
       "      <td>new</td>\n",
       "    </tr>\n",
       "    <tr>\n",
       "      <th>1</th>\n",
       "      <td>ford</td>\n",
       "      <td>other</td>\n",
       "      <td>clean</td>\n",
       "      <td>automatic</td>\n",
       "      <td>nj</td>\n",
       "      <td>explorer</td>\n",
       "      <td>northjersey</td>\n",
       "      <td>new</td>\n",
       "    </tr>\n",
       "    <tr>\n",
       "      <th>2</th>\n",
       "      <td>volkswagen</td>\n",
       "      <td>gas</td>\n",
       "      <td>clean</td>\n",
       "      <td>other</td>\n",
       "      <td>ca</td>\n",
       "      <td>golf</td>\n",
       "      <td>reno</td>\n",
       "      <td>new</td>\n",
       "    </tr>\n",
       "    <tr>\n",
       "      <th>3</th>\n",
       "      <td>toyota</td>\n",
       "      <td>gas</td>\n",
       "      <td>clean</td>\n",
       "      <td>automatic</td>\n",
       "      <td>nc</td>\n",
       "      <td>rav4</td>\n",
       "      <td>fayetteville</td>\n",
       "      <td>average</td>\n",
       "    </tr>\n",
       "    <tr>\n",
       "      <th>4</th>\n",
       "      <td>nissan</td>\n",
       "      <td>gas</td>\n",
       "      <td>clean</td>\n",
       "      <td>automatic</td>\n",
       "      <td>ny</td>\n",
       "      <td>altima</td>\n",
       "      <td>newyorkcity</td>\n",
       "      <td>new</td>\n",
       "    </tr>\n",
       "  </tbody>\n",
       "</table>\n",
       "</div>"
      ],
      "text/plain": [
       "  manufacturer    fuel title_status transmission state short_model  \\\n",
       "0          ram  diesel        clean        other    tn        2500   \n",
       "1         ford   other        clean    automatic    nj    explorer   \n",
       "2   volkswagen     gas        clean        other    ca        golf   \n",
       "3       toyota     gas        clean    automatic    nc        rav4   \n",
       "4       nissan     gas        clean    automatic    ny      altima   \n",
       "\n",
       "  region_corrected age_category  \n",
       "0      chattanooga          new  \n",
       "1      northjersey          new  \n",
       "2             reno          new  \n",
       "3     fayetteville      average  \n",
       "4      newyorkcity          new  "
      ]
     },
     "execution_count": 89,
     "metadata": {},
     "output_type": "execute_result"
    }
   ],
   "source": [
    "df_new[list_categ_columns].head()"
   ]
  },
  {
   "cell_type": "code",
   "execution_count": 90,
   "id": "d63b45b5",
   "metadata": {
    "hidden": true
   },
   "outputs": [
    {
     "name": "stdout",
     "output_type": "stream",
     "text": [
      "(9997, 1438)\n"
     ]
    },
    {
     "data": {
      "text/plain": [
       "array([[0., 0., 0., ..., 0., 1., 0.],\n",
       "       [0., 0., 0., ..., 0., 1., 0.],\n",
       "       [0., 0., 0., ..., 0., 1., 0.],\n",
       "       ...,\n",
       "       [0., 0., 1., ..., 1., 0., 0.],\n",
       "       [0., 0., 0., ..., 0., 1., 0.],\n",
       "       [0., 0., 0., ..., 0., 1., 0.]])"
      ]
     },
     "execution_count": 90,
     "metadata": {},
     "output_type": "execute_result"
    }
   ],
   "source": [
    "ohe = OneHotEncoder(sparse=False)\n",
    "\n",
    "ohe.fit(df_new[list_categ_columns])\n",
    "ohe_data = ohe.transform(df_new[list_categ_columns])\n",
    "print(ohe_data.shape)\n",
    "ohe_data"
   ]
  },
  {
   "cell_type": "code",
   "execution_count": 91,
   "id": "391313a1",
   "metadata": {
    "hidden": true
   },
   "outputs": [
    {
     "data": {
      "text/plain": [
       "array(['x0_acura', 'x0_alfa-romeo', 'x0_audi', ..., 'x7_average',\n",
       "       'x7_new', 'x7_old'], dtype=object)"
      ]
     },
     "execution_count": 91,
     "metadata": {},
     "output_type": "execute_result"
    }
   ],
   "source": [
    "ohe.get_feature_names()"
   ]
  },
  {
   "cell_type": "code",
   "execution_count": 94,
   "id": "c74b097b",
   "metadata": {
    "hidden": true
   },
   "outputs": [
    {
     "data": {
      "text/html": [
       "<div>\n",
       "<style scoped>\n",
       "    .dataframe tbody tr th:only-of-type {\n",
       "        vertical-align: middle;\n",
       "    }\n",
       "\n",
       "    .dataframe tbody tr th {\n",
       "        vertical-align: top;\n",
       "    }\n",
       "\n",
       "    .dataframe thead th {\n",
       "        text-align: right;\n",
       "    }\n",
       "</style>\n",
       "<table border=\"1\" class=\"dataframe\">\n",
       "  <thead>\n",
       "    <tr style=\"text-align: right;\">\n",
       "      <th></th>\n",
       "      <th>id</th>\n",
       "      <th>url</th>\n",
       "      <th>region</th>\n",
       "      <th>region_url</th>\n",
       "      <th>price</th>\n",
       "      <th>year</th>\n",
       "      <th>manufacturer</th>\n",
       "      <th>model</th>\n",
       "      <th>fuel</th>\n",
       "      <th>odometer</th>\n",
       "      <th>...</th>\n",
       "      <th>x6_wyoming</th>\n",
       "      <th>x6_yakima</th>\n",
       "      <th>x6_york</th>\n",
       "      <th>x6_youngstown</th>\n",
       "      <th>x6_yuba-sutter</th>\n",
       "      <th>x6_yuma</th>\n",
       "      <th>x6_zanesville</th>\n",
       "      <th>x7_average</th>\n",
       "      <th>x7_new</th>\n",
       "      <th>x7_old</th>\n",
       "    </tr>\n",
       "  </thead>\n",
       "  <tbody>\n",
       "    <tr>\n",
       "      <th>0</th>\n",
       "      <td>7308295377</td>\n",
       "      <td>https://chattanooga.craigslist.org/ctd/d/chatt...</td>\n",
       "      <td>chattanooga</td>\n",
       "      <td>https://chattanooga.craigslist.org</td>\n",
       "      <td>54990</td>\n",
       "      <td>2020</td>\n",
       "      <td>ram</td>\n",
       "      <td>2500 crew cab big horn</td>\n",
       "      <td>diesel</td>\n",
       "      <td>27442</td>\n",
       "      <td>...</td>\n",
       "      <td>0.0</td>\n",
       "      <td>0.0</td>\n",
       "      <td>0.0</td>\n",
       "      <td>0.0</td>\n",
       "      <td>0.0</td>\n",
       "      <td>0.0</td>\n",
       "      <td>0.0</td>\n",
       "      <td>0.0</td>\n",
       "      <td>1.0</td>\n",
       "      <td>0.0</td>\n",
       "    </tr>\n",
       "    <tr>\n",
       "      <th>1</th>\n",
       "      <td>7316380095</td>\n",
       "      <td>https://newjersey.craigslist.org/ctd/d/carlsta...</td>\n",
       "      <td>north jersey</td>\n",
       "      <td>https://newjersey.craigslist.org</td>\n",
       "      <td>16942</td>\n",
       "      <td>2016</td>\n",
       "      <td>ford</td>\n",
       "      <td>explorer 4wd 4dr xlt</td>\n",
       "      <td>other</td>\n",
       "      <td>60023</td>\n",
       "      <td>...</td>\n",
       "      <td>0.0</td>\n",
       "      <td>0.0</td>\n",
       "      <td>0.0</td>\n",
       "      <td>0.0</td>\n",
       "      <td>0.0</td>\n",
       "      <td>0.0</td>\n",
       "      <td>0.0</td>\n",
       "      <td>0.0</td>\n",
       "      <td>1.0</td>\n",
       "      <td>0.0</td>\n",
       "    </tr>\n",
       "    <tr>\n",
       "      <th>2</th>\n",
       "      <td>7313733749</td>\n",
       "      <td>https://reno.craigslist.org/ctd/d/atlanta-2017...</td>\n",
       "      <td>reno / tahoe</td>\n",
       "      <td>https://reno.craigslist.org</td>\n",
       "      <td>35590</td>\n",
       "      <td>2017</td>\n",
       "      <td>volkswagen</td>\n",
       "      <td>golf r hatchback</td>\n",
       "      <td>gas</td>\n",
       "      <td>14048</td>\n",
       "      <td>...</td>\n",
       "      <td>0.0</td>\n",
       "      <td>0.0</td>\n",
       "      <td>0.0</td>\n",
       "      <td>0.0</td>\n",
       "      <td>0.0</td>\n",
       "      <td>0.0</td>\n",
       "      <td>0.0</td>\n",
       "      <td>0.0</td>\n",
       "      <td>1.0</td>\n",
       "      <td>0.0</td>\n",
       "    </tr>\n",
       "    <tr>\n",
       "      <th>3</th>\n",
       "      <td>7308210929</td>\n",
       "      <td>https://fayetteville.craigslist.org/ctd/d/rale...</td>\n",
       "      <td>fayetteville</td>\n",
       "      <td>https://fayetteville.craigslist.org</td>\n",
       "      <td>14500</td>\n",
       "      <td>2013</td>\n",
       "      <td>toyota</td>\n",
       "      <td>rav4</td>\n",
       "      <td>gas</td>\n",
       "      <td>117291</td>\n",
       "      <td>...</td>\n",
       "      <td>0.0</td>\n",
       "      <td>0.0</td>\n",
       "      <td>0.0</td>\n",
       "      <td>0.0</td>\n",
       "      <td>0.0</td>\n",
       "      <td>0.0</td>\n",
       "      <td>0.0</td>\n",
       "      <td>1.0</td>\n",
       "      <td>0.0</td>\n",
       "      <td>0.0</td>\n",
       "    </tr>\n",
       "    <tr>\n",
       "      <th>4</th>\n",
       "      <td>7316474668</td>\n",
       "      <td>https://newyork.craigslist.org/lgi/cto/d/baldw...</td>\n",
       "      <td>new york city</td>\n",
       "      <td>https://newyork.craigslist.org</td>\n",
       "      <td>21800</td>\n",
       "      <td>2021</td>\n",
       "      <td>nissan</td>\n",
       "      <td>altima</td>\n",
       "      <td>gas</td>\n",
       "      <td>8000</td>\n",
       "      <td>...</td>\n",
       "      <td>0.0</td>\n",
       "      <td>0.0</td>\n",
       "      <td>0.0</td>\n",
       "      <td>0.0</td>\n",
       "      <td>0.0</td>\n",
       "      <td>0.0</td>\n",
       "      <td>0.0</td>\n",
       "      <td>0.0</td>\n",
       "      <td>1.0</td>\n",
       "      <td>0.0</td>\n",
       "    </tr>\n",
       "  </tbody>\n",
       "</table>\n",
       "<p>5 rows × 1468 columns</p>\n",
       "</div>"
      ],
      "text/plain": [
       "           id                                                url  \\\n",
       "0  7308295377  https://chattanooga.craigslist.org/ctd/d/chatt...   \n",
       "1  7316380095  https://newjersey.craigslist.org/ctd/d/carlsta...   \n",
       "2  7313733749  https://reno.craigslist.org/ctd/d/atlanta-2017...   \n",
       "3  7308210929  https://fayetteville.craigslist.org/ctd/d/rale...   \n",
       "4  7316474668  https://newyork.craigslist.org/lgi/cto/d/baldw...   \n",
       "\n",
       "          region                           region_url  price  year  \\\n",
       "0    chattanooga   https://chattanooga.craigslist.org  54990  2020   \n",
       "1   north jersey     https://newjersey.craigslist.org  16942  2016   \n",
       "2   reno / tahoe          https://reno.craigslist.org  35590  2017   \n",
       "3   fayetteville  https://fayetteville.craigslist.org  14500  2013   \n",
       "4  new york city       https://newyork.craigslist.org  21800  2021   \n",
       "\n",
       "  manufacturer                   model    fuel  odometer  ... x6_wyoming  \\\n",
       "0          ram  2500 crew cab big horn  diesel     27442  ...        0.0   \n",
       "1         ford    explorer 4wd 4dr xlt   other     60023  ...        0.0   \n",
       "2   volkswagen        golf r hatchback     gas     14048  ...        0.0   \n",
       "3       toyota                    rav4     gas    117291  ...        0.0   \n",
       "4       nissan                  altima     gas      8000  ...        0.0   \n",
       "\n",
       "  x6_yakima x6_york x6_youngstown x6_yuba-sutter  x6_yuma  x6_zanesville  \\\n",
       "0       0.0     0.0           0.0            0.0      0.0            0.0   \n",
       "1       0.0     0.0           0.0            0.0      0.0            0.0   \n",
       "2       0.0     0.0           0.0            0.0      0.0            0.0   \n",
       "3       0.0     0.0           0.0            0.0      0.0            0.0   \n",
       "4       0.0     0.0           0.0            0.0      0.0            0.0   \n",
       "\n",
       "  x7_average x7_new x7_old  \n",
       "0        0.0    1.0    0.0  \n",
       "1        0.0    1.0    0.0  \n",
       "2        0.0    1.0    0.0  \n",
       "3        1.0    0.0    0.0  \n",
       "4        0.0    1.0    0.0  \n",
       "\n",
       "[5 rows x 1468 columns]"
      ]
     },
     "execution_count": 94,
     "metadata": {},
     "output_type": "execute_result"
    }
   ],
   "source": [
    "df_new[ohe.get_feature_names()] = ohe_data\n",
    "df_new.head()"
   ]
  },
  {
   "cell_type": "markdown",
   "id": "b262523b",
   "metadata": {
    "heading_collapsed": true
   },
   "source": [
    "## Data standartization "
   ]
  },
  {
   "cell_type": "code",
   "execution_count": 95,
   "id": "11b93e5b",
   "metadata": {
    "hidden": true
   },
   "outputs": [],
   "source": [
    "list_numer_columns = ['year', 'lat', 'long', 'desc_len', 'model_in_desc', 'model_len', 'model_word_count',\n",
    "                      'month', 'dayofweek', 'diff_years']"
   ]
  },
  {
   "cell_type": "code",
   "execution_count": 96,
   "id": "b632b968",
   "metadata": {
    "hidden": true
   },
   "outputs": [
    {
     "data": {
      "text/html": [
       "<div>\n",
       "<style scoped>\n",
       "    .dataframe tbody tr th:only-of-type {\n",
       "        vertical-align: middle;\n",
       "    }\n",
       "\n",
       "    .dataframe tbody tr th {\n",
       "        vertical-align: top;\n",
       "    }\n",
       "\n",
       "    .dataframe thead th {\n",
       "        text-align: right;\n",
       "    }\n",
       "</style>\n",
       "<table border=\"1\" class=\"dataframe\">\n",
       "  <thead>\n",
       "    <tr style=\"text-align: right;\">\n",
       "      <th></th>\n",
       "      <th>year</th>\n",
       "      <th>lat</th>\n",
       "      <th>long</th>\n",
       "      <th>desc_len</th>\n",
       "      <th>model_in_desc</th>\n",
       "      <th>model_len</th>\n",
       "      <th>model_word_count</th>\n",
       "      <th>month</th>\n",
       "      <th>dayofweek</th>\n",
       "      <th>diff_years</th>\n",
       "    </tr>\n",
       "  </thead>\n",
       "  <tbody>\n",
       "    <tr>\n",
       "      <th>0</th>\n",
       "      <td>2020</td>\n",
       "      <td>35.060000</td>\n",
       "      <td>-85.250000</td>\n",
       "      <td>4482</td>\n",
       "      <td>0</td>\n",
       "      <td>22</td>\n",
       "      <td>5</td>\n",
       "      <td>4</td>\n",
       "      <td>5</td>\n",
       "      <td>1</td>\n",
       "    </tr>\n",
       "    <tr>\n",
       "      <th>1</th>\n",
       "      <td>2016</td>\n",
       "      <td>40.821805</td>\n",
       "      <td>-74.061962</td>\n",
       "      <td>968</td>\n",
       "      <td>0</td>\n",
       "      <td>20</td>\n",
       "      <td>4</td>\n",
       "      <td>5</td>\n",
       "      <td>0</td>\n",
       "      <td>5</td>\n",
       "    </tr>\n",
       "    <tr>\n",
       "      <th>2</th>\n",
       "      <td>2017</td>\n",
       "      <td>33.779214</td>\n",
       "      <td>-84.411811</td>\n",
       "      <td>4286</td>\n",
       "      <td>0</td>\n",
       "      <td>16</td>\n",
       "      <td>3</td>\n",
       "      <td>4</td>\n",
       "      <td>2</td>\n",
       "      <td>4</td>\n",
       "    </tr>\n",
       "    <tr>\n",
       "      <th>3</th>\n",
       "      <td>2013</td>\n",
       "      <td>35.715954</td>\n",
       "      <td>-78.655304</td>\n",
       "      <td>3241</td>\n",
       "      <td>6</td>\n",
       "      <td>4</td>\n",
       "      <td>1</td>\n",
       "      <td>4</td>\n",
       "      <td>5</td>\n",
       "      <td>8</td>\n",
       "    </tr>\n",
       "    <tr>\n",
       "      <th>4</th>\n",
       "      <td>2021</td>\n",
       "      <td>40.654800</td>\n",
       "      <td>-73.609700</td>\n",
       "      <td>538</td>\n",
       "      <td>1</td>\n",
       "      <td>6</td>\n",
       "      <td>1</td>\n",
       "      <td>5</td>\n",
       "      <td>0</td>\n",
       "      <td>0</td>\n",
       "    </tr>\n",
       "  </tbody>\n",
       "</table>\n",
       "</div>"
      ],
      "text/plain": [
       "   year        lat       long  desc_len  model_in_desc  model_len  \\\n",
       "0  2020  35.060000 -85.250000      4482              0         22   \n",
       "1  2016  40.821805 -74.061962       968              0         20   \n",
       "2  2017  33.779214 -84.411811      4286              0         16   \n",
       "3  2013  35.715954 -78.655304      3241              6          4   \n",
       "4  2021  40.654800 -73.609700       538              1          6   \n",
       "\n",
       "   model_word_count  month  dayofweek  diff_years  \n",
       "0                 5      4          5           1  \n",
       "1                 4      5          0           5  \n",
       "2                 3      4          2           4  \n",
       "3                 1      4          5           8  \n",
       "4                 1      5          0           0  "
      ]
     },
     "execution_count": 96,
     "metadata": {},
     "output_type": "execute_result"
    }
   ],
   "source": [
    "df_new[list_numer_columns].head()"
   ]
  },
  {
   "cell_type": "code",
   "execution_count": 97,
   "id": "d6acc300",
   "metadata": {
    "hidden": true
   },
   "outputs": [
    {
     "data": {
      "text/plain": [
       "array([[ 1.28840549, -0.60766541,  0.49410637, ..., -0.61261108,\n",
       "         1.11525394, -1.28840549],\n",
       "       [ 0.66493922,  0.3829114 ,  1.11429381, ...,  1.63235702,\n",
       "        -1.37384984, -0.66493922],\n",
       "       [ 0.82080579, -0.82785976,  0.54056977, ..., -0.61261108,\n",
       "        -0.37820833, -0.82080579],\n",
       "       ...,\n",
       "       [-0.11439362,  1.08849398, -1.59753646, ..., -0.61261108,\n",
       "         0.11961243,  0.11439362],\n",
       "       [ 0.50907265,  0.76247126,  0.26418125, ..., -0.61261108,\n",
       "        -0.37820833, -0.50907265],\n",
       "       [ 0.82080579, -0.33087217,  0.99023246, ..., -0.61261108,\n",
       "         1.11525394, -0.82080579]])"
      ]
     },
     "execution_count": 97,
     "metadata": {},
     "output_type": "execute_result"
    }
   ],
   "source": [
    "std_scaler = StandardScaler()\n",
    "\n",
    "std_scaler.fit(df_new[list_numer_columns])\n",
    "std_scaled = std_scaler.transform(df_new[list_numer_columns])\n",
    "std_scaled"
   ]
  },
  {
   "cell_type": "code",
   "execution_count": 98,
   "id": "a7d508ff",
   "metadata": {
    "hidden": true
   },
   "outputs": [],
   "source": [
    "list_numer_columns_std = ['year_std', 'lat_std', 'long_std', 'desc_len_std', 'model_in_desc_std', 'model_len_std',\n",
    "                          'model_word_count_std', 'month_std', 'dayofweek_std', 'diff_years_std']"
   ]
  },
  {
   "cell_type": "code",
   "execution_count": 99,
   "id": "20af21db",
   "metadata": {
    "hidden": true
   },
   "outputs": [
    {
     "data": {
      "text/html": [
       "<div>\n",
       "<style scoped>\n",
       "    .dataframe tbody tr th:only-of-type {\n",
       "        vertical-align: middle;\n",
       "    }\n",
       "\n",
       "    .dataframe tbody tr th {\n",
       "        vertical-align: top;\n",
       "    }\n",
       "\n",
       "    .dataframe thead th {\n",
       "        text-align: right;\n",
       "    }\n",
       "</style>\n",
       "<table border=\"1\" class=\"dataframe\">\n",
       "  <thead>\n",
       "    <tr style=\"text-align: right;\">\n",
       "      <th></th>\n",
       "      <th>id</th>\n",
       "      <th>url</th>\n",
       "      <th>region</th>\n",
       "      <th>region_url</th>\n",
       "      <th>price</th>\n",
       "      <th>year</th>\n",
       "      <th>manufacturer</th>\n",
       "      <th>model</th>\n",
       "      <th>fuel</th>\n",
       "      <th>odometer</th>\n",
       "      <th>...</th>\n",
       "      <th>year_std</th>\n",
       "      <th>lat_std</th>\n",
       "      <th>long_std</th>\n",
       "      <th>desc_len_std</th>\n",
       "      <th>model_in_desc_std</th>\n",
       "      <th>model_len_std</th>\n",
       "      <th>model_word_count_std</th>\n",
       "      <th>month_std</th>\n",
       "      <th>dayofweek_std</th>\n",
       "      <th>diff_years_std</th>\n",
       "    </tr>\n",
       "  </thead>\n",
       "  <tbody>\n",
       "    <tr>\n",
       "      <th>0</th>\n",
       "      <td>7308295377</td>\n",
       "      <td>https://chattanooga.craigslist.org/ctd/d/chatt...</td>\n",
       "      <td>chattanooga</td>\n",
       "      <td>https://chattanooga.craigslist.org</td>\n",
       "      <td>54990</td>\n",
       "      <td>2020</td>\n",
       "      <td>ram</td>\n",
       "      <td>2500 crew cab big horn</td>\n",
       "      <td>diesel</td>\n",
       "      <td>27442</td>\n",
       "      <td>...</td>\n",
       "      <td>1.288405</td>\n",
       "      <td>-0.607665</td>\n",
       "      <td>0.494106</td>\n",
       "      <td>0.606561</td>\n",
       "      <td>-0.482778</td>\n",
       "      <td>1.159516</td>\n",
       "      <td>1.909927</td>\n",
       "      <td>-0.612611</td>\n",
       "      <td>1.115254</td>\n",
       "      <td>-1.288405</td>\n",
       "    </tr>\n",
       "    <tr>\n",
       "      <th>1</th>\n",
       "      <td>7316380095</td>\n",
       "      <td>https://newjersey.craigslist.org/ctd/d/carlsta...</td>\n",
       "      <td>north jersey</td>\n",
       "      <td>https://newjersey.craigslist.org</td>\n",
       "      <td>16942</td>\n",
       "      <td>2016</td>\n",
       "      <td>ford</td>\n",
       "      <td>explorer 4wd 4dr xlt</td>\n",
       "      <td>other</td>\n",
       "      <td>60023</td>\n",
       "      <td>...</td>\n",
       "      <td>0.664939</td>\n",
       "      <td>0.382911</td>\n",
       "      <td>1.114294</td>\n",
       "      <td>-0.659290</td>\n",
       "      <td>-0.482778</td>\n",
       "      <td>0.929095</td>\n",
       "      <td>1.235363</td>\n",
       "      <td>1.632357</td>\n",
       "      <td>-1.373850</td>\n",
       "      <td>-0.664939</td>\n",
       "    </tr>\n",
       "    <tr>\n",
       "      <th>2</th>\n",
       "      <td>7313733749</td>\n",
       "      <td>https://reno.craigslist.org/ctd/d/atlanta-2017...</td>\n",
       "      <td>reno / tahoe</td>\n",
       "      <td>https://reno.craigslist.org</td>\n",
       "      <td>35590</td>\n",
       "      <td>2017</td>\n",
       "      <td>volkswagen</td>\n",
       "      <td>golf r hatchback</td>\n",
       "      <td>gas</td>\n",
       "      <td>14048</td>\n",
       "      <td>...</td>\n",
       "      <td>0.820806</td>\n",
       "      <td>-0.827860</td>\n",
       "      <td>0.540570</td>\n",
       "      <td>0.535956</td>\n",
       "      <td>-0.482778</td>\n",
       "      <td>0.468253</td>\n",
       "      <td>0.560798</td>\n",
       "      <td>-0.612611</td>\n",
       "      <td>-0.378208</td>\n",
       "      <td>-0.820806</td>\n",
       "    </tr>\n",
       "    <tr>\n",
       "      <th>3</th>\n",
       "      <td>7308210929</td>\n",
       "      <td>https://fayetteville.craigslist.org/ctd/d/rale...</td>\n",
       "      <td>fayetteville</td>\n",
       "      <td>https://fayetteville.craigslist.org</td>\n",
       "      <td>14500</td>\n",
       "      <td>2013</td>\n",
       "      <td>toyota</td>\n",
       "      <td>rav4</td>\n",
       "      <td>gas</td>\n",
       "      <td>117291</td>\n",
       "      <td>...</td>\n",
       "      <td>0.197340</td>\n",
       "      <td>-0.494893</td>\n",
       "      <td>0.859671</td>\n",
       "      <td>0.159515</td>\n",
       "      <td>0.419818</td>\n",
       "      <td>-0.914275</td>\n",
       "      <td>-0.788330</td>\n",
       "      <td>-0.612611</td>\n",
       "      <td>1.115254</td>\n",
       "      <td>-0.197340</td>\n",
       "    </tr>\n",
       "    <tr>\n",
       "      <th>4</th>\n",
       "      <td>7316474668</td>\n",
       "      <td>https://newyork.craigslist.org/lgi/cto/d/baldw...</td>\n",
       "      <td>new york city</td>\n",
       "      <td>https://newyork.craigslist.org</td>\n",
       "      <td>21800</td>\n",
       "      <td>2021</td>\n",
       "      <td>nissan</td>\n",
       "      <td>altima</td>\n",
       "      <td>gas</td>\n",
       "      <td>8000</td>\n",
       "      <td>...</td>\n",
       "      <td>1.444272</td>\n",
       "      <td>0.354200</td>\n",
       "      <td>1.139364</td>\n",
       "      <td>-0.814189</td>\n",
       "      <td>-0.332346</td>\n",
       "      <td>-0.683853</td>\n",
       "      <td>-0.788330</td>\n",
       "      <td>1.632357</td>\n",
       "      <td>-1.373850</td>\n",
       "      <td>-1.444272</td>\n",
       "    </tr>\n",
       "  </tbody>\n",
       "</table>\n",
       "<p>5 rows × 1478 columns</p>\n",
       "</div>"
      ],
      "text/plain": [
       "           id                                                url  \\\n",
       "0  7308295377  https://chattanooga.craigslist.org/ctd/d/chatt...   \n",
       "1  7316380095  https://newjersey.craigslist.org/ctd/d/carlsta...   \n",
       "2  7313733749  https://reno.craigslist.org/ctd/d/atlanta-2017...   \n",
       "3  7308210929  https://fayetteville.craigslist.org/ctd/d/rale...   \n",
       "4  7316474668  https://newyork.craigslist.org/lgi/cto/d/baldw...   \n",
       "\n",
       "          region                           region_url  price  year  \\\n",
       "0    chattanooga   https://chattanooga.craigslist.org  54990  2020   \n",
       "1   north jersey     https://newjersey.craigslist.org  16942  2016   \n",
       "2   reno / tahoe          https://reno.craigslist.org  35590  2017   \n",
       "3   fayetteville  https://fayetteville.craigslist.org  14500  2013   \n",
       "4  new york city       https://newyork.craigslist.org  21800  2021   \n",
       "\n",
       "  manufacturer                   model    fuel  odometer  ...  year_std  \\\n",
       "0          ram  2500 crew cab big horn  diesel     27442  ...  1.288405   \n",
       "1         ford    explorer 4wd 4dr xlt   other     60023  ...  0.664939   \n",
       "2   volkswagen        golf r hatchback     gas     14048  ...  0.820806   \n",
       "3       toyota                    rav4     gas    117291  ...  0.197340   \n",
       "4       nissan                  altima     gas      8000  ...  1.444272   \n",
       "\n",
       "    lat_std  long_std desc_len_std model_in_desc_std  model_len_std  \\\n",
       "0 -0.607665  0.494106     0.606561         -0.482778       1.159516   \n",
       "1  0.382911  1.114294    -0.659290         -0.482778       0.929095   \n",
       "2 -0.827860  0.540570     0.535956         -0.482778       0.468253   \n",
       "3 -0.494893  0.859671     0.159515          0.419818      -0.914275   \n",
       "4  0.354200  1.139364    -0.814189         -0.332346      -0.683853   \n",
       "\n",
       "   model_word_count_std month_std dayofweek_std diff_years_std  \n",
       "0              1.909927 -0.612611      1.115254      -1.288405  \n",
       "1              1.235363  1.632357     -1.373850      -0.664939  \n",
       "2              0.560798 -0.612611     -0.378208      -0.820806  \n",
       "3             -0.788330 -0.612611      1.115254      -0.197340  \n",
       "4             -0.788330  1.632357     -1.373850      -1.444272  \n",
       "\n",
       "[5 rows x 1478 columns]"
      ]
     },
     "execution_count": 99,
     "metadata": {},
     "output_type": "execute_result"
    }
   ],
   "source": [
    "df_new[list_numer_columns_std] = std_scaled\n",
    "df_new.head()"
   ]
  },
  {
   "cell_type": "markdown",
   "id": "708a2208",
   "metadata": {},
   "source": [
    "## Saving a data for the modeling phase"
   ]
  },
  {
   "cell_type": "code",
   "execution_count": 100,
   "id": "b3d11c41",
   "metadata": {},
   "outputs": [],
   "source": [
    "# Deleting original columns before conversion\n",
    "columns_for_drop = ['year', 'url', 'region', 'region_url', 'manufacturer', 'model', 'fuel', 'odometer', 'title_status',\n",
    "                    'transmission', 'image_url', 'description', 'state', 'lat', 'long', 'posting_date', 'region_corrected',\n",
    "                    'desc_len', 'model_in_desc', 'age_category', 'model_len', 'model_word_count', 'short_model', 'date',\n",
    "                    'month', 'dayofweek', 'diff_years']"
   ]
  },
  {
   "cell_type": "code",
   "execution_count": 101,
   "id": "b702d2b0",
   "metadata": {},
   "outputs": [
    {
     "data": {
      "text/html": [
       "<div>\n",
       "<style scoped>\n",
       "    .dataframe tbody tr th:only-of-type {\n",
       "        vertical-align: middle;\n",
       "    }\n",
       "\n",
       "    .dataframe tbody tr th {\n",
       "        vertical-align: top;\n",
       "    }\n",
       "\n",
       "    .dataframe thead th {\n",
       "        text-align: right;\n",
       "    }\n",
       "</style>\n",
       "<table border=\"1\" class=\"dataframe\">\n",
       "  <thead>\n",
       "    <tr style=\"text-align: right;\">\n",
       "      <th></th>\n",
       "      <th>id</th>\n",
       "      <th>price</th>\n",
       "      <th>price_category</th>\n",
       "      <th>x0_acura</th>\n",
       "      <th>x0_alfa-romeo</th>\n",
       "      <th>x0_audi</th>\n",
       "      <th>x0_bmw</th>\n",
       "      <th>x0_buick</th>\n",
       "      <th>x0_cadillac</th>\n",
       "      <th>x0_chevrolet</th>\n",
       "      <th>...</th>\n",
       "      <th>year_std</th>\n",
       "      <th>lat_std</th>\n",
       "      <th>long_std</th>\n",
       "      <th>desc_len_std</th>\n",
       "      <th>model_in_desc_std</th>\n",
       "      <th>model_len_std</th>\n",
       "      <th>model_word_count_std</th>\n",
       "      <th>month_std</th>\n",
       "      <th>dayofweek_std</th>\n",
       "      <th>diff_years_std</th>\n",
       "    </tr>\n",
       "  </thead>\n",
       "  <tbody>\n",
       "    <tr>\n",
       "      <th>0</th>\n",
       "      <td>7308295377</td>\n",
       "      <td>54990</td>\n",
       "      <td>high</td>\n",
       "      <td>0.0</td>\n",
       "      <td>0.0</td>\n",
       "      <td>0.0</td>\n",
       "      <td>0.0</td>\n",
       "      <td>0.0</td>\n",
       "      <td>0.0</td>\n",
       "      <td>0.0</td>\n",
       "      <td>...</td>\n",
       "      <td>1.288405</td>\n",
       "      <td>-0.607665</td>\n",
       "      <td>0.494106</td>\n",
       "      <td>0.606561</td>\n",
       "      <td>-0.482778</td>\n",
       "      <td>1.159516</td>\n",
       "      <td>1.909927</td>\n",
       "      <td>-0.612611</td>\n",
       "      <td>1.115254</td>\n",
       "      <td>-1.288405</td>\n",
       "    </tr>\n",
       "    <tr>\n",
       "      <th>1</th>\n",
       "      <td>7316380095</td>\n",
       "      <td>16942</td>\n",
       "      <td>medium</td>\n",
       "      <td>0.0</td>\n",
       "      <td>0.0</td>\n",
       "      <td>0.0</td>\n",
       "      <td>0.0</td>\n",
       "      <td>0.0</td>\n",
       "      <td>0.0</td>\n",
       "      <td>0.0</td>\n",
       "      <td>...</td>\n",
       "      <td>0.664939</td>\n",
       "      <td>0.382911</td>\n",
       "      <td>1.114294</td>\n",
       "      <td>-0.659290</td>\n",
       "      <td>-0.482778</td>\n",
       "      <td>0.929095</td>\n",
       "      <td>1.235363</td>\n",
       "      <td>1.632357</td>\n",
       "      <td>-1.373850</td>\n",
       "      <td>-0.664939</td>\n",
       "    </tr>\n",
       "    <tr>\n",
       "      <th>2</th>\n",
       "      <td>7313733749</td>\n",
       "      <td>35590</td>\n",
       "      <td>high</td>\n",
       "      <td>0.0</td>\n",
       "      <td>0.0</td>\n",
       "      <td>0.0</td>\n",
       "      <td>0.0</td>\n",
       "      <td>0.0</td>\n",
       "      <td>0.0</td>\n",
       "      <td>0.0</td>\n",
       "      <td>...</td>\n",
       "      <td>0.820806</td>\n",
       "      <td>-0.827860</td>\n",
       "      <td>0.540570</td>\n",
       "      <td>0.535956</td>\n",
       "      <td>-0.482778</td>\n",
       "      <td>0.468253</td>\n",
       "      <td>0.560798</td>\n",
       "      <td>-0.612611</td>\n",
       "      <td>-0.378208</td>\n",
       "      <td>-0.820806</td>\n",
       "    </tr>\n",
       "    <tr>\n",
       "      <th>3</th>\n",
       "      <td>7308210929</td>\n",
       "      <td>14500</td>\n",
       "      <td>medium</td>\n",
       "      <td>0.0</td>\n",
       "      <td>0.0</td>\n",
       "      <td>0.0</td>\n",
       "      <td>0.0</td>\n",
       "      <td>0.0</td>\n",
       "      <td>0.0</td>\n",
       "      <td>0.0</td>\n",
       "      <td>...</td>\n",
       "      <td>0.197340</td>\n",
       "      <td>-0.494893</td>\n",
       "      <td>0.859671</td>\n",
       "      <td>0.159515</td>\n",
       "      <td>0.419818</td>\n",
       "      <td>-0.914275</td>\n",
       "      <td>-0.788330</td>\n",
       "      <td>-0.612611</td>\n",
       "      <td>1.115254</td>\n",
       "      <td>-0.197340</td>\n",
       "    </tr>\n",
       "    <tr>\n",
       "      <th>4</th>\n",
       "      <td>7316474668</td>\n",
       "      <td>21800</td>\n",
       "      <td>medium</td>\n",
       "      <td>0.0</td>\n",
       "      <td>0.0</td>\n",
       "      <td>0.0</td>\n",
       "      <td>0.0</td>\n",
       "      <td>0.0</td>\n",
       "      <td>0.0</td>\n",
       "      <td>0.0</td>\n",
       "      <td>...</td>\n",
       "      <td>1.444272</td>\n",
       "      <td>0.354200</td>\n",
       "      <td>1.139364</td>\n",
       "      <td>-0.814189</td>\n",
       "      <td>-0.332346</td>\n",
       "      <td>-0.683853</td>\n",
       "      <td>-0.788330</td>\n",
       "      <td>1.632357</td>\n",
       "      <td>-1.373850</td>\n",
       "      <td>-1.444272</td>\n",
       "    </tr>\n",
       "  </tbody>\n",
       "</table>\n",
       "<p>5 rows × 1451 columns</p>\n",
       "</div>"
      ],
      "text/plain": [
       "           id  price price_category  x0_acura  x0_alfa-romeo  x0_audi  x0_bmw  \\\n",
       "0  7308295377  54990           high       0.0            0.0      0.0     0.0   \n",
       "1  7316380095  16942         medium       0.0            0.0      0.0     0.0   \n",
       "2  7313733749  35590           high       0.0            0.0      0.0     0.0   \n",
       "3  7308210929  14500         medium       0.0            0.0      0.0     0.0   \n",
       "4  7316474668  21800         medium       0.0            0.0      0.0     0.0   \n",
       "\n",
       "   x0_buick  x0_cadillac  x0_chevrolet  ...  year_std   lat_std  long_std  \\\n",
       "0       0.0          0.0           0.0  ...  1.288405 -0.607665  0.494106   \n",
       "1       0.0          0.0           0.0  ...  0.664939  0.382911  1.114294   \n",
       "2       0.0          0.0           0.0  ...  0.820806 -0.827860  0.540570   \n",
       "3       0.0          0.0           0.0  ...  0.197340 -0.494893  0.859671   \n",
       "4       0.0          0.0           0.0  ...  1.444272  0.354200  1.139364   \n",
       "\n",
       "   desc_len_std  model_in_desc_std  model_len_std  model_word_count_std  \\\n",
       "0      0.606561          -0.482778       1.159516              1.909927   \n",
       "1     -0.659290          -0.482778       0.929095              1.235363   \n",
       "2      0.535956          -0.482778       0.468253              0.560798   \n",
       "3      0.159515           0.419818      -0.914275             -0.788330   \n",
       "4     -0.814189          -0.332346      -0.683853             -0.788330   \n",
       "\n",
       "   month_std  dayofweek_std  diff_years_std  \n",
       "0  -0.612611       1.115254       -1.288405  \n",
       "1   1.632357      -1.373850       -0.664939  \n",
       "2  -0.612611      -0.378208       -0.820806  \n",
       "3  -0.612611       1.115254       -0.197340  \n",
       "4   1.632357      -1.373850       -1.444272  \n",
       "\n",
       "[5 rows x 1451 columns]"
      ]
     },
     "execution_count": 101,
     "metadata": {},
     "output_type": "execute_result"
    }
   ],
   "source": [
    "df_prepared = df_new.drop(columns=columns_for_drop)\n",
    "df_prepared.head()"
   ]
  },
  {
   "cell_type": "code",
   "execution_count": 103,
   "id": "dfa458fb",
   "metadata": {},
   "outputs": [],
   "source": [
    "df_prepared.to_csv('data/vehicles_dataset_prepared.csv', index=False)"
   ]
  },
  {
   "cell_type": "code",
   "execution_count": null,
   "id": "796a733d",
   "metadata": {},
   "outputs": [],
   "source": []
  }
 ],
 "metadata": {
  "kernelspec": {
   "display_name": "Python 3 (ipykernel)",
   "language": "python",
   "name": "python3"
  },
  "language_info": {
   "codemirror_mode": {
    "name": "ipython",
    "version": 3
   },
   "file_extension": ".py",
   "mimetype": "text/x-python",
   "name": "python",
   "nbconvert_exporter": "python",
   "pygments_lexer": "ipython3",
   "version": "3.9.7"
  }
 },
 "nbformat": 4,
 "nbformat_minor": 5
}
